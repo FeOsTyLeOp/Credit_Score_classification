{
 "cells": [
  {
   "cell_type": "code",
   "execution_count": 1,
   "id": "bb2c07fa",
   "metadata": {
    "_cell_guid": "b1076dfc-b9ad-4769-8c92-a6c4dae69d19",
    "_uuid": "8f2839f25d086af736a60e9eeb907d3b93b6e0e5",
    "execution": {
     "iopub.execute_input": "2022-12-15T11:09:43.309027Z",
     "iopub.status.busy": "2022-12-15T11:09:43.308146Z",
     "iopub.status.idle": "2022-12-15T11:09:43.340805Z",
     "shell.execute_reply": "2022-12-15T11:09:43.338965Z"
    },
    "papermill": {
     "duration": 0.064697,
     "end_time": "2022-12-15T11:09:43.345326",
     "exception": false,
     "start_time": "2022-12-15T11:09:43.280629",
     "status": "completed"
    },
    "tags": []
   },
   "outputs": [
    {
     "name": "stdout",
     "output_type": "stream",
     "text": [
      "/kaggle/input/credit-score-classification/train.csv\n",
      "/kaggle/input/credit-score-classification/test.csv\n"
     ]
    }
   ],
   "source": [
    "# This Python 3 environment comes with many helpful analytics libraries installed\n",
    "# It is defined by the kaggle/python Docker image: https://github.com/kaggle/docker-python\n",
    "# For example, here's several helpful packages to load\n",
    "\n",
    "import numpy as np # linear algebra\n",
    "import pandas as pd # data processing, CSV file I/O (e.g. pd.read_csv)\n",
    "\n",
    "# Input data files are available in the read-only \"../input/\" directory\n",
    "# For example, running this (by clicking run or pressing Shift+Enter) will list all files under the input directory\n",
    "\n",
    "import os\n",
    "for dirname, _, filenames in os.walk('/kaggle/input'):\n",
    "    for filename in filenames:\n",
    "        print(os.path.join(dirname, filename))\n",
    "\n",
    "# You can write up to 20GB to the current directory (/kaggle/working/) that gets preserved as output when you create a version using \"Save & Run All\" \n",
    "# You can also write temporary files to /kaggle/temp/, but they won't be saved outside of the current session"
   ]
  },
  {
   "cell_type": "markdown",
   "id": "a1608614",
   "metadata": {
    "papermill": {
     "duration": 0.015647,
     "end_time": "2022-12-15T11:09:43.381225",
     "exception": false,
     "start_time": "2022-12-15T11:09:43.365578",
     "status": "completed"
    },
    "tags": []
   },
   "source": [
    "Credit score Classification"
   ]
  },
  {
   "cell_type": "code",
   "execution_count": 2,
   "id": "b7113a42",
   "metadata": {
    "execution": {
     "iopub.execute_input": "2022-12-15T11:09:43.415189Z",
     "iopub.status.busy": "2022-12-15T11:09:43.414727Z",
     "iopub.status.idle": "2022-12-15T11:09:45.049261Z",
     "shell.execute_reply": "2022-12-15T11:09:45.048322Z"
    },
    "papermill": {
     "duration": 1.655134,
     "end_time": "2022-12-15T11:09:45.051933",
     "exception": false,
     "start_time": "2022-12-15T11:09:43.396799",
     "status": "completed"
    },
    "tags": []
   },
   "outputs": [],
   "source": [
    "import pandas as pd\n",
    "import numpy as np\n",
    "import matplotlib.pyplot as plt\n",
    "import seaborn as sns\n",
    "from sklearn import tree\n",
    "%matplotlib inline\n",
    "from sklearn.model_selection import cross_val_score\n",
    "from sklearn.model_selection import GridSearchCV\n",
    "from sklearn.ensemble import RandomForestClassifier\n",
    "from sklearn.model_selection import train_test_split\n",
    "from sklearn.preprocessing import StandardScaler\n",
    "from sklearn.metrics import roc_auc_score\n",
    "from sklearn.linear_model import LogisticRegression\n",
    "from sklearn import preprocessing\n",
    "from sklearn import metrics\n",
    "from sklearn.metrics import accuracy_score"
   ]
  },
  {
   "cell_type": "code",
   "execution_count": 3,
   "id": "e4dcec7d",
   "metadata": {
    "execution": {
     "iopub.execute_input": "2022-12-15T11:09:45.082433Z",
     "iopub.status.busy": "2022-12-15T11:09:45.081964Z",
     "iopub.status.idle": "2022-12-15T11:09:47.355801Z",
     "shell.execute_reply": "2022-12-15T11:09:47.354449Z"
    },
    "papermill": {
     "duration": 2.292604,
     "end_time": "2022-12-15T11:09:47.358905",
     "exception": false,
     "start_time": "2022-12-15T11:09:45.066301",
     "status": "completed"
    },
    "tags": []
   },
   "outputs": [
    {
     "name": "stderr",
     "output_type": "stream",
     "text": [
      "/opt/conda/lib/python3.7/site-packages/IPython/core/interactiveshell.py:3552: DtypeWarning: Columns (26) have mixed types.Specify dtype option on import or set low_memory=False.\n",
      "  exec(code_obj, self.user_global_ns, self.user_ns)\n"
     ]
    }
   ],
   "source": [
    "train_df = pd.read_csv(\"../input/credit-score-classification/train.csv\")\n",
    "test_df = pd.read_csv(\"../input/credit-score-classification/test.csv\")"
   ]
  },
  {
   "cell_type": "code",
   "execution_count": 4,
   "id": "dfaacc87",
   "metadata": {
    "execution": {
     "iopub.execute_input": "2022-12-15T11:09:47.390579Z",
     "iopub.status.busy": "2022-12-15T11:09:47.390076Z",
     "iopub.status.idle": "2022-12-15T11:09:47.431674Z",
     "shell.execute_reply": "2022-12-15T11:09:47.430627Z"
    },
    "papermill": {
     "duration": 0.060649,
     "end_time": "2022-12-15T11:09:47.434342",
     "exception": false,
     "start_time": "2022-12-15T11:09:47.373693",
     "status": "completed"
    },
    "tags": []
   },
   "outputs": [
    {
     "data": {
      "text/html": [
       "<div>\n",
       "<style scoped>\n",
       "    .dataframe tbody tr th:only-of-type {\n",
       "        vertical-align: middle;\n",
       "    }\n",
       "\n",
       "    .dataframe tbody tr th {\n",
       "        vertical-align: top;\n",
       "    }\n",
       "\n",
       "    .dataframe thead th {\n",
       "        text-align: right;\n",
       "    }\n",
       "</style>\n",
       "<table border=\"1\" class=\"dataframe\">\n",
       "  <thead>\n",
       "    <tr style=\"text-align: right;\">\n",
       "      <th></th>\n",
       "      <th>ID</th>\n",
       "      <th>Customer_ID</th>\n",
       "      <th>Month</th>\n",
       "      <th>Name</th>\n",
       "      <th>Age</th>\n",
       "      <th>SSN</th>\n",
       "      <th>Occupation</th>\n",
       "      <th>Annual_Income</th>\n",
       "      <th>Monthly_Inhand_Salary</th>\n",
       "      <th>Num_Bank_Accounts</th>\n",
       "      <th>...</th>\n",
       "      <th>Credit_Mix</th>\n",
       "      <th>Outstanding_Debt</th>\n",
       "      <th>Credit_Utilization_Ratio</th>\n",
       "      <th>Credit_History_Age</th>\n",
       "      <th>Payment_of_Min_Amount</th>\n",
       "      <th>Total_EMI_per_month</th>\n",
       "      <th>Amount_invested_monthly</th>\n",
       "      <th>Payment_Behaviour</th>\n",
       "      <th>Monthly_Balance</th>\n",
       "      <th>Credit_Score</th>\n",
       "    </tr>\n",
       "  </thead>\n",
       "  <tbody>\n",
       "    <tr>\n",
       "      <th>0</th>\n",
       "      <td>0x1602</td>\n",
       "      <td>CUS_0xd40</td>\n",
       "      <td>January</td>\n",
       "      <td>Aaron Maashoh</td>\n",
       "      <td>23</td>\n",
       "      <td>821-00-0265</td>\n",
       "      <td>Scientist</td>\n",
       "      <td>19114.12</td>\n",
       "      <td>1824.843333</td>\n",
       "      <td>3</td>\n",
       "      <td>...</td>\n",
       "      <td>_</td>\n",
       "      <td>809.98</td>\n",
       "      <td>26.822620</td>\n",
       "      <td>22 Years and 1 Months</td>\n",
       "      <td>No</td>\n",
       "      <td>49.574949</td>\n",
       "      <td>80.41529543900253</td>\n",
       "      <td>High_spent_Small_value_payments</td>\n",
       "      <td>312.49408867943663</td>\n",
       "      <td>Good</td>\n",
       "    </tr>\n",
       "    <tr>\n",
       "      <th>1</th>\n",
       "      <td>0x1603</td>\n",
       "      <td>CUS_0xd40</td>\n",
       "      <td>February</td>\n",
       "      <td>Aaron Maashoh</td>\n",
       "      <td>23</td>\n",
       "      <td>821-00-0265</td>\n",
       "      <td>Scientist</td>\n",
       "      <td>19114.12</td>\n",
       "      <td>NaN</td>\n",
       "      <td>3</td>\n",
       "      <td>...</td>\n",
       "      <td>Good</td>\n",
       "      <td>809.98</td>\n",
       "      <td>31.944960</td>\n",
       "      <td>NaN</td>\n",
       "      <td>No</td>\n",
       "      <td>49.574949</td>\n",
       "      <td>118.28022162236736</td>\n",
       "      <td>Low_spent_Large_value_payments</td>\n",
       "      <td>284.62916249607184</td>\n",
       "      <td>Good</td>\n",
       "    </tr>\n",
       "    <tr>\n",
       "      <th>2</th>\n",
       "      <td>0x1604</td>\n",
       "      <td>CUS_0xd40</td>\n",
       "      <td>March</td>\n",
       "      <td>Aaron Maashoh</td>\n",
       "      <td>-500</td>\n",
       "      <td>821-00-0265</td>\n",
       "      <td>Scientist</td>\n",
       "      <td>19114.12</td>\n",
       "      <td>NaN</td>\n",
       "      <td>3</td>\n",
       "      <td>...</td>\n",
       "      <td>Good</td>\n",
       "      <td>809.98</td>\n",
       "      <td>28.609352</td>\n",
       "      <td>22 Years and 3 Months</td>\n",
       "      <td>No</td>\n",
       "      <td>49.574949</td>\n",
       "      <td>81.699521264648</td>\n",
       "      <td>Low_spent_Medium_value_payments</td>\n",
       "      <td>331.2098628537912</td>\n",
       "      <td>Good</td>\n",
       "    </tr>\n",
       "    <tr>\n",
       "      <th>3</th>\n",
       "      <td>0x1605</td>\n",
       "      <td>CUS_0xd40</td>\n",
       "      <td>April</td>\n",
       "      <td>Aaron Maashoh</td>\n",
       "      <td>23</td>\n",
       "      <td>821-00-0265</td>\n",
       "      <td>Scientist</td>\n",
       "      <td>19114.12</td>\n",
       "      <td>NaN</td>\n",
       "      <td>3</td>\n",
       "      <td>...</td>\n",
       "      <td>Good</td>\n",
       "      <td>809.98</td>\n",
       "      <td>31.377862</td>\n",
       "      <td>22 Years and 4 Months</td>\n",
       "      <td>No</td>\n",
       "      <td>49.574949</td>\n",
       "      <td>199.4580743910713</td>\n",
       "      <td>Low_spent_Small_value_payments</td>\n",
       "      <td>223.45130972736786</td>\n",
       "      <td>Good</td>\n",
       "    </tr>\n",
       "    <tr>\n",
       "      <th>4</th>\n",
       "      <td>0x1606</td>\n",
       "      <td>CUS_0xd40</td>\n",
       "      <td>May</td>\n",
       "      <td>Aaron Maashoh</td>\n",
       "      <td>23</td>\n",
       "      <td>821-00-0265</td>\n",
       "      <td>Scientist</td>\n",
       "      <td>19114.12</td>\n",
       "      <td>1824.843333</td>\n",
       "      <td>3</td>\n",
       "      <td>...</td>\n",
       "      <td>Good</td>\n",
       "      <td>809.98</td>\n",
       "      <td>24.797347</td>\n",
       "      <td>22 Years and 5 Months</td>\n",
       "      <td>No</td>\n",
       "      <td>49.574949</td>\n",
       "      <td>41.420153086217326</td>\n",
       "      <td>High_spent_Medium_value_payments</td>\n",
       "      <td>341.48923103222177</td>\n",
       "      <td>Good</td>\n",
       "    </tr>\n",
       "  </tbody>\n",
       "</table>\n",
       "<p>5 rows × 28 columns</p>\n",
       "</div>"
      ],
      "text/plain": [
       "       ID Customer_ID     Month           Name   Age          SSN Occupation  \\\n",
       "0  0x1602   CUS_0xd40   January  Aaron Maashoh    23  821-00-0265  Scientist   \n",
       "1  0x1603   CUS_0xd40  February  Aaron Maashoh    23  821-00-0265  Scientist   \n",
       "2  0x1604   CUS_0xd40     March  Aaron Maashoh  -500  821-00-0265  Scientist   \n",
       "3  0x1605   CUS_0xd40     April  Aaron Maashoh    23  821-00-0265  Scientist   \n",
       "4  0x1606   CUS_0xd40       May  Aaron Maashoh    23  821-00-0265  Scientist   \n",
       "\n",
       "  Annual_Income  Monthly_Inhand_Salary  Num_Bank_Accounts  ...  Credit_Mix  \\\n",
       "0      19114.12            1824.843333                  3  ...           _   \n",
       "1      19114.12                    NaN                  3  ...        Good   \n",
       "2      19114.12                    NaN                  3  ...        Good   \n",
       "3      19114.12                    NaN                  3  ...        Good   \n",
       "4      19114.12            1824.843333                  3  ...        Good   \n",
       "\n",
       "   Outstanding_Debt Credit_Utilization_Ratio     Credit_History_Age  \\\n",
       "0            809.98                26.822620  22 Years and 1 Months   \n",
       "1            809.98                31.944960                    NaN   \n",
       "2            809.98                28.609352  22 Years and 3 Months   \n",
       "3            809.98                31.377862  22 Years and 4 Months   \n",
       "4            809.98                24.797347  22 Years and 5 Months   \n",
       "\n",
       "   Payment_of_Min_Amount Total_EMI_per_month Amount_invested_monthly  \\\n",
       "0                     No           49.574949       80.41529543900253   \n",
       "1                     No           49.574949      118.28022162236736   \n",
       "2                     No           49.574949         81.699521264648   \n",
       "3                     No           49.574949       199.4580743910713   \n",
       "4                     No           49.574949      41.420153086217326   \n",
       "\n",
       "                  Payment_Behaviour     Monthly_Balance Credit_Score  \n",
       "0   High_spent_Small_value_payments  312.49408867943663         Good  \n",
       "1    Low_spent_Large_value_payments  284.62916249607184         Good  \n",
       "2   Low_spent_Medium_value_payments   331.2098628537912         Good  \n",
       "3    Low_spent_Small_value_payments  223.45130972736786         Good  \n",
       "4  High_spent_Medium_value_payments  341.48923103222177         Good  \n",
       "\n",
       "[5 rows x 28 columns]"
      ]
     },
     "execution_count": 4,
     "metadata": {},
     "output_type": "execute_result"
    }
   ],
   "source": [
    "train_df.head()"
   ]
  },
  {
   "cell_type": "code",
   "execution_count": 5,
   "id": "01cdfd90",
   "metadata": {
    "execution": {
     "iopub.execute_input": "2022-12-15T11:09:47.469142Z",
     "iopub.status.busy": "2022-12-15T11:09:47.468050Z",
     "iopub.status.idle": "2022-12-15T11:09:47.495304Z",
     "shell.execute_reply": "2022-12-15T11:09:47.494431Z"
    },
    "papermill": {
     "duration": 0.046772,
     "end_time": "2022-12-15T11:09:47.497694",
     "exception": false,
     "start_time": "2022-12-15T11:09:47.450922",
     "status": "completed"
    },
    "tags": []
   },
   "outputs": [
    {
     "data": {
      "text/html": [
       "<div>\n",
       "<style scoped>\n",
       "    .dataframe tbody tr th:only-of-type {\n",
       "        vertical-align: middle;\n",
       "    }\n",
       "\n",
       "    .dataframe tbody tr th {\n",
       "        vertical-align: top;\n",
       "    }\n",
       "\n",
       "    .dataframe thead th {\n",
       "        text-align: right;\n",
       "    }\n",
       "</style>\n",
       "<table border=\"1\" class=\"dataframe\">\n",
       "  <thead>\n",
       "    <tr style=\"text-align: right;\">\n",
       "      <th></th>\n",
       "      <th>ID</th>\n",
       "      <th>Customer_ID</th>\n",
       "      <th>Month</th>\n",
       "      <th>Name</th>\n",
       "      <th>Age</th>\n",
       "      <th>SSN</th>\n",
       "      <th>Occupation</th>\n",
       "      <th>Annual_Income</th>\n",
       "      <th>Monthly_Inhand_Salary</th>\n",
       "      <th>Num_Bank_Accounts</th>\n",
       "      <th>...</th>\n",
       "      <th>Num_Credit_Inquiries</th>\n",
       "      <th>Credit_Mix</th>\n",
       "      <th>Outstanding_Debt</th>\n",
       "      <th>Credit_Utilization_Ratio</th>\n",
       "      <th>Credit_History_Age</th>\n",
       "      <th>Payment_of_Min_Amount</th>\n",
       "      <th>Total_EMI_per_month</th>\n",
       "      <th>Amount_invested_monthly</th>\n",
       "      <th>Payment_Behaviour</th>\n",
       "      <th>Monthly_Balance</th>\n",
       "    </tr>\n",
       "  </thead>\n",
       "  <tbody>\n",
       "    <tr>\n",
       "      <th>0</th>\n",
       "      <td>0x160a</td>\n",
       "      <td>CUS_0xd40</td>\n",
       "      <td>September</td>\n",
       "      <td>Aaron Maashoh</td>\n",
       "      <td>23</td>\n",
       "      <td>821-00-0265</td>\n",
       "      <td>Scientist</td>\n",
       "      <td>19114.12</td>\n",
       "      <td>1824.843333</td>\n",
       "      <td>3</td>\n",
       "      <td>...</td>\n",
       "      <td>2022.0</td>\n",
       "      <td>Good</td>\n",
       "      <td>809.98</td>\n",
       "      <td>35.030402</td>\n",
       "      <td>22 Years and 9 Months</td>\n",
       "      <td>No</td>\n",
       "      <td>49.574949</td>\n",
       "      <td>236.64268203272135</td>\n",
       "      <td>Low_spent_Small_value_payments</td>\n",
       "      <td>186.26670208571772</td>\n",
       "    </tr>\n",
       "    <tr>\n",
       "      <th>1</th>\n",
       "      <td>0x160b</td>\n",
       "      <td>CUS_0xd40</td>\n",
       "      <td>October</td>\n",
       "      <td>Aaron Maashoh</td>\n",
       "      <td>24</td>\n",
       "      <td>821-00-0265</td>\n",
       "      <td>Scientist</td>\n",
       "      <td>19114.12</td>\n",
       "      <td>1824.843333</td>\n",
       "      <td>3</td>\n",
       "      <td>...</td>\n",
       "      <td>4.0</td>\n",
       "      <td>Good</td>\n",
       "      <td>809.98</td>\n",
       "      <td>33.053114</td>\n",
       "      <td>22 Years and 10 Months</td>\n",
       "      <td>No</td>\n",
       "      <td>49.574949</td>\n",
       "      <td>21.465380264657146</td>\n",
       "      <td>High_spent_Medium_value_payments</td>\n",
       "      <td>361.44400385378196</td>\n",
       "    </tr>\n",
       "    <tr>\n",
       "      <th>2</th>\n",
       "      <td>0x160c</td>\n",
       "      <td>CUS_0xd40</td>\n",
       "      <td>November</td>\n",
       "      <td>Aaron Maashoh</td>\n",
       "      <td>24</td>\n",
       "      <td>821-00-0265</td>\n",
       "      <td>Scientist</td>\n",
       "      <td>19114.12</td>\n",
       "      <td>1824.843333</td>\n",
       "      <td>3</td>\n",
       "      <td>...</td>\n",
       "      <td>4.0</td>\n",
       "      <td>Good</td>\n",
       "      <td>809.98</td>\n",
       "      <td>33.811894</td>\n",
       "      <td>NaN</td>\n",
       "      <td>No</td>\n",
       "      <td>49.574949</td>\n",
       "      <td>148.23393788500925</td>\n",
       "      <td>Low_spent_Medium_value_payments</td>\n",
       "      <td>264.67544623342997</td>\n",
       "    </tr>\n",
       "    <tr>\n",
       "      <th>3</th>\n",
       "      <td>0x160d</td>\n",
       "      <td>CUS_0xd40</td>\n",
       "      <td>December</td>\n",
       "      <td>Aaron Maashoh</td>\n",
       "      <td>24_</td>\n",
       "      <td>821-00-0265</td>\n",
       "      <td>Scientist</td>\n",
       "      <td>19114.12</td>\n",
       "      <td>NaN</td>\n",
       "      <td>3</td>\n",
       "      <td>...</td>\n",
       "      <td>4.0</td>\n",
       "      <td>Good</td>\n",
       "      <td>809.98</td>\n",
       "      <td>32.430559</td>\n",
       "      <td>23 Years and 0 Months</td>\n",
       "      <td>No</td>\n",
       "      <td>49.574949</td>\n",
       "      <td>39.08251089460281</td>\n",
       "      <td>High_spent_Medium_value_payments</td>\n",
       "      <td>343.82687322383634</td>\n",
       "    </tr>\n",
       "    <tr>\n",
       "      <th>4</th>\n",
       "      <td>0x1616</td>\n",
       "      <td>CUS_0x21b1</td>\n",
       "      <td>September</td>\n",
       "      <td>Rick Rothackerj</td>\n",
       "      <td>28</td>\n",
       "      <td>004-07-5839</td>\n",
       "      <td>_______</td>\n",
       "      <td>34847.84</td>\n",
       "      <td>3037.986667</td>\n",
       "      <td>2</td>\n",
       "      <td>...</td>\n",
       "      <td>5.0</td>\n",
       "      <td>Good</td>\n",
       "      <td>605.03</td>\n",
       "      <td>25.926822</td>\n",
       "      <td>27 Years and 3 Months</td>\n",
       "      <td>No</td>\n",
       "      <td>18.816215</td>\n",
       "      <td>39.684018417945296</td>\n",
       "      <td>High_spent_Large_value_payments</td>\n",
       "      <td>485.2984336755923</td>\n",
       "    </tr>\n",
       "  </tbody>\n",
       "</table>\n",
       "<p>5 rows × 27 columns</p>\n",
       "</div>"
      ],
      "text/plain": [
       "       ID Customer_ID      Month             Name  Age          SSN  \\\n",
       "0  0x160a   CUS_0xd40  September    Aaron Maashoh   23  821-00-0265   \n",
       "1  0x160b   CUS_0xd40    October    Aaron Maashoh   24  821-00-0265   \n",
       "2  0x160c   CUS_0xd40   November    Aaron Maashoh   24  821-00-0265   \n",
       "3  0x160d   CUS_0xd40   December    Aaron Maashoh  24_  821-00-0265   \n",
       "4  0x1616  CUS_0x21b1  September  Rick Rothackerj   28  004-07-5839   \n",
       "\n",
       "  Occupation Annual_Income  Monthly_Inhand_Salary  Num_Bank_Accounts  ...  \\\n",
       "0  Scientist      19114.12            1824.843333                  3  ...   \n",
       "1  Scientist      19114.12            1824.843333                  3  ...   \n",
       "2  Scientist      19114.12            1824.843333                  3  ...   \n",
       "3  Scientist      19114.12                    NaN                  3  ...   \n",
       "4    _______      34847.84            3037.986667                  2  ...   \n",
       "\n",
       "   Num_Credit_Inquiries  Credit_Mix Outstanding_Debt Credit_Utilization_Ratio  \\\n",
       "0                2022.0        Good           809.98                35.030402   \n",
       "1                   4.0        Good           809.98                33.053114   \n",
       "2                   4.0        Good           809.98                33.811894   \n",
       "3                   4.0        Good           809.98                32.430559   \n",
       "4                   5.0        Good           605.03                25.926822   \n",
       "\n",
       "       Credit_History_Age Payment_of_Min_Amount Total_EMI_per_month  \\\n",
       "0   22 Years and 9 Months                    No           49.574949   \n",
       "1  22 Years and 10 Months                    No           49.574949   \n",
       "2                     NaN                    No           49.574949   \n",
       "3   23 Years and 0 Months                    No           49.574949   \n",
       "4   27 Years and 3 Months                    No           18.816215   \n",
       "\n",
       "   Amount_invested_monthly                 Payment_Behaviour  \\\n",
       "0       236.64268203272135    Low_spent_Small_value_payments   \n",
       "1       21.465380264657146  High_spent_Medium_value_payments   \n",
       "2       148.23393788500925   Low_spent_Medium_value_payments   \n",
       "3        39.08251089460281  High_spent_Medium_value_payments   \n",
       "4       39.684018417945296   High_spent_Large_value_payments   \n",
       "\n",
       "      Monthly_Balance  \n",
       "0  186.26670208571772  \n",
       "1  361.44400385378196  \n",
       "2  264.67544623342997  \n",
       "3  343.82687322383634  \n",
       "4   485.2984336755923  \n",
       "\n",
       "[5 rows x 27 columns]"
      ]
     },
     "execution_count": 5,
     "metadata": {},
     "output_type": "execute_result"
    }
   ],
   "source": [
    "test_df.head()"
   ]
  },
  {
   "cell_type": "code",
   "execution_count": 6,
   "id": "e2f33744",
   "metadata": {
    "execution": {
     "iopub.execute_input": "2022-12-15T11:09:47.532647Z",
     "iopub.status.busy": "2022-12-15T11:09:47.531210Z",
     "iopub.status.idle": "2022-12-15T11:09:47.540048Z",
     "shell.execute_reply": "2022-12-15T11:09:47.538839Z"
    },
    "papermill": {
     "duration": 0.029587,
     "end_time": "2022-12-15T11:09:47.542878",
     "exception": false,
     "start_time": "2022-12-15T11:09:47.513291",
     "status": "completed"
    },
    "tags": []
   },
   "outputs": [
    {
     "data": {
      "text/plain": [
       "((100000, 28), (50000, 27))"
      ]
     },
     "execution_count": 6,
     "metadata": {},
     "output_type": "execute_result"
    }
   ],
   "source": [
    "train_df.shape , test_df.shape"
   ]
  },
  {
   "cell_type": "code",
   "execution_count": 7,
   "id": "138c9694",
   "metadata": {
    "execution": {
     "iopub.execute_input": "2022-12-15T11:09:47.578154Z",
     "iopub.status.busy": "2022-12-15T11:09:47.577260Z",
     "iopub.status.idle": "2022-12-15T11:09:47.606739Z",
     "shell.execute_reply": "2022-12-15T11:09:47.605288Z"
    },
    "papermill": {
     "duration": 0.049963,
     "end_time": "2022-12-15T11:09:47.609458",
     "exception": false,
     "start_time": "2022-12-15T11:09:47.559495",
     "status": "completed"
    },
    "tags": []
   },
   "outputs": [],
   "source": [
    "train_df.drop(['ID','Customer_ID','Month','Name','SSN',\n",
    "               'Type_of_Loan','Credit_History_Age']\n",
    "               ,axis=1,inplace=True)"
   ]
  },
  {
   "cell_type": "code",
   "execution_count": 8,
   "id": "99483a8d",
   "metadata": {
    "execution": {
     "iopub.execute_input": "2022-12-15T11:09:47.643104Z",
     "iopub.status.busy": "2022-12-15T11:09:47.642677Z",
     "iopub.status.idle": "2022-12-15T11:09:47.671770Z",
     "shell.execute_reply": "2022-12-15T11:09:47.670469Z"
    },
    "papermill": {
     "duration": 0.049293,
     "end_time": "2022-12-15T11:09:47.674299",
     "exception": false,
     "start_time": "2022-12-15T11:09:47.625006",
     "status": "completed"
    },
    "tags": []
   },
   "outputs": [
    {
     "data": {
      "text/html": [
       "<div>\n",
       "<style scoped>\n",
       "    .dataframe tbody tr th:only-of-type {\n",
       "        vertical-align: middle;\n",
       "    }\n",
       "\n",
       "    .dataframe tbody tr th {\n",
       "        vertical-align: top;\n",
       "    }\n",
       "\n",
       "    .dataframe thead th {\n",
       "        text-align: right;\n",
       "    }\n",
       "</style>\n",
       "<table border=\"1\" class=\"dataframe\">\n",
       "  <thead>\n",
       "    <tr style=\"text-align: right;\">\n",
       "      <th></th>\n",
       "      <th>Age</th>\n",
       "      <th>Occupation</th>\n",
       "      <th>Annual_Income</th>\n",
       "      <th>Monthly_Inhand_Salary</th>\n",
       "      <th>Num_Bank_Accounts</th>\n",
       "      <th>Num_Credit_Card</th>\n",
       "      <th>Interest_Rate</th>\n",
       "      <th>Num_of_Loan</th>\n",
       "      <th>Delay_from_due_date</th>\n",
       "      <th>Num_of_Delayed_Payment</th>\n",
       "      <th>...</th>\n",
       "      <th>Num_Credit_Inquiries</th>\n",
       "      <th>Credit_Mix</th>\n",
       "      <th>Outstanding_Debt</th>\n",
       "      <th>Credit_Utilization_Ratio</th>\n",
       "      <th>Payment_of_Min_Amount</th>\n",
       "      <th>Total_EMI_per_month</th>\n",
       "      <th>Amount_invested_monthly</th>\n",
       "      <th>Payment_Behaviour</th>\n",
       "      <th>Monthly_Balance</th>\n",
       "      <th>Credit_Score</th>\n",
       "    </tr>\n",
       "  </thead>\n",
       "  <tbody>\n",
       "    <tr>\n",
       "      <th>0</th>\n",
       "      <td>23</td>\n",
       "      <td>Scientist</td>\n",
       "      <td>19114.12</td>\n",
       "      <td>1824.843333</td>\n",
       "      <td>3</td>\n",
       "      <td>4</td>\n",
       "      <td>3</td>\n",
       "      <td>4</td>\n",
       "      <td>3</td>\n",
       "      <td>7</td>\n",
       "      <td>...</td>\n",
       "      <td>4.0</td>\n",
       "      <td>_</td>\n",
       "      <td>809.98</td>\n",
       "      <td>26.822620</td>\n",
       "      <td>No</td>\n",
       "      <td>49.574949</td>\n",
       "      <td>80.41529543900253</td>\n",
       "      <td>High_spent_Small_value_payments</td>\n",
       "      <td>312.49408867943663</td>\n",
       "      <td>Good</td>\n",
       "    </tr>\n",
       "    <tr>\n",
       "      <th>1</th>\n",
       "      <td>23</td>\n",
       "      <td>Scientist</td>\n",
       "      <td>19114.12</td>\n",
       "      <td>NaN</td>\n",
       "      <td>3</td>\n",
       "      <td>4</td>\n",
       "      <td>3</td>\n",
       "      <td>4</td>\n",
       "      <td>-1</td>\n",
       "      <td>NaN</td>\n",
       "      <td>...</td>\n",
       "      <td>4.0</td>\n",
       "      <td>Good</td>\n",
       "      <td>809.98</td>\n",
       "      <td>31.944960</td>\n",
       "      <td>No</td>\n",
       "      <td>49.574949</td>\n",
       "      <td>118.28022162236736</td>\n",
       "      <td>Low_spent_Large_value_payments</td>\n",
       "      <td>284.62916249607184</td>\n",
       "      <td>Good</td>\n",
       "    </tr>\n",
       "    <tr>\n",
       "      <th>2</th>\n",
       "      <td>-500</td>\n",
       "      <td>Scientist</td>\n",
       "      <td>19114.12</td>\n",
       "      <td>NaN</td>\n",
       "      <td>3</td>\n",
       "      <td>4</td>\n",
       "      <td>3</td>\n",
       "      <td>4</td>\n",
       "      <td>3</td>\n",
       "      <td>7</td>\n",
       "      <td>...</td>\n",
       "      <td>4.0</td>\n",
       "      <td>Good</td>\n",
       "      <td>809.98</td>\n",
       "      <td>28.609352</td>\n",
       "      <td>No</td>\n",
       "      <td>49.574949</td>\n",
       "      <td>81.699521264648</td>\n",
       "      <td>Low_spent_Medium_value_payments</td>\n",
       "      <td>331.2098628537912</td>\n",
       "      <td>Good</td>\n",
       "    </tr>\n",
       "    <tr>\n",
       "      <th>3</th>\n",
       "      <td>23</td>\n",
       "      <td>Scientist</td>\n",
       "      <td>19114.12</td>\n",
       "      <td>NaN</td>\n",
       "      <td>3</td>\n",
       "      <td>4</td>\n",
       "      <td>3</td>\n",
       "      <td>4</td>\n",
       "      <td>5</td>\n",
       "      <td>4</td>\n",
       "      <td>...</td>\n",
       "      <td>4.0</td>\n",
       "      <td>Good</td>\n",
       "      <td>809.98</td>\n",
       "      <td>31.377862</td>\n",
       "      <td>No</td>\n",
       "      <td>49.574949</td>\n",
       "      <td>199.4580743910713</td>\n",
       "      <td>Low_spent_Small_value_payments</td>\n",
       "      <td>223.45130972736786</td>\n",
       "      <td>Good</td>\n",
       "    </tr>\n",
       "    <tr>\n",
       "      <th>4</th>\n",
       "      <td>23</td>\n",
       "      <td>Scientist</td>\n",
       "      <td>19114.12</td>\n",
       "      <td>1824.843333</td>\n",
       "      <td>3</td>\n",
       "      <td>4</td>\n",
       "      <td>3</td>\n",
       "      <td>4</td>\n",
       "      <td>6</td>\n",
       "      <td>NaN</td>\n",
       "      <td>...</td>\n",
       "      <td>4.0</td>\n",
       "      <td>Good</td>\n",
       "      <td>809.98</td>\n",
       "      <td>24.797347</td>\n",
       "      <td>No</td>\n",
       "      <td>49.574949</td>\n",
       "      <td>41.420153086217326</td>\n",
       "      <td>High_spent_Medium_value_payments</td>\n",
       "      <td>341.48923103222177</td>\n",
       "      <td>Good</td>\n",
       "    </tr>\n",
       "  </tbody>\n",
       "</table>\n",
       "<p>5 rows × 21 columns</p>\n",
       "</div>"
      ],
      "text/plain": [
       "    Age Occupation Annual_Income  Monthly_Inhand_Salary  Num_Bank_Accounts  \\\n",
       "0    23  Scientist      19114.12            1824.843333                  3   \n",
       "1    23  Scientist      19114.12                    NaN                  3   \n",
       "2  -500  Scientist      19114.12                    NaN                  3   \n",
       "3    23  Scientist      19114.12                    NaN                  3   \n",
       "4    23  Scientist      19114.12            1824.843333                  3   \n",
       "\n",
       "   Num_Credit_Card  Interest_Rate Num_of_Loan  Delay_from_due_date  \\\n",
       "0                4              3           4                    3   \n",
       "1                4              3           4                   -1   \n",
       "2                4              3           4                    3   \n",
       "3                4              3           4                    5   \n",
       "4                4              3           4                    6   \n",
       "\n",
       "  Num_of_Delayed_Payment  ... Num_Credit_Inquiries  Credit_Mix  \\\n",
       "0                      7  ...                  4.0           _   \n",
       "1                    NaN  ...                  4.0        Good   \n",
       "2                      7  ...                  4.0        Good   \n",
       "3                      4  ...                  4.0        Good   \n",
       "4                    NaN  ...                  4.0        Good   \n",
       "\n",
       "  Outstanding_Debt Credit_Utilization_Ratio  Payment_of_Min_Amount  \\\n",
       "0           809.98                26.822620                     No   \n",
       "1           809.98                31.944960                     No   \n",
       "2           809.98                28.609352                     No   \n",
       "3           809.98                31.377862                     No   \n",
       "4           809.98                24.797347                     No   \n",
       "\n",
       "  Total_EMI_per_month  Amount_invested_monthly  \\\n",
       "0           49.574949        80.41529543900253   \n",
       "1           49.574949       118.28022162236736   \n",
       "2           49.574949          81.699521264648   \n",
       "3           49.574949        199.4580743910713   \n",
       "4           49.574949       41.420153086217326   \n",
       "\n",
       "                  Payment_Behaviour     Monthly_Balance Credit_Score  \n",
       "0   High_spent_Small_value_payments  312.49408867943663         Good  \n",
       "1    Low_spent_Large_value_payments  284.62916249607184         Good  \n",
       "2   Low_spent_Medium_value_payments   331.2098628537912         Good  \n",
       "3    Low_spent_Small_value_payments  223.45130972736786         Good  \n",
       "4  High_spent_Medium_value_payments  341.48923103222177         Good  \n",
       "\n",
       "[5 rows x 21 columns]"
      ]
     },
     "execution_count": 8,
     "metadata": {},
     "output_type": "execute_result"
    }
   ],
   "source": [
    "train_df.head()"
   ]
  },
  {
   "cell_type": "code",
   "execution_count": 9,
   "id": "0ee76974",
   "metadata": {
    "execution": {
     "iopub.execute_input": "2022-12-15T11:09:47.709155Z",
     "iopub.status.busy": "2022-12-15T11:09:47.708680Z",
     "iopub.status.idle": "2022-12-15T11:09:47.790480Z",
     "shell.execute_reply": "2022-12-15T11:09:47.788749Z"
    },
    "papermill": {
     "duration": 0.102771,
     "end_time": "2022-12-15T11:09:47.793234",
     "exception": false,
     "start_time": "2022-12-15T11:09:47.690463",
     "status": "completed"
    },
    "tags": []
   },
   "outputs": [
    {
     "name": "stdout",
     "output_type": "stream",
     "text": [
      "<class 'pandas.core.frame.DataFrame'>\n",
      "RangeIndex: 100000 entries, 0 to 99999\n",
      "Data columns (total 21 columns):\n",
      " #   Column                    Non-Null Count   Dtype  \n",
      "---  ------                    --------------   -----  \n",
      " 0   Age                       100000 non-null  object \n",
      " 1   Occupation                100000 non-null  object \n",
      " 2   Annual_Income             100000 non-null  object \n",
      " 3   Monthly_Inhand_Salary     84998 non-null   float64\n",
      " 4   Num_Bank_Accounts         100000 non-null  int64  \n",
      " 5   Num_Credit_Card           100000 non-null  int64  \n",
      " 6   Interest_Rate             100000 non-null  int64  \n",
      " 7   Num_of_Loan               100000 non-null  object \n",
      " 8   Delay_from_due_date       100000 non-null  int64  \n",
      " 9   Num_of_Delayed_Payment    92998 non-null   object \n",
      " 10  Changed_Credit_Limit      100000 non-null  object \n",
      " 11  Num_Credit_Inquiries      98035 non-null   float64\n",
      " 12  Credit_Mix                100000 non-null  object \n",
      " 13  Outstanding_Debt          100000 non-null  object \n",
      " 14  Credit_Utilization_Ratio  100000 non-null  float64\n",
      " 15  Payment_of_Min_Amount     100000 non-null  object \n",
      " 16  Total_EMI_per_month       100000 non-null  float64\n",
      " 17  Amount_invested_monthly   95521 non-null   object \n",
      " 18  Payment_Behaviour         100000 non-null  object \n",
      " 19  Monthly_Balance           98800 non-null   object \n",
      " 20  Credit_Score              100000 non-null  object \n",
      "dtypes: float64(4), int64(4), object(13)\n",
      "memory usage: 16.0+ MB\n"
     ]
    }
   ],
   "source": [
    "train_df.info()"
   ]
  },
  {
   "cell_type": "code",
   "execution_count": 10,
   "id": "c4df3575",
   "metadata": {
    "execution": {
     "iopub.execute_input": "2022-12-15T11:09:47.827528Z",
     "iopub.status.busy": "2022-12-15T11:09:47.827062Z",
     "iopub.status.idle": "2022-12-15T11:09:51.200142Z",
     "shell.execute_reply": "2022-12-15T11:09:51.198905Z"
    },
    "papermill": {
     "duration": 3.393688,
     "end_time": "2022-12-15T11:09:51.203015",
     "exception": false,
     "start_time": "2022-12-15T11:09:47.809327",
     "status": "completed"
    },
    "tags": []
   },
   "outputs": [
    {
     "data": {
      "text/plain": [
       "<AxesSubplot:>"
      ]
     },
     "execution_count": 10,
     "metadata": {},
     "output_type": "execute_result"
    },
    {
     "data": {
      "image/png": "[encoded data removed]",
      "text/plain": [
       "<Figure size 432x288 with 2 Axes>"
      ]
     },
     "metadata": {
      "needs_background": "light"
     },
     "output_type": "display_data"
    }
   ],
   "source": [
    "sns.heatmap(train_df.isnull())"
   ]
  },
  {
   "cell_type": "code",
   "execution_count": 11,
   "id": "754a15bc",
   "metadata": {
    "execution": {
     "iopub.execute_input": "2022-12-15T11:09:51.239894Z",
     "iopub.status.busy": "2022-12-15T11:09:51.239116Z",
     "iopub.status.idle": "2022-12-15T11:09:51.306739Z",
     "shell.execute_reply": "2022-12-15T11:09:51.305419Z"
    },
    "papermill": {
     "duration": 0.089173,
     "end_time": "2022-12-15T11:09:51.309607",
     "exception": false,
     "start_time": "2022-12-15T11:09:51.220434",
     "status": "completed"
    },
    "tags": []
   },
   "outputs": [
    {
     "data": {
      "text/plain": [
       "Age                             0\n",
       "Occupation                      0\n",
       "Annual_Income                   0\n",
       "Monthly_Inhand_Salary       15002\n",
       "Num_Bank_Accounts               0\n",
       "Num_Credit_Card                 0\n",
       "Interest_Rate                   0\n",
       "Num_of_Loan                     0\n",
       "Delay_from_due_date             0\n",
       "Num_of_Delayed_Payment       7002\n",
       "Changed_Credit_Limit            0\n",
       "Num_Credit_Inquiries         1965\n",
       "Credit_Mix                      0\n",
       "Outstanding_Debt                0\n",
       "Credit_Utilization_Ratio        0\n",
       "Payment_of_Min_Amount           0\n",
       "Total_EMI_per_month             0\n",
       "Amount_invested_monthly      4479\n",
       "Payment_Behaviour               0\n",
       "Monthly_Balance              1200\n",
       "Credit_Score                    0\n",
       "dtype: int64"
      ]
     },
     "execution_count": 11,
     "metadata": {},
     "output_type": "execute_result"
    }
   ],
   "source": [
    "train_df.isnull().sum()"
   ]
  },
  {
   "cell_type": "code",
   "execution_count": 12,
   "id": "56702347",
   "metadata": {
    "execution": {
     "iopub.execute_input": "2022-12-15T11:09:51.346150Z",
     "iopub.status.busy": "2022-12-15T11:09:51.345457Z",
     "iopub.status.idle": "2022-12-15T11:09:51.561061Z",
     "shell.execute_reply": "2022-12-15T11:09:51.559828Z"
    },
    "papermill": {
     "duration": 0.236821,
     "end_time": "2022-12-15T11:09:51.563364",
     "exception": false,
     "start_time": "2022-12-15T11:09:51.326543",
     "status": "completed"
    },
    "tags": []
   },
   "outputs": [
    {
     "data": {
      "text/plain": [
       "0"
      ]
     },
     "execution_count": 12,
     "metadata": {},
     "output_type": "execute_result"
    }
   ],
   "source": [
    "train_df.duplicated().sum()"
   ]
  },
  {
   "cell_type": "code",
   "execution_count": 13,
   "id": "e4ed1c81",
   "metadata": {
    "execution": {
     "iopub.execute_input": "2022-12-15T11:09:51.599342Z",
     "iopub.status.busy": "2022-12-15T11:09:51.598905Z",
     "iopub.status.idle": "2022-12-15T11:09:51.662522Z",
     "shell.execute_reply": "2022-12-15T11:09:51.661067Z"
    },
    "papermill": {
     "duration": 0.08506,
     "end_time": "2022-12-15T11:09:51.665474",
     "exception": false,
     "start_time": "2022-12-15T11:09:51.580414",
     "status": "completed"
    },
    "tags": []
   },
   "outputs": [
    {
     "name": "stdout",
     "output_type": "stream",
     "text": [
      "772 Records dropped\n"
     ]
    }
   ],
   "source": [
    "size_before_cleaning = test_df.shape\n",
    "test_df = test_df[test_df.isnull().sum(axis=1) < 3]\n",
    "print(\"{} Records dropped\".format(size_before_cleaning[0] - test_df.shape[0]))"
   ]
  },
  {
   "cell_type": "code",
   "execution_count": 14,
   "id": "ab32a947",
   "metadata": {
    "execution": {
     "iopub.execute_input": "2022-12-15T11:09:51.701716Z",
     "iopub.status.busy": "2022-12-15T11:09:51.701280Z",
     "iopub.status.idle": "2022-12-15T11:09:51.707492Z",
     "shell.execute_reply": "2022-12-15T11:09:51.706120Z"
    },
    "papermill": {
     "duration": 0.027088,
     "end_time": "2022-12-15T11:09:51.709796",
     "exception": false,
     "start_time": "2022-12-15T11:09:51.682708",
     "status": "completed"
    },
    "tags": []
   },
   "outputs": [],
   "source": [
    "def filter_general(value):\n",
    "    if '-' in str(value):\n",
    "        return str(value).split('-')[1]\n",
    "    elif '_' in str(value):\n",
    "        return str(value).split('_')[0]\n",
    "    else:\n",
    "        return str(value)"
   ]
  },
  {
   "cell_type": "code",
   "execution_count": 15,
   "id": "9826de33",
   "metadata": {
    "execution": {
     "iopub.execute_input": "2022-12-15T11:09:51.747198Z",
     "iopub.status.busy": "2022-12-15T11:09:51.746404Z",
     "iopub.status.idle": "2022-12-15T11:09:51.753165Z",
     "shell.execute_reply": "2022-12-15T11:09:51.751835Z"
    },
    "papermill": {
     "duration": 0.028633,
     "end_time": "2022-12-15T11:09:51.756104",
     "exception": false,
     "start_time": "2022-12-15T11:09:51.727471",
     "status": "completed"
    },
    "tags": []
   },
   "outputs": [],
   "source": [
    "def filter_delayed_payments(value):\n",
    "    if \"__\" in str(value):\n",
    "        return str(value).split(\"__\")[1]\n",
    "    elif '_' in str(value):\n",
    "        return str(value).replace(\"_\", \"\")\n",
    "    elif str(value) == '_':\n",
    "        return str(value)\n",
    "    else:\n",
    "        return str(value)"
   ]
  },
  {
   "cell_type": "code",
   "execution_count": 16,
   "id": "4e22bc2f",
   "metadata": {
    "execution": {
     "iopub.execute_input": "2022-12-15T11:09:51.792667Z",
     "iopub.status.busy": "2022-12-15T11:09:51.792095Z",
     "iopub.status.idle": "2022-12-15T11:09:51.798084Z",
     "shell.execute_reply": "2022-12-15T11:09:51.796795Z"
    },
    "papermill": {
     "duration": 0.027228,
     "end_time": "2022-12-15T11:09:51.800552",
     "exception": false,
     "start_time": "2022-12-15T11:09:51.773324",
     "status": "completed"
    },
    "tags": []
   },
   "outputs": [],
   "source": [
    "def Amount_invested_monthly(col):\n",
    "    if \"__\" in str(col):\n",
    "        return str(col).split(\"__\")[1]\n",
    "    else:\n",
    "        return str(col)"
   ]
  },
  {
   "cell_type": "code",
   "execution_count": 17,
   "id": "1bd77841",
   "metadata": {
    "execution": {
     "iopub.execute_input": "2022-12-15T11:09:51.836708Z",
     "iopub.status.busy": "2022-12-15T11:09:51.836239Z",
     "iopub.status.idle": "2022-12-15T11:09:51.867241Z",
     "shell.execute_reply": "2022-12-15T11:09:51.866022Z"
    },
    "papermill": {
     "duration": 0.052145,
     "end_time": "2022-12-15T11:09:51.869753",
     "exception": false,
     "start_time": "2022-12-15T11:09:51.817608",
     "status": "completed"
    },
    "tags": []
   },
   "outputs": [
    {
     "data": {
      "text/html": [
       "<div>\n",
       "<style scoped>\n",
       "    .dataframe tbody tr th:only-of-type {\n",
       "        vertical-align: middle;\n",
       "    }\n",
       "\n",
       "    .dataframe tbody tr th {\n",
       "        vertical-align: top;\n",
       "    }\n",
       "\n",
       "    .dataframe thead th {\n",
       "        text-align: right;\n",
       "    }\n",
       "</style>\n",
       "<table border=\"1\" class=\"dataframe\">\n",
       "  <thead>\n",
       "    <tr style=\"text-align: right;\">\n",
       "      <th></th>\n",
       "      <th>Age</th>\n",
       "      <th>Occupation</th>\n",
       "      <th>Annual_Income</th>\n",
       "      <th>Monthly_Inhand_Salary</th>\n",
       "      <th>Num_Bank_Accounts</th>\n",
       "      <th>Num_Credit_Card</th>\n",
       "      <th>Interest_Rate</th>\n",
       "      <th>Num_of_Loan</th>\n",
       "      <th>Delay_from_due_date</th>\n",
       "      <th>Num_of_Delayed_Payment</th>\n",
       "      <th>...</th>\n",
       "      <th>Num_Credit_Inquiries</th>\n",
       "      <th>Credit_Mix</th>\n",
       "      <th>Outstanding_Debt</th>\n",
       "      <th>Credit_Utilization_Ratio</th>\n",
       "      <th>Payment_of_Min_Amount</th>\n",
       "      <th>Total_EMI_per_month</th>\n",
       "      <th>Amount_invested_monthly</th>\n",
       "      <th>Payment_Behaviour</th>\n",
       "      <th>Monthly_Balance</th>\n",
       "      <th>Credit_Score</th>\n",
       "    </tr>\n",
       "  </thead>\n",
       "  <tbody>\n",
       "    <tr>\n",
       "      <th>0</th>\n",
       "      <td>23</td>\n",
       "      <td>Scientist</td>\n",
       "      <td>19114.12</td>\n",
       "      <td>1824.843333</td>\n",
       "      <td>3</td>\n",
       "      <td>4</td>\n",
       "      <td>3</td>\n",
       "      <td>4</td>\n",
       "      <td>3</td>\n",
       "      <td>7</td>\n",
       "      <td>...</td>\n",
       "      <td>4.0</td>\n",
       "      <td>_</td>\n",
       "      <td>809.98</td>\n",
       "      <td>26.822620</td>\n",
       "      <td>No</td>\n",
       "      <td>49.574949</td>\n",
       "      <td>80.41529543900253</td>\n",
       "      <td>High_spent_Small_value_payments</td>\n",
       "      <td>312.49408867943663</td>\n",
       "      <td>Good</td>\n",
       "    </tr>\n",
       "    <tr>\n",
       "      <th>1</th>\n",
       "      <td>23</td>\n",
       "      <td>Scientist</td>\n",
       "      <td>19114.12</td>\n",
       "      <td>NaN</td>\n",
       "      <td>3</td>\n",
       "      <td>4</td>\n",
       "      <td>3</td>\n",
       "      <td>4</td>\n",
       "      <td>-1</td>\n",
       "      <td>NaN</td>\n",
       "      <td>...</td>\n",
       "      <td>4.0</td>\n",
       "      <td>Good</td>\n",
       "      <td>809.98</td>\n",
       "      <td>31.944960</td>\n",
       "      <td>No</td>\n",
       "      <td>49.574949</td>\n",
       "      <td>118.28022162236736</td>\n",
       "      <td>Low_spent_Large_value_payments</td>\n",
       "      <td>284.62916249607184</td>\n",
       "      <td>Good</td>\n",
       "    </tr>\n",
       "    <tr>\n",
       "      <th>2</th>\n",
       "      <td>-500</td>\n",
       "      <td>Scientist</td>\n",
       "      <td>19114.12</td>\n",
       "      <td>NaN</td>\n",
       "      <td>3</td>\n",
       "      <td>4</td>\n",
       "      <td>3</td>\n",
       "      <td>4</td>\n",
       "      <td>3</td>\n",
       "      <td>7</td>\n",
       "      <td>...</td>\n",
       "      <td>4.0</td>\n",
       "      <td>Good</td>\n",
       "      <td>809.98</td>\n",
       "      <td>28.609352</td>\n",
       "      <td>No</td>\n",
       "      <td>49.574949</td>\n",
       "      <td>81.699521264648</td>\n",
       "      <td>Low_spent_Medium_value_payments</td>\n",
       "      <td>331.2098628537912</td>\n",
       "      <td>Good</td>\n",
       "    </tr>\n",
       "    <tr>\n",
       "      <th>3</th>\n",
       "      <td>23</td>\n",
       "      <td>Scientist</td>\n",
       "      <td>19114.12</td>\n",
       "      <td>NaN</td>\n",
       "      <td>3</td>\n",
       "      <td>4</td>\n",
       "      <td>3</td>\n",
       "      <td>4</td>\n",
       "      <td>5</td>\n",
       "      <td>4</td>\n",
       "      <td>...</td>\n",
       "      <td>4.0</td>\n",
       "      <td>Good</td>\n",
       "      <td>809.98</td>\n",
       "      <td>31.377862</td>\n",
       "      <td>No</td>\n",
       "      <td>49.574949</td>\n",
       "      <td>199.4580743910713</td>\n",
       "      <td>Low_spent_Small_value_payments</td>\n",
       "      <td>223.45130972736786</td>\n",
       "      <td>Good</td>\n",
       "    </tr>\n",
       "    <tr>\n",
       "      <th>4</th>\n",
       "      <td>23</td>\n",
       "      <td>Scientist</td>\n",
       "      <td>19114.12</td>\n",
       "      <td>1824.843333</td>\n",
       "      <td>3</td>\n",
       "      <td>4</td>\n",
       "      <td>3</td>\n",
       "      <td>4</td>\n",
       "      <td>6</td>\n",
       "      <td>NaN</td>\n",
       "      <td>...</td>\n",
       "      <td>4.0</td>\n",
       "      <td>Good</td>\n",
       "      <td>809.98</td>\n",
       "      <td>24.797347</td>\n",
       "      <td>No</td>\n",
       "      <td>49.574949</td>\n",
       "      <td>41.420153086217326</td>\n",
       "      <td>High_spent_Medium_value_payments</td>\n",
       "      <td>341.48923103222177</td>\n",
       "      <td>Good</td>\n",
       "    </tr>\n",
       "  </tbody>\n",
       "</table>\n",
       "<p>5 rows × 21 columns</p>\n",
       "</div>"
      ],
      "text/plain": [
       "    Age Occupation Annual_Income  Monthly_Inhand_Salary  Num_Bank_Accounts  \\\n",
       "0    23  Scientist      19114.12            1824.843333                  3   \n",
       "1    23  Scientist      19114.12                    NaN                  3   \n",
       "2  -500  Scientist      19114.12                    NaN                  3   \n",
       "3    23  Scientist      19114.12                    NaN                  3   \n",
       "4    23  Scientist      19114.12            1824.843333                  3   \n",
       "\n",
       "   Num_Credit_Card  Interest_Rate Num_of_Loan  Delay_from_due_date  \\\n",
       "0                4              3           4                    3   \n",
       "1                4              3           4                   -1   \n",
       "2                4              3           4                    3   \n",
       "3                4              3           4                    5   \n",
       "4                4              3           4                    6   \n",
       "\n",
       "  Num_of_Delayed_Payment  ... Num_Credit_Inquiries  Credit_Mix  \\\n",
       "0                      7  ...                  4.0           _   \n",
       "1                    NaN  ...                  4.0        Good   \n",
       "2                      7  ...                  4.0        Good   \n",
       "3                      4  ...                  4.0        Good   \n",
       "4                    NaN  ...                  4.0        Good   \n",
       "\n",
       "  Outstanding_Debt Credit_Utilization_Ratio  Payment_of_Min_Amount  \\\n",
       "0           809.98                26.822620                     No   \n",
       "1           809.98                31.944960                     No   \n",
       "2           809.98                28.609352                     No   \n",
       "3           809.98                31.377862                     No   \n",
       "4           809.98                24.797347                     No   \n",
       "\n",
       "  Total_EMI_per_month  Amount_invested_monthly  \\\n",
       "0           49.574949        80.41529543900253   \n",
       "1           49.574949       118.28022162236736   \n",
       "2           49.574949          81.699521264648   \n",
       "3           49.574949        199.4580743910713   \n",
       "4           49.574949       41.420153086217326   \n",
       "\n",
       "                  Payment_Behaviour     Monthly_Balance Credit_Score  \n",
       "0   High_spent_Small_value_payments  312.49408867943663         Good  \n",
       "1    Low_spent_Large_value_payments  284.62916249607184         Good  \n",
       "2   Low_spent_Medium_value_payments   331.2098628537912         Good  \n",
       "3    Low_spent_Small_value_payments  223.45130972736786         Good  \n",
       "4  High_spent_Medium_value_payments  341.48923103222177         Good  \n",
       "\n",
       "[5 rows x 21 columns]"
      ]
     },
     "execution_count": 17,
     "metadata": {},
     "output_type": "execute_result"
    }
   ],
   "source": [
    "train_df.head()"
   ]
  },
  {
   "cell_type": "code",
   "execution_count": 18,
   "id": "2a4a7cd1",
   "metadata": {
    "execution": {
     "iopub.execute_input": "2022-12-15T11:09:51.907448Z",
     "iopub.status.busy": "2022-12-15T11:09:51.906751Z",
     "iopub.status.idle": "2022-12-15T11:09:52.006755Z",
     "shell.execute_reply": "2022-12-15T11:09:52.005247Z"
    },
    "papermill": {
     "duration": 0.122428,
     "end_time": "2022-12-15T11:09:52.009733",
     "exception": false,
     "start_time": "2022-12-15T11:09:51.887305",
     "status": "completed"
    },
    "tags": []
   },
   "outputs": [],
   "source": [
    "train_df[\"Amount_invested_monthly\"]=train_df[\"Amount_invested_monthly\"].apply(Amount_invested_monthly)\n",
    "train_df[\"Amount_invested_monthly\"]=train_df[\"Amount_invested_monthly\"].astype(\"float\")"
   ]
  },
  {
   "cell_type": "code",
   "execution_count": 19,
   "id": "a7644691",
   "metadata": {
    "execution": {
     "iopub.execute_input": "2022-12-15T11:09:52.047089Z",
     "iopub.status.busy": "2022-12-15T11:09:52.046611Z",
     "iopub.status.idle": "2022-12-15T11:09:52.115610Z",
     "shell.execute_reply": "2022-12-15T11:09:52.113483Z"
    },
    "papermill": {
     "duration": 0.091063,
     "end_time": "2022-12-15T11:09:52.118575",
     "exception": false,
     "start_time": "2022-12-15T11:09:52.027512",
     "status": "completed"
    },
    "tags": []
   },
   "outputs": [
    {
     "name": "stdout",
     "output_type": "stream",
     "text": [
      "<class 'pandas.core.frame.DataFrame'>\n",
      "RangeIndex: 100000 entries, 0 to 99999\n",
      "Data columns (total 21 columns):\n",
      " #   Column                    Non-Null Count   Dtype  \n",
      "---  ------                    --------------   -----  \n",
      " 0   Age                       100000 non-null  object \n",
      " 1   Occupation                100000 non-null  object \n",
      " 2   Annual_Income             100000 non-null  object \n",
      " 3   Monthly_Inhand_Salary     84998 non-null   float64\n",
      " 4   Num_Bank_Accounts         100000 non-null  int64  \n",
      " 5   Num_Credit_Card           100000 non-null  int64  \n",
      " 6   Interest_Rate             100000 non-null  int64  \n",
      " 7   Num_of_Loan               100000 non-null  object \n",
      " 8   Delay_from_due_date       100000 non-null  int64  \n",
      " 9   Num_of_Delayed_Payment    92998 non-null   object \n",
      " 10  Changed_Credit_Limit      100000 non-null  object \n",
      " 11  Num_Credit_Inquiries      98035 non-null   float64\n",
      " 12  Credit_Mix                100000 non-null  object \n",
      " 13  Outstanding_Debt          100000 non-null  object \n",
      " 14  Credit_Utilization_Ratio  100000 non-null  float64\n",
      " 15  Payment_of_Min_Amount     100000 non-null  object \n",
      " 16  Total_EMI_per_month       100000 non-null  float64\n",
      " 17  Amount_invested_monthly   95521 non-null   float64\n",
      " 18  Payment_Behaviour         100000 non-null  object \n",
      " 19  Monthly_Balance           98800 non-null   object \n",
      " 20  Credit_Score              100000 non-null  object \n",
      "dtypes: float64(5), int64(4), object(12)\n",
      "memory usage: 16.0+ MB\n"
     ]
    }
   ],
   "source": [
    "train_df.info()"
   ]
  },
  {
   "cell_type": "code",
   "execution_count": 20,
   "id": "acd40d51",
   "metadata": {
    "execution": {
     "iopub.execute_input": "2022-12-15T11:09:52.156355Z",
     "iopub.status.busy": "2022-12-15T11:09:52.155896Z",
     "iopub.status.idle": "2022-12-15T11:09:52.256316Z",
     "shell.execute_reply": "2022-12-15T11:09:52.255042Z"
    },
    "papermill": {
     "duration": 0.122634,
     "end_time": "2022-12-15T11:09:52.259190",
     "exception": false,
     "start_time": "2022-12-15T11:09:52.136556",
     "status": "completed"
    },
    "tags": []
   },
   "outputs": [],
   "source": [
    "train_df[\"Changed_Credit_Limit\"]=train_df[\"Changed_Credit_Limit\"].apply(lambda x:x.split(\"-\")[-1])\n",
    "train_df.drop(train_df[train_df[\"Changed_Credit_Limit\"]==\"_\"].index,inplace=True)\n",
    "train_df[\"Changed_Credit_Limit\"]=train_df[\"Changed_Credit_Limit\"].astype(\"float\")"
   ]
  },
  {
   "cell_type": "code",
   "execution_count": 21,
   "id": "b83f764c",
   "metadata": {
    "execution": {
     "iopub.execute_input": "2022-12-15T11:09:52.297437Z",
     "iopub.status.busy": "2022-12-15T11:09:52.296993Z",
     "iopub.status.idle": "2022-12-15T11:09:52.766204Z",
     "shell.execute_reply": "2022-12-15T11:09:52.764465Z"
    },
    "papermill": {
     "duration": 0.492778,
     "end_time": "2022-12-15T11:09:52.769593",
     "exception": false,
     "start_time": "2022-12-15T11:09:52.276815",
     "status": "completed"
    },
    "tags": []
   },
   "outputs": [
    {
     "name": "stdout",
     "output_type": "stream",
     "text": [
      "Age Successfully Cleaned\n",
      "Annual_Income Successfully Cleaned\n",
      "Num_of_Loan Successfully Cleaned\n",
      "Outstanding_Debt Successfully Cleaned\n",
      "Monthly_Balance Successfully Cleaned\n"
     ]
    }
   ],
   "source": [
    "train_df.drop(train_df[train_df[\"Monthly_Balance\"]=='__-333333333333333333333333333__'].index,inplace=True)\n",
    "for i in ['Age', 'Annual_Income', 'Num_of_Loan', 'Outstanding_Debt', 'Monthly_Balance']:\n",
    "    train_df[i] = train_df[i].apply(filter_general)\n",
    "    train_df[i] = train_df[i].astype(np.float64)\n",
    "    print(i + \" Successfully Cleaned\")"
   ]
  },
  {
   "cell_type": "code",
   "execution_count": 22,
   "id": "fb1af784",
   "metadata": {
    "execution": {
     "iopub.execute_input": "2022-12-15T11:09:52.807530Z",
     "iopub.status.busy": "2022-12-15T11:09:52.807082Z",
     "iopub.status.idle": "2022-12-15T11:09:52.909013Z",
     "shell.execute_reply": "2022-12-15T11:09:52.907869Z"
    },
    "papermill": {
     "duration": 0.124451,
     "end_time": "2022-12-15T11:09:52.912360",
     "exception": false,
     "start_time": "2022-12-15T11:09:52.787909",
     "status": "completed"
    },
    "tags": []
   },
   "outputs": [],
   "source": [
    "train_df['Num_of_Delayed_Payment'] = train_df['Num_of_Delayed_Payment'].apply(filter_delayed_payments)\n",
    "train_df['Num_of_Delayed_Payment'] = train_df['Num_of_Delayed_Payment'].astype(np.float64)"
   ]
  },
  {
   "cell_type": "code",
   "execution_count": 23,
   "id": "200eef8e",
   "metadata": {
    "execution": {
     "iopub.execute_input": "2022-12-15T11:09:52.951081Z",
     "iopub.status.busy": "2022-12-15T11:09:52.950654Z",
     "iopub.status.idle": "2022-12-15T11:09:52.971060Z",
     "shell.execute_reply": "2022-12-15T11:09:52.969785Z"
    },
    "papermill": {
     "duration": 0.04311,
     "end_time": "2022-12-15T11:09:52.973952",
     "exception": false,
     "start_time": "2022-12-15T11:09:52.930842",
     "status": "completed"
    },
    "tags": []
   },
   "outputs": [],
   "source": [
    "train_df['Occupation'] = train_df['Occupation'].replace('_______', np.nan)\n",
    "train_df['Occupation'] = train_df['Occupation'].fillna(np.random.choice(pd.Series(['Scientist', 'Teacher', 'Engineer', 'Entrepreneur',\n",
    "       'Developer', 'Lawyer', 'Media_Manager', 'Doctor', 'Journalist',\n",
    "       'Manager', 'Accountant', 'Musician', 'Mechanic', 'Writer',\n",
    "       'Architect'])))"
   ]
  },
  {
   "cell_type": "code",
   "execution_count": 24,
   "id": "ad0ef4b3",
   "metadata": {
    "execution": {
     "iopub.execute_input": "2022-12-15T11:09:53.011582Z",
     "iopub.status.busy": "2022-12-15T11:09:53.011135Z",
     "iopub.status.idle": "2022-12-15T11:09:53.031100Z",
     "shell.execute_reply": "2022-12-15T11:09:53.029735Z"
    },
    "papermill": {
     "duration": 0.042246,
     "end_time": "2022-12-15T11:09:53.033841",
     "exception": false,
     "start_time": "2022-12-15T11:09:52.991595",
     "status": "completed"
    },
    "tags": []
   },
   "outputs": [],
   "source": [
    "train_df['Credit_Mix'] = train_df['Credit_Mix'].replace('_', np.nan)\n",
    "train_df['Credit_Mix'] = train_df['Credit_Mix'].fillna(np.random.choice(pd.Series(['Standard', 'Good', 'Bad'])))"
   ]
  },
  {
   "cell_type": "code",
   "execution_count": 25,
   "id": "9c57a1d4",
   "metadata": {
    "execution": {
     "iopub.execute_input": "2022-12-15T11:09:53.072449Z",
     "iopub.status.busy": "2022-12-15T11:09:53.071961Z",
     "iopub.status.idle": "2022-12-15T11:09:53.092279Z",
     "shell.execute_reply": "2022-12-15T11:09:53.090823Z"
    },
    "papermill": {
     "duration": 0.042729,
     "end_time": "2022-12-15T11:09:53.095231",
     "exception": false,
     "start_time": "2022-12-15T11:09:53.052502",
     "status": "completed"
    },
    "tags": []
   },
   "outputs": [],
   "source": [
    "train_df['Payment_of_Min_Amount'] = train_df['Payment_of_Min_Amount'].replace('NM', np.nan)\n",
    "train_df['Payment_of_Min_Amount'] = train_df['Payment_of_Min_Amount'].fillna(np.random.choice(pd.Series(['Yes', 'No'])))"
   ]
  },
  {
   "cell_type": "code",
   "execution_count": 26,
   "id": "0ceb43e5",
   "metadata": {
    "execution": {
     "iopub.execute_input": "2022-12-15T11:09:53.132935Z",
     "iopub.status.busy": "2022-12-15T11:09:53.132492Z",
     "iopub.status.idle": "2022-12-15T11:09:53.151856Z",
     "shell.execute_reply": "2022-12-15T11:09:53.150572Z"
    },
    "papermill": {
     "duration": 0.041436,
     "end_time": "2022-12-15T11:09:53.154659",
     "exception": false,
     "start_time": "2022-12-15T11:09:53.113223",
     "status": "completed"
    },
    "tags": []
   },
   "outputs": [],
   "source": [
    "train_df['Payment_Behaviour'] = train_df['Payment_Behaviour'].replace('!@9#%8', np.nan)\n",
    "train_df['Payment_Behaviour'] = train_df['Payment_Behaviour'].fillna(np.random.choice(pd.Series(['High_spent_Small_value_payments',\n",
    "       'Low_spent_Large_value_payments', 'Low_spent_Small_value_payments',\n",
    "       'High_spent_Medium_value_payments',\n",
    "       'High_spent_Large_value_payments',\n",
    "       'Low_spent_Medium_value_payments'])))"
   ]
  },
  {
   "cell_type": "code",
   "execution_count": 27,
   "id": "b7106e91",
   "metadata": {
    "execution": {
     "iopub.execute_input": "2022-12-15T11:09:53.191540Z",
     "iopub.status.busy": "2022-12-15T11:09:53.191097Z",
     "iopub.status.idle": "2022-12-15T11:09:53.209889Z",
     "shell.execute_reply": "2022-12-15T11:09:53.208702Z"
    },
    "papermill": {
     "duration": 0.040751,
     "end_time": "2022-12-15T11:09:53.212882",
     "exception": false,
     "start_time": "2022-12-15T11:09:53.172131",
     "status": "completed"
    },
    "tags": []
   },
   "outputs": [],
   "source": [
    "for i in ['Monthly_Inhand_Salary', 'Num_of_Delayed_Payment', 'Num_Credit_Inquiries', 'Amount_invested_monthly']:\n",
    "    train_df[i].fillna(train_df[i].median(), inplace=True)"
   ]
  },
  {
   "cell_type": "code",
   "execution_count": 28,
   "id": "74570fce",
   "metadata": {
    "execution": {
     "iopub.execute_input": "2022-12-15T11:09:53.252622Z",
     "iopub.status.busy": "2022-12-15T11:09:53.252159Z",
     "iopub.status.idle": "2022-12-15T11:09:53.261532Z",
     "shell.execute_reply": "2022-12-15T11:09:53.260266Z"
    },
    "papermill": {
     "duration": 0.031155,
     "end_time": "2022-12-15T11:09:53.264258",
     "exception": false,
     "start_time": "2022-12-15T11:09:53.233103",
     "status": "completed"
    },
    "tags": []
   },
   "outputs": [],
   "source": [
    "train_df['Monthly_Balance'].fillna(train_df['Monthly_Balance'].median(), inplace=True)"
   ]
  },
  {
   "cell_type": "code",
   "execution_count": 29,
   "id": "b62ada1d",
   "metadata": {
    "execution": {
     "iopub.execute_input": "2022-12-15T11:09:53.303278Z",
     "iopub.status.busy": "2022-12-15T11:09:53.302278Z",
     "iopub.status.idle": "2022-12-15T11:09:53.334125Z",
     "shell.execute_reply": "2022-12-15T11:09:53.332902Z"
    },
    "papermill": {
     "duration": 0.05387,
     "end_time": "2022-12-15T11:09:53.336446",
     "exception": false,
     "start_time": "2022-12-15T11:09:53.282576",
     "status": "completed"
    },
    "tags": []
   },
   "outputs": [
    {
     "data": {
      "text/html": [
       "<div>\n",
       "<style scoped>\n",
       "    .dataframe tbody tr th:only-of-type {\n",
       "        vertical-align: middle;\n",
       "    }\n",
       "\n",
       "    .dataframe tbody tr th {\n",
       "        vertical-align: top;\n",
       "    }\n",
       "\n",
       "    .dataframe thead th {\n",
       "        text-align: right;\n",
       "    }\n",
       "</style>\n",
       "<table border=\"1\" class=\"dataframe\">\n",
       "  <thead>\n",
       "    <tr style=\"text-align: right;\">\n",
       "      <th></th>\n",
       "      <th>Age</th>\n",
       "      <th>Occupation</th>\n",
       "      <th>Annual_Income</th>\n",
       "      <th>Monthly_Inhand_Salary</th>\n",
       "      <th>Num_Bank_Accounts</th>\n",
       "      <th>Num_Credit_Card</th>\n",
       "      <th>Interest_Rate</th>\n",
       "      <th>Num_of_Loan</th>\n",
       "      <th>Delay_from_due_date</th>\n",
       "      <th>Num_of_Delayed_Payment</th>\n",
       "      <th>...</th>\n",
       "      <th>Num_Credit_Inquiries</th>\n",
       "      <th>Credit_Mix</th>\n",
       "      <th>Outstanding_Debt</th>\n",
       "      <th>Credit_Utilization_Ratio</th>\n",
       "      <th>Payment_of_Min_Amount</th>\n",
       "      <th>Total_EMI_per_month</th>\n",
       "      <th>Amount_invested_monthly</th>\n",
       "      <th>Payment_Behaviour</th>\n",
       "      <th>Monthly_Balance</th>\n",
       "      <th>Credit_Score</th>\n",
       "    </tr>\n",
       "  </thead>\n",
       "  <tbody>\n",
       "    <tr>\n",
       "      <th>0</th>\n",
       "      <td>23.0</td>\n",
       "      <td>Scientist</td>\n",
       "      <td>19114.12</td>\n",
       "      <td>1824.843333</td>\n",
       "      <td>3</td>\n",
       "      <td>4</td>\n",
       "      <td>3</td>\n",
       "      <td>4.0</td>\n",
       "      <td>3</td>\n",
       "      <td>7.0</td>\n",
       "      <td>...</td>\n",
       "      <td>4.0</td>\n",
       "      <td>Good</td>\n",
       "      <td>809.98</td>\n",
       "      <td>26.822620</td>\n",
       "      <td>No</td>\n",
       "      <td>49.574949</td>\n",
       "      <td>80.415295</td>\n",
       "      <td>High_spent_Small_value_payments</td>\n",
       "      <td>312.494089</td>\n",
       "      <td>Good</td>\n",
       "    </tr>\n",
       "    <tr>\n",
       "      <th>1</th>\n",
       "      <td>23.0</td>\n",
       "      <td>Scientist</td>\n",
       "      <td>19114.12</td>\n",
       "      <td>3091.260833</td>\n",
       "      <td>3</td>\n",
       "      <td>4</td>\n",
       "      <td>3</td>\n",
       "      <td>4.0</td>\n",
       "      <td>-1</td>\n",
       "      <td>14.0</td>\n",
       "      <td>...</td>\n",
       "      <td>4.0</td>\n",
       "      <td>Good</td>\n",
       "      <td>809.98</td>\n",
       "      <td>31.944960</td>\n",
       "      <td>No</td>\n",
       "      <td>49.574949</td>\n",
       "      <td>118.280222</td>\n",
       "      <td>Low_spent_Large_value_payments</td>\n",
       "      <td>284.629162</td>\n",
       "      <td>Good</td>\n",
       "    </tr>\n",
       "    <tr>\n",
       "      <th>3</th>\n",
       "      <td>23.0</td>\n",
       "      <td>Scientist</td>\n",
       "      <td>19114.12</td>\n",
       "      <td>3091.260833</td>\n",
       "      <td>3</td>\n",
       "      <td>4</td>\n",
       "      <td>3</td>\n",
       "      <td>4.0</td>\n",
       "      <td>5</td>\n",
       "      <td>4.0</td>\n",
       "      <td>...</td>\n",
       "      <td>4.0</td>\n",
       "      <td>Good</td>\n",
       "      <td>809.98</td>\n",
       "      <td>31.377862</td>\n",
       "      <td>No</td>\n",
       "      <td>49.574949</td>\n",
       "      <td>199.458074</td>\n",
       "      <td>Low_spent_Small_value_payments</td>\n",
       "      <td>223.451310</td>\n",
       "      <td>Good</td>\n",
       "    </tr>\n",
       "    <tr>\n",
       "      <th>4</th>\n",
       "      <td>23.0</td>\n",
       "      <td>Scientist</td>\n",
       "      <td>19114.12</td>\n",
       "      <td>1824.843333</td>\n",
       "      <td>3</td>\n",
       "      <td>4</td>\n",
       "      <td>3</td>\n",
       "      <td>4.0</td>\n",
       "      <td>6</td>\n",
       "      <td>14.0</td>\n",
       "      <td>...</td>\n",
       "      <td>4.0</td>\n",
       "      <td>Good</td>\n",
       "      <td>809.98</td>\n",
       "      <td>24.797347</td>\n",
       "      <td>No</td>\n",
       "      <td>49.574949</td>\n",
       "      <td>41.420153</td>\n",
       "      <td>High_spent_Medium_value_payments</td>\n",
       "      <td>341.489231</td>\n",
       "      <td>Good</td>\n",
       "    </tr>\n",
       "    <tr>\n",
       "      <th>5</th>\n",
       "      <td>23.0</td>\n",
       "      <td>Scientist</td>\n",
       "      <td>19114.12</td>\n",
       "      <td>3091.260833</td>\n",
       "      <td>3</td>\n",
       "      <td>4</td>\n",
       "      <td>3</td>\n",
       "      <td>4.0</td>\n",
       "      <td>8</td>\n",
       "      <td>4.0</td>\n",
       "      <td>...</td>\n",
       "      <td>4.0</td>\n",
       "      <td>Good</td>\n",
       "      <td>809.98</td>\n",
       "      <td>27.262259</td>\n",
       "      <td>No</td>\n",
       "      <td>49.574949</td>\n",
       "      <td>62.430172</td>\n",
       "      <td>Low_spent_Medium_value_payments</td>\n",
       "      <td>340.479212</td>\n",
       "      <td>Good</td>\n",
       "    </tr>\n",
       "  </tbody>\n",
       "</table>\n",
       "<p>5 rows × 21 columns</p>\n",
       "</div>"
      ],
      "text/plain": [
       "    Age Occupation  Annual_Income  Monthly_Inhand_Salary  Num_Bank_Accounts  \\\n",
       "0  23.0  Scientist       19114.12            1824.843333                  3   \n",
       "1  23.0  Scientist       19114.12            3091.260833                  3   \n",
       "3  23.0  Scientist       19114.12            3091.260833                  3   \n",
       "4  23.0  Scientist       19114.12            1824.843333                  3   \n",
       "5  23.0  Scientist       19114.12            3091.260833                  3   \n",
       "\n",
       "   Num_Credit_Card  Interest_Rate  Num_of_Loan  Delay_from_due_date  \\\n",
       "0                4              3          4.0                    3   \n",
       "1                4              3          4.0                   -1   \n",
       "3                4              3          4.0                    5   \n",
       "4                4              3          4.0                    6   \n",
       "5                4              3          4.0                    8   \n",
       "\n",
       "   Num_of_Delayed_Payment  ...  Num_Credit_Inquiries  Credit_Mix  \\\n",
       "0                     7.0  ...                   4.0        Good   \n",
       "1                    14.0  ...                   4.0        Good   \n",
       "3                     4.0  ...                   4.0        Good   \n",
       "4                    14.0  ...                   4.0        Good   \n",
       "5                     4.0  ...                   4.0        Good   \n",
       "\n",
       "  Outstanding_Debt  Credit_Utilization_Ratio  Payment_of_Min_Amount  \\\n",
       "0           809.98                 26.822620                     No   \n",
       "1           809.98                 31.944960                     No   \n",
       "3           809.98                 31.377862                     No   \n",
       "4           809.98                 24.797347                     No   \n",
       "5           809.98                 27.262259                     No   \n",
       "\n",
       "  Total_EMI_per_month  Amount_invested_monthly  \\\n",
       "0           49.574949                80.415295   \n",
       "1           49.574949               118.280222   \n",
       "3           49.574949               199.458074   \n",
       "4           49.574949                41.420153   \n",
       "5           49.574949                62.430172   \n",
       "\n",
       "                  Payment_Behaviour Monthly_Balance  Credit_Score  \n",
       "0   High_spent_Small_value_payments      312.494089          Good  \n",
       "1    Low_spent_Large_value_payments      284.629162          Good  \n",
       "3    Low_spent_Small_value_payments      223.451310          Good  \n",
       "4  High_spent_Medium_value_payments      341.489231          Good  \n",
       "5   Low_spent_Medium_value_payments      340.479212          Good  \n",
       "\n",
       "[5 rows x 21 columns]"
      ]
     },
     "execution_count": 29,
     "metadata": {},
     "output_type": "execute_result"
    }
   ],
   "source": [
    "train_df.head()"
   ]
  },
  {
   "cell_type": "code",
   "execution_count": 30,
   "id": "f9a2d72f",
   "metadata": {
    "execution": {
     "iopub.execute_input": "2022-12-15T11:09:53.374274Z",
     "iopub.status.busy": "2022-12-15T11:09:53.373838Z",
     "iopub.status.idle": "2022-12-15T11:09:53.646898Z",
     "shell.execute_reply": "2022-12-15T11:09:53.645466Z"
    },
    "papermill": {
     "duration": 0.295358,
     "end_time": "2022-12-15T11:09:53.649730",
     "exception": false,
     "start_time": "2022-12-15T11:09:53.354372",
     "status": "completed"
    },
    "tags": []
   },
   "outputs": [
    {
     "data": {
      "text/html": [
       "<style type=\"text/css\">\n",
       "#T_e1491_row0_col0, #T_e1491_row0_col3, #T_e1491_row0_col4, #T_e1491_row0_col5, #T_e1491_row0_col6, #T_e1491_row0_col7, #T_e1491_row0_col8, #T_e1491_row0_col9, #T_e1491_row0_col10, #T_e1491_row0_col11, #T_e1491_row0_col13, #T_e1491_row0_col14, #T_e1491_row0_col16, #T_e1491_row0_col17, #T_e1491_row0_col19, #T_e1491_row10_col2 {\n",
       "  background-color: #08306b;\n",
       "  color: #f1f1f1;\n",
       "  font-family: Segoe UI;\n",
       "}\n",
       "#T_e1491_row0_col1, #T_e1491_row0_col12, #T_e1491_row0_col15, #T_e1491_row0_col18, #T_e1491_row0_col20, #T_e1491_row1_col1, #T_e1491_row1_col12, #T_e1491_row1_col15, #T_e1491_row1_col18, #T_e1491_row1_col20, #T_e1491_row2_col1, #T_e1491_row2_col12, #T_e1491_row2_col15, #T_e1491_row2_col18, #T_e1491_row2_col20, #T_e1491_row3_col1, #T_e1491_row3_col12, #T_e1491_row3_col15, #T_e1491_row3_col18, #T_e1491_row3_col20, #T_e1491_row4_col1, #T_e1491_row4_col12, #T_e1491_row4_col15, #T_e1491_row4_col18, #T_e1491_row4_col20, #T_e1491_row5_col1, #T_e1491_row5_col12, #T_e1491_row5_col15, #T_e1491_row5_col18, #T_e1491_row5_col20, #T_e1491_row6_col1, #T_e1491_row6_col12, #T_e1491_row6_col15, #T_e1491_row6_col18, #T_e1491_row6_col20, #T_e1491_row7_col1, #T_e1491_row7_col12, #T_e1491_row7_col15, #T_e1491_row7_col18, #T_e1491_row7_col20, #T_e1491_row8_col1, #T_e1491_row8_col12, #T_e1491_row8_col15, #T_e1491_row8_col18, #T_e1491_row8_col20, #T_e1491_row9_col1, #T_e1491_row9_col12, #T_e1491_row9_col15, #T_e1491_row9_col18, #T_e1491_row9_col20, #T_e1491_row10_col1, #T_e1491_row10_col12, #T_e1491_row10_col15, #T_e1491_row10_col18, #T_e1491_row10_col20 {\n",
       "  font-family: Segoe UI;\n",
       "}\n",
       "#T_e1491_row0_col2, #T_e1491_row4_col0, #T_e1491_row4_col4, #T_e1491_row4_col5, #T_e1491_row4_col6, #T_e1491_row4_col7, #T_e1491_row4_col8, #T_e1491_row4_col9, #T_e1491_row4_col10, #T_e1491_row4_col11, #T_e1491_row4_col14, #T_e1491_row5_col4, #T_e1491_row5_col5, #T_e1491_row5_col7, #T_e1491_row5_col8, #T_e1491_row5_col9, #T_e1491_row5_col10, #T_e1491_row5_col11, #T_e1491_row5_col14, #T_e1491_row5_col19, #T_e1491_row6_col0, #T_e1491_row6_col2, #T_e1491_row6_col3, #T_e1491_row6_col4, #T_e1491_row6_col5, #T_e1491_row6_col6, #T_e1491_row6_col7, #T_e1491_row6_col8, #T_e1491_row6_col9, #T_e1491_row6_col10, #T_e1491_row6_col11, #T_e1491_row6_col13, #T_e1491_row6_col14, #T_e1491_row6_col16, #T_e1491_row6_col17, #T_e1491_row6_col19, #T_e1491_row7_col0, #T_e1491_row7_col2, #T_e1491_row7_col4, #T_e1491_row7_col5, #T_e1491_row7_col6, #T_e1491_row7_col7, #T_e1491_row7_col8, #T_e1491_row7_col9, #T_e1491_row7_col10, #T_e1491_row7_col11, #T_e1491_row7_col14, #T_e1491_row7_col16, #T_e1491_row7_col17, #T_e1491_row7_col19, #T_e1491_row8_col0, #T_e1491_row8_col2, #T_e1491_row8_col4, #T_e1491_row8_col5, #T_e1491_row8_col6, #T_e1491_row8_col7, #T_e1491_row8_col8, #T_e1491_row8_col9, #T_e1491_row8_col10, #T_e1491_row8_col11, #T_e1491_row8_col14, #T_e1491_row8_col16, #T_e1491_row8_col17, #T_e1491_row8_col19, #T_e1491_row9_col0, #T_e1491_row9_col2, #T_e1491_row9_col4, #T_e1491_row9_col5, #T_e1491_row9_col6, #T_e1491_row9_col7, #T_e1491_row9_col8, #T_e1491_row9_col9, #T_e1491_row9_col10, #T_e1491_row9_col11, #T_e1491_row9_col14, #T_e1491_row9_col16, #T_e1491_row9_col17, #T_e1491_row10_col8, #T_e1491_row10_col10, #T_e1491_row10_col14 {\n",
       "  background-color: #f7fbff;\n",
       "  color: #000000;\n",
       "  font-family: Segoe UI;\n",
       "}\n",
       "#T_e1491_row1_col0, #T_e1491_row1_col2, #T_e1491_row1_col3, #T_e1491_row1_col4, #T_e1491_row1_col5, #T_e1491_row1_col6, #T_e1491_row1_col7, #T_e1491_row1_col8, #T_e1491_row1_col9, #T_e1491_row1_col10, #T_e1491_row1_col11, #T_e1491_row1_col13, #T_e1491_row1_col14, #T_e1491_row1_col16, #T_e1491_row1_col17, #T_e1491_row1_col19, #T_e1491_row2_col0, #T_e1491_row2_col2, #T_e1491_row2_col3, #T_e1491_row2_col4, #T_e1491_row2_col5, #T_e1491_row2_col6, #T_e1491_row2_col7, #T_e1491_row2_col8, #T_e1491_row2_col9, #T_e1491_row2_col10, #T_e1491_row2_col11, #T_e1491_row2_col13, #T_e1491_row2_col14, #T_e1491_row2_col16, #T_e1491_row2_col17, #T_e1491_row2_col19, #T_e1491_row3_col0, #T_e1491_row3_col2, #T_e1491_row3_col3, #T_e1491_row3_col4, #T_e1491_row3_col5, #T_e1491_row3_col6, #T_e1491_row3_col7, #T_e1491_row3_col8, #T_e1491_row3_col9, #T_e1491_row3_col10, #T_e1491_row3_col11, #T_e1491_row3_col13, #T_e1491_row3_col14, #T_e1491_row3_col16, #T_e1491_row3_col17, #T_e1491_row3_col19 {\n",
       "  background-color: #000000;\n",
       "  color: #f1f1f1;\n",
       "  font-family: Segoe UI;\n",
       "}\n",
       "#T_e1491_row4_col2, #T_e1491_row4_col17, #T_e1491_row4_col19, #T_e1491_row5_col0, #T_e1491_row5_col6, #T_e1491_row7_col13, #T_e1491_row9_col19 {\n",
       "  background-color: #f6faff;\n",
       "  color: #000000;\n",
       "  font-family: Segoe UI;\n",
       "}\n",
       "#T_e1491_row4_col3 {\n",
       "  background-color: #f0f6fd;\n",
       "  color: #000000;\n",
       "  font-family: Segoe UI;\n",
       "}\n",
       "#T_e1491_row4_col13, #T_e1491_row4_col16, #T_e1491_row5_col13, #T_e1491_row7_col3, #T_e1491_row8_col13, #T_e1491_row10_col5, #T_e1491_row10_col7 {\n",
       "  background-color: #f5f9fe;\n",
       "  color: #000000;\n",
       "  font-family: Segoe UI;\n",
       "}\n",
       "#T_e1491_row5_col2, #T_e1491_row10_col6 {\n",
       "  background-color: #ebf3fb;\n",
       "  color: #000000;\n",
       "  font-family: Segoe UI;\n",
       "}\n",
       "#T_e1491_row5_col3, #T_e1491_row10_col11 {\n",
       "  background-color: #f2f8fd;\n",
       "  color: #000000;\n",
       "  font-family: Segoe UI;\n",
       "}\n",
       "#T_e1491_row5_col16 {\n",
       "  background-color: #e7f0fa;\n",
       "  color: #000000;\n",
       "  font-family: Segoe UI;\n",
       "}\n",
       "#T_e1491_row5_col17, #T_e1491_row9_col13 {\n",
       "  background-color: #f3f8fe;\n",
       "  color: #000000;\n",
       "  font-family: Segoe UI;\n",
       "}\n",
       "#T_e1491_row8_col3 {\n",
       "  background-color: #f2f7fd;\n",
       "  color: #000000;\n",
       "  font-family: Segoe UI;\n",
       "}\n",
       "#T_e1491_row9_col3, #T_e1491_row10_col13 {\n",
       "  background-color: #edf4fc;\n",
       "  color: #000000;\n",
       "  font-family: Segoe UI;\n",
       "}\n",
       "#T_e1491_row10_col0 {\n",
       "  background-color: #e6f0f9;\n",
       "  color: #000000;\n",
       "  font-family: Segoe UI;\n",
       "}\n",
       "#T_e1491_row10_col3 {\n",
       "  background-color: #d9e7f5;\n",
       "  color: #000000;\n",
       "  font-family: Segoe UI;\n",
       "}\n",
       "#T_e1491_row10_col4, #T_e1491_row10_col19 {\n",
       "  background-color: #f4f9fe;\n",
       "  color: #000000;\n",
       "  font-family: Segoe UI;\n",
       "}\n",
       "#T_e1491_row10_col9 {\n",
       "  background-color: #eef5fc;\n",
       "  color: #000000;\n",
       "  font-family: Segoe UI;\n",
       "}\n",
       "#T_e1491_row10_col16 {\n",
       "  background-color: #0e59a2;\n",
       "  color: #f1f1f1;\n",
       "  font-family: Segoe UI;\n",
       "}\n",
       "#T_e1491_row10_col17 {\n",
       "  background-color: #e3eef8;\n",
       "  color: #000000;\n",
       "  font-family: Segoe UI;\n",
       "}\n",
       "</style>\n",
       "<table id=\"T_e1491_\">\n",
       "  <thead>\n",
       "    <tr>\n",
       "      <th class=\"blank level0\" >&nbsp;</th>\n",
       "      <th class=\"col_heading level0 col0\" >Age</th>\n",
       "      <th class=\"col_heading level0 col1\" >Occupation</th>\n",
       "      <th class=\"col_heading level0 col2\" >Annual_Income</th>\n",
       "      <th class=\"col_heading level0 col3\" >Monthly_Inhand_Salary</th>\n",
       "      <th class=\"col_heading level0 col4\" >Num_Bank_Accounts</th>\n",
       "      <th class=\"col_heading level0 col5\" >Num_Credit_Card</th>\n",
       "      <th class=\"col_heading level0 col6\" >Interest_Rate</th>\n",
       "      <th class=\"col_heading level0 col7\" >Num_of_Loan</th>\n",
       "      <th class=\"col_heading level0 col8\" >Delay_from_due_date</th>\n",
       "      <th class=\"col_heading level0 col9\" >Num_of_Delayed_Payment</th>\n",
       "      <th class=\"col_heading level0 col10\" >Changed_Credit_Limit</th>\n",
       "      <th class=\"col_heading level0 col11\" >Num_Credit_Inquiries</th>\n",
       "      <th class=\"col_heading level0 col12\" >Credit_Mix</th>\n",
       "      <th class=\"col_heading level0 col13\" >Outstanding_Debt</th>\n",
       "      <th class=\"col_heading level0 col14\" >Credit_Utilization_Ratio</th>\n",
       "      <th class=\"col_heading level0 col15\" >Payment_of_Min_Amount</th>\n",
       "      <th class=\"col_heading level0 col16\" >Total_EMI_per_month</th>\n",
       "      <th class=\"col_heading level0 col17\" >Amount_invested_monthly</th>\n",
       "      <th class=\"col_heading level0 col18\" >Payment_Behaviour</th>\n",
       "      <th class=\"col_heading level0 col19\" >Monthly_Balance</th>\n",
       "      <th class=\"col_heading level0 col20\" >Credit_Score</th>\n",
       "    </tr>\n",
       "  </thead>\n",
       "  <tbody>\n",
       "    <tr>\n",
       "      <th id=\"T_e1491_level0_row0\" class=\"row_heading level0 row0\" >count</th>\n",
       "      <td id=\"T_e1491_row0_col0\" class=\"data row0 col0\" >97900.000000</td>\n",
       "      <td id=\"T_e1491_row0_col1\" class=\"data row0 col1\" >97900</td>\n",
       "      <td id=\"T_e1491_row0_col2\" class=\"data row0 col2\" >97900.000000</td>\n",
       "      <td id=\"T_e1491_row0_col3\" class=\"data row0 col3\" >97900.000000</td>\n",
       "      <td id=\"T_e1491_row0_col4\" class=\"data row0 col4\" >97900.000000</td>\n",
       "      <td id=\"T_e1491_row0_col5\" class=\"data row0 col5\" >97900.000000</td>\n",
       "      <td id=\"T_e1491_row0_col6\" class=\"data row0 col6\" >97900.000000</td>\n",
       "      <td id=\"T_e1491_row0_col7\" class=\"data row0 col7\" >97900.000000</td>\n",
       "      <td id=\"T_e1491_row0_col8\" class=\"data row0 col8\" >97900.000000</td>\n",
       "      <td id=\"T_e1491_row0_col9\" class=\"data row0 col9\" >97900.000000</td>\n",
       "      <td id=\"T_e1491_row0_col10\" class=\"data row0 col10\" >97900.000000</td>\n",
       "      <td id=\"T_e1491_row0_col11\" class=\"data row0 col11\" >97900.000000</td>\n",
       "      <td id=\"T_e1491_row0_col12\" class=\"data row0 col12\" >97900</td>\n",
       "      <td id=\"T_e1491_row0_col13\" class=\"data row0 col13\" >97900.000000</td>\n",
       "      <td id=\"T_e1491_row0_col14\" class=\"data row0 col14\" >97900.000000</td>\n",
       "      <td id=\"T_e1491_row0_col15\" class=\"data row0 col15\" >97900</td>\n",
       "      <td id=\"T_e1491_row0_col16\" class=\"data row0 col16\" >97900.000000</td>\n",
       "      <td id=\"T_e1491_row0_col17\" class=\"data row0 col17\" >97900.000000</td>\n",
       "      <td id=\"T_e1491_row0_col18\" class=\"data row0 col18\" >97900</td>\n",
       "      <td id=\"T_e1491_row0_col19\" class=\"data row0 col19\" >97900.000000</td>\n",
       "      <td id=\"T_e1491_row0_col20\" class=\"data row0 col20\" >97900</td>\n",
       "    </tr>\n",
       "    <tr>\n",
       "      <th id=\"T_e1491_level0_row1\" class=\"row_heading level0 row1\" >unique</th>\n",
       "      <td id=\"T_e1491_row1_col0\" class=\"data row1 col0\" >nan</td>\n",
       "      <td id=\"T_e1491_row1_col1\" class=\"data row1 col1\" >15</td>\n",
       "      <td id=\"T_e1491_row1_col2\" class=\"data row1 col2\" >nan</td>\n",
       "      <td id=\"T_e1491_row1_col3\" class=\"data row1 col3\" >nan</td>\n",
       "      <td id=\"T_e1491_row1_col4\" class=\"data row1 col4\" >nan</td>\n",
       "      <td id=\"T_e1491_row1_col5\" class=\"data row1 col5\" >nan</td>\n",
       "      <td id=\"T_e1491_row1_col6\" class=\"data row1 col6\" >nan</td>\n",
       "      <td id=\"T_e1491_row1_col7\" class=\"data row1 col7\" >nan</td>\n",
       "      <td id=\"T_e1491_row1_col8\" class=\"data row1 col8\" >nan</td>\n",
       "      <td id=\"T_e1491_row1_col9\" class=\"data row1 col9\" >nan</td>\n",
       "      <td id=\"T_e1491_row1_col10\" class=\"data row1 col10\" >nan</td>\n",
       "      <td id=\"T_e1491_row1_col11\" class=\"data row1 col11\" >nan</td>\n",
       "      <td id=\"T_e1491_row1_col12\" class=\"data row1 col12\" >3</td>\n",
       "      <td id=\"T_e1491_row1_col13\" class=\"data row1 col13\" >nan</td>\n",
       "      <td id=\"T_e1491_row1_col14\" class=\"data row1 col14\" >nan</td>\n",
       "      <td id=\"T_e1491_row1_col15\" class=\"data row1 col15\" >2</td>\n",
       "      <td id=\"T_e1491_row1_col16\" class=\"data row1 col16\" >nan</td>\n",
       "      <td id=\"T_e1491_row1_col17\" class=\"data row1 col17\" >nan</td>\n",
       "      <td id=\"T_e1491_row1_col18\" class=\"data row1 col18\" >6</td>\n",
       "      <td id=\"T_e1491_row1_col19\" class=\"data row1 col19\" >nan</td>\n",
       "      <td id=\"T_e1491_row1_col20\" class=\"data row1 col20\" >3</td>\n",
       "    </tr>\n",
       "    <tr>\n",
       "      <th id=\"T_e1491_level0_row2\" class=\"row_heading level0 row2\" >top</th>\n",
       "      <td id=\"T_e1491_row2_col0\" class=\"data row2 col0\" >nan</td>\n",
       "      <td id=\"T_e1491_row2_col1\" class=\"data row2 col1\" >Lawyer</td>\n",
       "      <td id=\"T_e1491_row2_col2\" class=\"data row2 col2\" >nan</td>\n",
       "      <td id=\"T_e1491_row2_col3\" class=\"data row2 col3\" >nan</td>\n",
       "      <td id=\"T_e1491_row2_col4\" class=\"data row2 col4\" >nan</td>\n",
       "      <td id=\"T_e1491_row2_col5\" class=\"data row2 col5\" >nan</td>\n",
       "      <td id=\"T_e1491_row2_col6\" class=\"data row2 col6\" >nan</td>\n",
       "      <td id=\"T_e1491_row2_col7\" class=\"data row2 col7\" >nan</td>\n",
       "      <td id=\"T_e1491_row2_col8\" class=\"data row2 col8\" >nan</td>\n",
       "      <td id=\"T_e1491_row2_col9\" class=\"data row2 col9\" >nan</td>\n",
       "      <td id=\"T_e1491_row2_col10\" class=\"data row2 col10\" >nan</td>\n",
       "      <td id=\"T_e1491_row2_col11\" class=\"data row2 col11\" >nan</td>\n",
       "      <td id=\"T_e1491_row2_col12\" class=\"data row2 col12\" >Good</td>\n",
       "      <td id=\"T_e1491_row2_col13\" class=\"data row2 col13\" >nan</td>\n",
       "      <td id=\"T_e1491_row2_col14\" class=\"data row2 col14\" >nan</td>\n",
       "      <td id=\"T_e1491_row2_col15\" class=\"data row2 col15\" >Yes</td>\n",
       "      <td id=\"T_e1491_row2_col16\" class=\"data row2 col16\" >nan</td>\n",
       "      <td id=\"T_e1491_row2_col17\" class=\"data row2 col17\" >nan</td>\n",
       "      <td id=\"T_e1491_row2_col18\" class=\"data row2 col18\" >Low_spent_Small_value_payments</td>\n",
       "      <td id=\"T_e1491_row2_col19\" class=\"data row2 col19\" >nan</td>\n",
       "      <td id=\"T_e1491_row2_col20\" class=\"data row2 col20\" >Standard</td>\n",
       "    </tr>\n",
       "    <tr>\n",
       "      <th id=\"T_e1491_level0_row3\" class=\"row_heading level0 row3\" >freq</th>\n",
       "      <td id=\"T_e1491_row3_col0\" class=\"data row3 col0\" >nan</td>\n",
       "      <td id=\"T_e1491_row3_col1\" class=\"data row3 col1\" >13328</td>\n",
       "      <td id=\"T_e1491_row3_col2\" class=\"data row3 col2\" >nan</td>\n",
       "      <td id=\"T_e1491_row3_col3\" class=\"data row3 col3\" >nan</td>\n",
       "      <td id=\"T_e1491_row3_col4\" class=\"data row3 col4\" >nan</td>\n",
       "      <td id=\"T_e1491_row3_col5\" class=\"data row3 col5\" >nan</td>\n",
       "      <td id=\"T_e1491_row3_col6\" class=\"data row3 col6\" >nan</td>\n",
       "      <td id=\"T_e1491_row3_col7\" class=\"data row3 col7\" >nan</td>\n",
       "      <td id=\"T_e1491_row3_col8\" class=\"data row3 col8\" >nan</td>\n",
       "      <td id=\"T_e1491_row3_col9\" class=\"data row3 col9\" >nan</td>\n",
       "      <td id=\"T_e1491_row3_col10\" class=\"data row3 col10\" >nan</td>\n",
       "      <td id=\"T_e1491_row3_col11\" class=\"data row3 col11\" >nan</td>\n",
       "      <td id=\"T_e1491_row3_col12\" class=\"data row3 col12\" >43593</td>\n",
       "      <td id=\"T_e1491_row3_col13\" class=\"data row3 col13\" >nan</td>\n",
       "      <td id=\"T_e1491_row3_col14\" class=\"data row3 col14\" >nan</td>\n",
       "      <td id=\"T_e1491_row3_col15\" class=\"data row3 col15\" >62968</td>\n",
       "      <td id=\"T_e1491_row3_col16\" class=\"data row3 col16\" >nan</td>\n",
       "      <td id=\"T_e1491_row3_col17\" class=\"data row3 col17\" >nan</td>\n",
       "      <td id=\"T_e1491_row3_col18\" class=\"data row3 col18\" >24959</td>\n",
       "      <td id=\"T_e1491_row3_col19\" class=\"data row3 col19\" >nan</td>\n",
       "      <td id=\"T_e1491_row3_col20\" class=\"data row3 col20\" >52076</td>\n",
       "    </tr>\n",
       "    <tr>\n",
       "      <th id=\"T_e1491_level0_row4\" class=\"row_heading level0 row4\" >mean</th>\n",
       "      <td id=\"T_e1491_row4_col0\" class=\"data row4 col0\" >119.903371</td>\n",
       "      <td id=\"T_e1491_row4_col1\" class=\"data row4 col1\" >nan</td>\n",
       "      <td id=\"T_e1491_row4_col2\" class=\"data row4 col2\" >175934.197698</td>\n",
       "      <td id=\"T_e1491_row4_col3\" class=\"data row4 col3\" >4026.671541</td>\n",
       "      <td id=\"T_e1491_row4_col4\" class=\"data row4 col4\" >17.075863</td>\n",
       "      <td id=\"T_e1491_row4_col5\" class=\"data row4 col5\" >22.519642</td>\n",
       "      <td id=\"T_e1491_row4_col6\" class=\"data row4 col6\" >72.271532</td>\n",
       "      <td id=\"T_e1491_row4_col7\" class=\"data row4 col7\" >10.741992</td>\n",
       "      <td id=\"T_e1491_row4_col8\" class=\"data row4 col8\" >21.075117</td>\n",
       "      <td id=\"T_e1491_row4_col9\" class=\"data row4 col9\" >29.793841</td>\n",
       "      <td id=\"T_e1491_row4_col10\" class=\"data row4 col10\" >10.465545</td>\n",
       "      <td id=\"T_e1491_row4_col11\" class=\"data row4 col11\" >27.295996</td>\n",
       "      <td id=\"T_e1491_row4_col12\" class=\"data row4 col12\" >nan</td>\n",
       "      <td id=\"T_e1491_row4_col13\" class=\"data row4 col13\" >1426.613476</td>\n",
       "      <td id=\"T_e1491_row4_col14\" class=\"data row4 col14\" >32.281389</td>\n",
       "      <td id=\"T_e1491_row4_col15\" class=\"data row4 col15\" >nan</td>\n",
       "      <td id=\"T_e1491_row4_col16\" class=\"data row4 col16\" >1406.898838</td>\n",
       "      <td id=\"T_e1491_row4_col17\" class=\"data row4 col17\" >615.227515</td>\n",
       "      <td id=\"T_e1491_row4_col18\" class=\"data row4 col18\" >nan</td>\n",
       "      <td id=\"T_e1491_row4_col19\" class=\"data row4 col19\" >401.596439</td>\n",
       "      <td id=\"T_e1491_row4_col20\" class=\"data row4 col20\" >nan</td>\n",
       "    </tr>\n",
       "    <tr>\n",
       "      <th id=\"T_e1491_level0_row5\" class=\"row_heading level0 row5\" >std</th>\n",
       "      <td id=\"T_e1491_row5_col0\" class=\"data row5 col0\" >687.221649</td>\n",
       "      <td id=\"T_e1491_row5_col1\" class=\"data row5 col1\" >nan</td>\n",
       "      <td id=\"T_e1491_row5_col2\" class=\"data row5 col2\" >1425711.671398</td>\n",
       "      <td id=\"T_e1491_row5_col3\" class=\"data row5 col3\" >2960.795886</td>\n",
       "      <td id=\"T_e1491_row5_col4\" class=\"data row5 col4\" >117.173367</td>\n",
       "      <td id=\"T_e1491_row5_col5\" class=\"data row5 col5\" >129.223810</td>\n",
       "      <td id=\"T_e1491_row5_col6\" class=\"data row5 col6\" >466.306319</td>\n",
       "      <td id=\"T_e1491_row5_col7\" class=\"data row5 col7\" >61.565651</td>\n",
       "      <td id=\"T_e1491_row5_col8\" class=\"data row5 col8\" >14.865503</td>\n",
       "      <td id=\"T_e1491_row5_col9\" class=\"data row5 col9\" >218.323491</td>\n",
       "      <td id=\"T_e1491_row5_col10\" class=\"data row5 col10\" >6.670756</td>\n",
       "      <td id=\"T_e1491_row5_col11\" class=\"data row5 col11\" >190.946896</td>\n",
       "      <td id=\"T_e1491_row5_col12\" class=\"data row5 col12\" >nan</td>\n",
       "      <td id=\"T_e1491_row5_col13\" class=\"data row5 col13\" >1155.544499</td>\n",
       "      <td id=\"T_e1491_row5_col14\" class=\"data row5 col14\" >5.114578</td>\n",
       "      <td id=\"T_e1491_row5_col15\" class=\"data row5 col15\" >nan</td>\n",
       "      <td id=\"T_e1491_row5_col16\" class=\"data row5 col16\" >8314.901431</td>\n",
       "      <td id=\"T_e1491_row5_col17\" class=\"data row5 col17\" >2000.512234</td>\n",
       "      <td id=\"T_e1491_row5_col18\" class=\"data row5 col18\" >nan</td>\n",
       "      <td id=\"T_e1491_row5_col19\" class=\"data row5 col19\" >212.535948</td>\n",
       "      <td id=\"T_e1491_row5_col20\" class=\"data row5 col20\" >nan</td>\n",
       "    </tr>\n",
       "    <tr>\n",
       "      <th id=\"T_e1491_level0_row6\" class=\"row_heading level0 row6\" >min</th>\n",
       "      <td id=\"T_e1491_row6_col0\" class=\"data row6 col0\" >14.000000</td>\n",
       "      <td id=\"T_e1491_row6_col1\" class=\"data row6 col1\" >nan</td>\n",
       "      <td id=\"T_e1491_row6_col2\" class=\"data row6 col2\" >7005.930000</td>\n",
       "      <td id=\"T_e1491_row6_col3\" class=\"data row6 col3\" >303.645417</td>\n",
       "      <td id=\"T_e1491_row6_col4\" class=\"data row6 col4\" >-1.000000</td>\n",
       "      <td id=\"T_e1491_row6_col5\" class=\"data row6 col5\" >0.000000</td>\n",
       "      <td id=\"T_e1491_row6_col6\" class=\"data row6 col6\" >1.000000</td>\n",
       "      <td id=\"T_e1491_row6_col7\" class=\"data row6 col7\" >0.000000</td>\n",
       "      <td id=\"T_e1491_row6_col8\" class=\"data row6 col8\" >-5.000000</td>\n",
       "      <td id=\"T_e1491_row6_col9\" class=\"data row6 col9\" >-3.000000</td>\n",
       "      <td id=\"T_e1491_row6_col10\" class=\"data row6 col10\" >0.000000</td>\n",
       "      <td id=\"T_e1491_row6_col11\" class=\"data row6 col11\" >0.000000</td>\n",
       "      <td id=\"T_e1491_row6_col12\" class=\"data row6 col12\" >nan</td>\n",
       "      <td id=\"T_e1491_row6_col13\" class=\"data row6 col13\" >0.230000</td>\n",
       "      <td id=\"T_e1491_row6_col14\" class=\"data row6 col14\" >20.000000</td>\n",
       "      <td id=\"T_e1491_row6_col15\" class=\"data row6 col15\" >nan</td>\n",
       "      <td id=\"T_e1491_row6_col16\" class=\"data row6 col16\" >0.000000</td>\n",
       "      <td id=\"T_e1491_row6_col17\" class=\"data row6 col17\" >0.000000</td>\n",
       "      <td id=\"T_e1491_row6_col18\" class=\"data row6 col18\" >nan</td>\n",
       "      <td id=\"T_e1491_row6_col19\" class=\"data row6 col19\" >0.007760</td>\n",
       "      <td id=\"T_e1491_row6_col20\" class=\"data row6 col20\" >nan</td>\n",
       "    </tr>\n",
       "    <tr>\n",
       "      <th id=\"T_e1491_level0_row7\" class=\"row_heading level0 row7\" >25%</th>\n",
       "      <td id=\"T_e1491_row7_col0\" class=\"data row7 col0\" >25.000000</td>\n",
       "      <td id=\"T_e1491_row7_col1\" class=\"data row7 col1\" >nan</td>\n",
       "      <td id=\"T_e1491_row7_col2\" class=\"data row7 col2\" >19436.305000</td>\n",
       "      <td id=\"T_e1491_row7_col3\" class=\"data row7 col3\" >1790.959167</td>\n",
       "      <td id=\"T_e1491_row7_col4\" class=\"data row7 col4\" >3.000000</td>\n",
       "      <td id=\"T_e1491_row7_col5\" class=\"data row7 col5\" >4.000000</td>\n",
       "      <td id=\"T_e1491_row7_col6\" class=\"data row7 col6\" >8.000000</td>\n",
       "      <td id=\"T_e1491_row7_col7\" class=\"data row7 col7\" >2.000000</td>\n",
       "      <td id=\"T_e1491_row7_col8\" class=\"data row7 col8\" >10.000000</td>\n",
       "      <td id=\"T_e1491_row7_col9\" class=\"data row7 col9\" >9.000000</td>\n",
       "      <td id=\"T_e1491_row7_col10\" class=\"data row7 col10\" >5.350000</td>\n",
       "      <td id=\"T_e1491_row7_col11\" class=\"data row7 col11\" >3.000000</td>\n",
       "      <td id=\"T_e1491_row7_col12\" class=\"data row7 col12\" >nan</td>\n",
       "      <td id=\"T_e1491_row7_col13\" class=\"data row7 col13\" >566.080000</td>\n",
       "      <td id=\"T_e1491_row7_col14\" class=\"data row7 col14\" >28.049067</td>\n",
       "      <td id=\"T_e1491_row7_col15\" class=\"data row7 col15\" >nan</td>\n",
       "      <td id=\"T_e1491_row7_col16\" class=\"data row7 col16\" >30.338701</td>\n",
       "      <td id=\"T_e1491_row7_col17\" class=\"data row7 col17\" >76.949795</td>\n",
       "      <td id=\"T_e1491_row7_col18\" class=\"data row7 col18\" >nan</td>\n",
       "      <td id=\"T_e1491_row7_col19\" class=\"data row7 col19\" >270.917679</td>\n",
       "      <td id=\"T_e1491_row7_col20\" class=\"data row7 col20\" >nan</td>\n",
       "    </tr>\n",
       "    <tr>\n",
       "      <th id=\"T_e1491_level0_row8\" class=\"row_heading level0 row8\" >50%</th>\n",
       "      <td id=\"T_e1491_row8_col0\" class=\"data row8 col0\" >34.000000</td>\n",
       "      <td id=\"T_e1491_row8_col1\" class=\"data row8 col1\" >nan</td>\n",
       "      <td id=\"T_e1491_row8_col2\" class=\"data row8 col2\" >37573.920000</td>\n",
       "      <td id=\"T_e1491_row8_col3\" class=\"data row8 col3\" >3091.260833</td>\n",
       "      <td id=\"T_e1491_row8_col4\" class=\"data row8 col4\" >6.000000</td>\n",
       "      <td id=\"T_e1491_row8_col5\" class=\"data row8 col5\" >5.000000</td>\n",
       "      <td id=\"T_e1491_row8_col6\" class=\"data row8 col6\" >13.000000</td>\n",
       "      <td id=\"T_e1491_row8_col7\" class=\"data row8 col7\" >3.000000</td>\n",
       "      <td id=\"T_e1491_row8_col8\" class=\"data row8 col8\" >18.000000</td>\n",
       "      <td id=\"T_e1491_row8_col9\" class=\"data row8 col9\" >14.000000</td>\n",
       "      <td id=\"T_e1491_row8_col10\" class=\"data row8 col10\" >9.400000</td>\n",
       "      <td id=\"T_e1491_row8_col11\" class=\"data row8 col11\" >6.000000</td>\n",
       "      <td id=\"T_e1491_row8_col12\" class=\"data row8 col12\" >nan</td>\n",
       "      <td id=\"T_e1491_row8_col13\" class=\"data row8 col13\" >1166.370000</td>\n",
       "      <td id=\"T_e1491_row8_col14\" class=\"data row8 col14\" >32.300332</td>\n",
       "      <td id=\"T_e1491_row8_col15\" class=\"data row8 col15\" >nan</td>\n",
       "      <td id=\"T_e1491_row8_col16\" class=\"data row8 col16\" >69.272824</td>\n",
       "      <td id=\"T_e1491_row8_col17\" class=\"data row8 col17\" >135.799125</td>\n",
       "      <td id=\"T_e1491_row8_col18\" class=\"data row8 col18\" >nan</td>\n",
       "      <td id=\"T_e1491_row8_col19\" class=\"data row8 col19\" >336.639979</td>\n",
       "      <td id=\"T_e1491_row8_col20\" class=\"data row8 col20\" >nan</td>\n",
       "    </tr>\n",
       "    <tr>\n",
       "      <th id=\"T_e1491_level0_row9\" class=\"row_heading level0 row9\" >75%</th>\n",
       "      <td id=\"T_e1491_row9_col0\" class=\"data row9 col0\" >42.000000</td>\n",
       "      <td id=\"T_e1491_row9_col1\" class=\"data row9 col1\" >nan</td>\n",
       "      <td id=\"T_e1491_row9_col2\" class=\"data row9 col2\" >72760.040000</td>\n",
       "      <td id=\"T_e1491_row9_col3\" class=\"data row9 col3\" >5370.100000</td>\n",
       "      <td id=\"T_e1491_row9_col4\" class=\"data row9 col4\" >7.000000</td>\n",
       "      <td id=\"T_e1491_row9_col5\" class=\"data row9 col5\" >7.000000</td>\n",
       "      <td id=\"T_e1491_row9_col6\" class=\"data row9 col6\" >20.000000</td>\n",
       "      <td id=\"T_e1491_row9_col7\" class=\"data row9 col7\" >6.000000</td>\n",
       "      <td id=\"T_e1491_row9_col8\" class=\"data row9 col8\" >28.000000</td>\n",
       "      <td id=\"T_e1491_row9_col9\" class=\"data row9 col9\" >18.000000</td>\n",
       "      <td id=\"T_e1491_row9_col10\" class=\"data row9 col10\" >14.870000</td>\n",
       "      <td id=\"T_e1491_row9_col11\" class=\"data row9 col11\" >9.000000</td>\n",
       "      <td id=\"T_e1491_row9_col12\" class=\"data row9 col12\" >nan</td>\n",
       "      <td id=\"T_e1491_row9_col13\" class=\"data row9 col13\" >1946.810000</td>\n",
       "      <td id=\"T_e1491_row9_col14\" class=\"data row9 col14\" >36.491015</td>\n",
       "      <td id=\"T_e1491_row9_col15\" class=\"data row9 col15\" >nan</td>\n",
       "      <td id=\"T_e1491_row9_col16\" class=\"data row9 col16\" >161.487532</td>\n",
       "      <td id=\"T_e1491_row9_col17\" class=\"data row9 col17\" >254.905860</td>\n",
       "      <td id=\"T_e1491_row9_col18\" class=\"data row9 col18\" >nan</td>\n",
       "      <td id=\"T_e1491_row9_col19\" class=\"data row9 col19\" >467.378940</td>\n",
       "      <td id=\"T_e1491_row9_col20\" class=\"data row9 col20\" >nan</td>\n",
       "    </tr>\n",
       "    <tr>\n",
       "      <th id=\"T_e1491_level0_row10\" class=\"row_heading level0 row10\" >max</th>\n",
       "      <td id=\"T_e1491_row10_col0\" class=\"data row10 col0\" >8698.000000</td>\n",
       "      <td id=\"T_e1491_row10_col1\" class=\"data row10 col1\" >nan</td>\n",
       "      <td id=\"T_e1491_row10_col2\" class=\"data row10 col2\" >24198062.000000</td>\n",
       "      <td id=\"T_e1491_row10_col3\" class=\"data row10 col3\" >15204.633333</td>\n",
       "      <td id=\"T_e1491_row10_col4\" class=\"data row10 col4\" >1798.000000</td>\n",
       "      <td id=\"T_e1491_row10_col5\" class=\"data row10 col5\" >1499.000000</td>\n",
       "      <td id=\"T_e1491_row10_col6\" class=\"data row10 col6\" >5797.000000</td>\n",
       "      <td id=\"T_e1491_row10_col7\" class=\"data row10 col7\" >1496.000000</td>\n",
       "      <td id=\"T_e1491_row10_col8\" class=\"data row10 col8\" >67.000000</td>\n",
       "      <td id=\"T_e1491_row10_col9\" class=\"data row10 col9\" >4397.000000</td>\n",
       "      <td id=\"T_e1491_row10_col10\" class=\"data row10 col10\" >36.970000</td>\n",
       "      <td id=\"T_e1491_row10_col11\" class=\"data row10 col11\" >2597.000000</td>\n",
       "      <td id=\"T_e1491_row10_col12\" class=\"data row10 col12\" >nan</td>\n",
       "      <td id=\"T_e1491_row10_col13\" class=\"data row10 col13\" >4998.070000</td>\n",
       "      <td id=\"T_e1491_row10_col14\" class=\"data row10 col14\" >50.000000</td>\n",
       "      <td id=\"T_e1491_row10_col15\" class=\"data row10 col15\" >nan</td>\n",
       "      <td id=\"T_e1491_row10_col16\" class=\"data row10 col16\" >82331.000000</td>\n",
       "      <td id=\"T_e1491_row10_col17\" class=\"data row10 col17\" >10000.000000</td>\n",
       "      <td id=\"T_e1491_row10_col18\" class=\"data row10 col18\" >nan</td>\n",
       "      <td id=\"T_e1491_row10_col19\" class=\"data row10 col19\" >1602.040519</td>\n",
       "      <td id=\"T_e1491_row10_col20\" class=\"data row10 col20\" >nan</td>\n",
       "    </tr>\n",
       "  </tbody>\n",
       "</table>\n"
      ],
      "text/plain": [
       "<pandas.io.formats.style.Styler at 0x7f40187627d0>"
      ]
     },
     "execution_count": 30,
     "metadata": {},
     "output_type": "execute_result"
    }
   ],
   "source": [
    "train_df.describe(include='all').style.background_gradient(cmap='Blues').set_properties(**{'font-family':'Segoe UI'})"
   ]
  },
  {
   "cell_type": "code",
   "execution_count": 31,
   "id": "96e53448",
   "metadata": {
    "execution": {
     "iopub.execute_input": "2022-12-15T11:09:53.689364Z",
     "iopub.status.busy": "2022-12-15T11:09:53.688547Z",
     "iopub.status.idle": "2022-12-15T11:10:02.248848Z",
     "shell.execute_reply": "2022-12-15T11:10:02.247656Z"
    },
    "papermill": {
     "duration": 8.582736,
     "end_time": "2022-12-15T11:10:02.251273",
     "exception": false,
     "start_time": "2022-12-15T11:09:53.668537",
     "status": "completed"
    },
    "tags": []
   },
   "outputs": [
    {
     "data": {
      "text/plain": [
       "array([[<AxesSubplot:title={'center':'Age'}>,\n",
       "        <AxesSubplot:title={'center':'Annual_Income'}>,\n",
       "        <AxesSubplot:title={'center':'Monthly_Inhand_Salary'}>,\n",
       "        <AxesSubplot:title={'center':'Num_Bank_Accounts'}>],\n",
       "       [<AxesSubplot:title={'center':'Num_Credit_Card'}>,\n",
       "        <AxesSubplot:title={'center':'Interest_Rate'}>,\n",
       "        <AxesSubplot:title={'center':'Num_of_Loan'}>,\n",
       "        <AxesSubplot:title={'center':'Delay_from_due_date'}>],\n",
       "       [<AxesSubplot:title={'center':'Num_of_Delayed_Payment'}>,\n",
       "        <AxesSubplot:title={'center':'Changed_Credit_Limit'}>,\n",
       "        <AxesSubplot:title={'center':'Num_Credit_Inquiries'}>,\n",
       "        <AxesSubplot:title={'center':'Outstanding_Debt'}>],\n",
       "       [<AxesSubplot:title={'center':'Credit_Utilization_Ratio'}>,\n",
       "        <AxesSubplot:title={'center':'Total_EMI_per_month'}>,\n",
       "        <AxesSubplot:title={'center':'Amount_invested_monthly'}>,\n",
       "        <AxesSubplot:title={'center':'Monthly_Balance'}>]], dtype=object)"
      ]
     },
     "execution_count": 31,
     "metadata": {},
     "output_type": "execute_result"
    },
    {
     "data": {
      "image/png": "[encoded data removed]",
      "text/plain": [
       "<Figure size 1440x720 with 16 Axes>"
      ]
     },
     "metadata": {
      "needs_background": "light"
     },
     "output_type": "display_data"
    }
   ],
   "source": [
    "train_df.hist(bins=200,figsize=[20,10])"
   ]
  },
  {
   "cell_type": "code",
   "execution_count": 32,
   "id": "f155fb4b",
   "metadata": {
    "execution": {
     "iopub.execute_input": "2022-12-15T11:10:02.298280Z",
     "iopub.status.busy": "2022-12-15T11:10:02.297078Z",
     "iopub.status.idle": "2022-12-15T11:10:02.305066Z",
     "shell.execute_reply": "2022-12-15T11:10:02.303767Z"
    },
    "papermill": {
     "duration": 0.034802,
     "end_time": "2022-12-15T11:10:02.307971",
     "exception": false,
     "start_time": "2022-12-15T11:10:02.273169",
     "status": "completed"
    },
    "tags": []
   },
   "outputs": [],
   "source": [
    "def pie_plot(df, cols_list, rows, cols):\n",
    "    fig, axes = plt.subplots(rows, cols)\n",
    "    for ax, col in zip(axes.ravel(), cols_list):\n",
    "        df[col].value_counts().plot(ax=ax, kind='pie', figsize=(15, 15), fontsize=10, autopct='%1.0f%%')\n",
    "        ax.set_title(str(col), fontsize = 12)\n",
    "    plt.show()"
   ]
  },
  {
   "cell_type": "code",
   "execution_count": 33,
   "id": "f0d2b66d",
   "metadata": {
    "execution": {
     "iopub.execute_input": "2022-12-15T11:10:02.350850Z",
     "iopub.status.busy": "2022-12-15T11:10:02.349835Z",
     "iopub.status.idle": "2022-12-15T11:10:02.888080Z",
     "shell.execute_reply": "2022-12-15T11:10:02.886375Z"
    },
    "papermill": {
     "duration": 0.562577,
     "end_time": "2022-12-15T11:10:02.890877",
     "exception": false,
     "start_time": "2022-12-15T11:10:02.328300",
     "status": "completed"
    },
    "tags": []
   },
   "outputs": [
    {
     "data": {
      "image/png": "[encoded data removed]",
      "text/plain": [
       "<Figure size 1080x1080 with 4 Axes>"
      ]
     },
     "metadata": {},
     "output_type": "display_data"
    }
   ],
   "source": [
    "pie_plot(train_df, ['Credit_Mix', 'Payment_of_Min_Amount', 'Payment_Behaviour', 'Credit_Score'], 2,2)"
   ]
  },
  {
   "cell_type": "code",
   "execution_count": 34,
   "id": "36072b8a",
   "metadata": {
    "execution": {
     "iopub.execute_input": "2022-12-15T11:10:02.937070Z",
     "iopub.status.busy": "2022-12-15T11:10:02.936655Z",
     "iopub.status.idle": "2022-12-15T11:10:03.548813Z",
     "shell.execute_reply": "2022-12-15T11:10:03.547469Z"
    },
    "papermill": {
     "duration": 0.638422,
     "end_time": "2022-12-15T11:10:03.551604",
     "exception": false,
     "start_time": "2022-12-15T11:10:02.913182",
     "status": "completed"
    },
    "tags": []
   },
   "outputs": [
    {
     "data": {
      "text/plain": [
       "<AxesSubplot:xlabel='Occupation', ylabel='count'>"
      ]
     },
     "execution_count": 34,
     "metadata": {},
     "output_type": "execute_result"
    },
    {
     "data": {
      "image/png": "[encoded data removed]",
      "text/plain": [
       "<Figure size 1224x648 with 1 Axes>"
      ]
     },
     "metadata": {
      "needs_background": "light"
     },
     "output_type": "display_data"
    }
   ],
   "source": [
    "fig = plt.figure(figsize= (17,9))\n",
    "sns.countplot(data=train_df,x=\"Occupation\",hue=\"Credit_Mix\")"
   ]
  },
  {
   "cell_type": "code",
   "execution_count": 35,
   "id": "25ed8711",
   "metadata": {
    "execution": {
     "iopub.execute_input": "2022-12-15T11:10:03.601849Z",
     "iopub.status.busy": "2022-12-15T11:10:03.601258Z",
     "iopub.status.idle": "2022-12-15T11:10:04.177888Z",
     "shell.execute_reply": "2022-12-15T11:10:04.176463Z"
    },
    "papermill": {
     "duration": 0.604478,
     "end_time": "2022-12-15T11:10:04.180551",
     "exception": false,
     "start_time": "2022-12-15T11:10:03.576073",
     "status": "completed"
    },
    "tags": []
   },
   "outputs": [
    {
     "data": {
      "text/plain": [
       "<AxesSubplot:xlabel='Occupation', ylabel='count'>"
      ]
     },
     "execution_count": 35,
     "metadata": {},
     "output_type": "execute_result"
    },
    {
     "data": {
      "image/png": "[encoded data removed]",
      "text/plain": [
       "<Figure size 1224x648 with 1 Axes>"
      ]
     },
     "metadata": {
      "needs_background": "light"
     },
     "output_type": "display_data"
    }
   ],
   "source": [
    "fig = plt.figure(figsize= (17,9))\n",
    "sns.countplot(data=train_df,x=\"Occupation\",hue=\"Payment_of_Min_Amount\")"
   ]
  },
  {
   "cell_type": "code",
   "execution_count": 36,
   "id": "6f9c30e2",
   "metadata": {
    "execution": {
     "iopub.execute_input": "2022-12-15T11:10:04.229926Z",
     "iopub.status.busy": "2022-12-15T11:10:04.229479Z",
     "iopub.status.idle": "2022-12-15T11:10:05.021697Z",
     "shell.execute_reply": "2022-12-15T11:10:05.020503Z"
    },
    "papermill": {
     "duration": 0.820032,
     "end_time": "2022-12-15T11:10:05.024575",
     "exception": false,
     "start_time": "2022-12-15T11:10:04.204543",
     "status": "completed"
    },
    "tags": []
   },
   "outputs": [
    {
     "data": {
      "text/plain": [
       "<AxesSubplot:xlabel='Occupation', ylabel='count'>"
      ]
     },
     "execution_count": 36,
     "metadata": {},
     "output_type": "execute_result"
    },
    {
     "data": {
      "image/png": "[encoded data removed]",
      "text/plain": [
       "<Figure size 432x288 with 1 Axes>"
      ]
     },
     "metadata": {
      "needs_background": "light"
     },
     "output_type": "display_data"
    }
   ],
   "source": [
    "sns.countplot(data=train_df,x=\"Occupation\",hue=\"Payment_Behaviour\")"
   ]
  },
  {
   "cell_type": "code",
   "execution_count": 37,
   "id": "f749b62e",
   "metadata": {
    "execution": {
     "iopub.execute_input": "2022-12-15T11:10:05.076608Z",
     "iopub.status.busy": "2022-12-15T11:10:05.076121Z",
     "iopub.status.idle": "2022-12-15T11:10:05.106070Z",
     "shell.execute_reply": "2022-12-15T11:10:05.104704Z"
    },
    "papermill": {
     "duration": 0.059133,
     "end_time": "2022-12-15T11:10:05.108706",
     "exception": false,
     "start_time": "2022-12-15T11:10:05.049573",
     "status": "completed"
    },
    "tags": []
   },
   "outputs": [
    {
     "data": {
      "text/plain": [
       "Index(['Age', 'Annual_Income', 'Monthly_Inhand_Salary', 'Num_Bank_Accounts',\n",
       "       'Num_Credit_Card', 'Interest_Rate', 'Num_of_Loan',\n",
       "       'Delay_from_due_date', 'Num_of_Delayed_Payment', 'Changed_Credit_Limit',\n",
       "       'Num_Credit_Inquiries', 'Outstanding_Debt', 'Credit_Utilization_Ratio',\n",
       "       'Total_EMI_per_month', 'Amount_invested_monthly', 'Monthly_Balance'],\n",
       "      dtype='object')"
      ]
     },
     "execution_count": 37,
     "metadata": {},
     "output_type": "execute_result"
    }
   ],
   "source": [
    "numeric_cols = train_df.select_dtypes(exclude = \"object\").columns\n",
    "cat_cols = test_df.select_dtypes(include = \"object\").columns\n",
    "numeric_cols"
   ]
  },
  {
   "cell_type": "code",
   "execution_count": 38,
   "id": "7c4932d7",
   "metadata": {
    "execution": {
     "iopub.execute_input": "2022-12-15T11:10:05.158581Z",
     "iopub.status.busy": "2022-12-15T11:10:05.158079Z",
     "iopub.status.idle": "2022-12-15T11:10:05.165995Z",
     "shell.execute_reply": "2022-12-15T11:10:05.164846Z"
    },
    "papermill": {
     "duration": 0.035508,
     "end_time": "2022-12-15T11:10:05.168231",
     "exception": false,
     "start_time": "2022-12-15T11:10:05.132723",
     "status": "completed"
    },
    "tags": []
   },
   "outputs": [
    {
     "data": {
      "text/plain": [
       "Index(['ID', 'Customer_ID', 'Month', 'Name', 'Age', 'SSN', 'Occupation',\n",
       "       'Annual_Income', 'Num_of_Loan', 'Type_of_Loan',\n",
       "       'Num_of_Delayed_Payment', 'Changed_Credit_Limit', 'Credit_Mix',\n",
       "       'Outstanding_Debt', 'Credit_History_Age', 'Payment_of_Min_Amount',\n",
       "       'Amount_invested_monthly', 'Payment_Behaviour', 'Monthly_Balance'],\n",
       "      dtype='object')"
      ]
     },
     "execution_count": 38,
     "metadata": {},
     "output_type": "execute_result"
    }
   ],
   "source": [
    "cat_cols"
   ]
  },
  {
   "cell_type": "code",
   "execution_count": 39,
   "id": "8271fc81",
   "metadata": {
    "execution": {
     "iopub.execute_input": "2022-12-15T11:10:05.218908Z",
     "iopub.status.busy": "2022-12-15T11:10:05.218429Z",
     "iopub.status.idle": "2022-12-15T11:10:05.323234Z",
     "shell.execute_reply": "2022-12-15T11:10:05.322054Z"
    },
    "papermill": {
     "duration": 0.133972,
     "end_time": "2022-12-15T11:10:05.326420",
     "exception": false,
     "start_time": "2022-12-15T11:10:05.192448",
     "status": "completed"
    },
    "tags": []
   },
   "outputs": [],
   "source": [
    "from statsmodels.stats.outliers_influence import variance_inflation_factor"
   ]
  },
  {
   "cell_type": "code",
   "execution_count": 40,
   "id": "cc33797a",
   "metadata": {
    "execution": {
     "iopub.execute_input": "2022-12-15T11:10:05.380694Z",
     "iopub.status.busy": "2022-12-15T11:10:05.380233Z",
     "iopub.status.idle": "2022-12-15T11:10:08.666915Z",
     "shell.execute_reply": "2022-12-15T11:10:08.664938Z"
    },
    "papermill": {
     "duration": 3.320089,
     "end_time": "2022-12-15T11:10:08.672341",
     "exception": false,
     "start_time": "2022-12-15T11:10:05.352252",
     "status": "completed"
    },
    "tags": []
   },
   "outputs": [
    {
     "data": {
      "text/html": [
       "<div>\n",
       "<style scoped>\n",
       "    .dataframe tbody tr th:only-of-type {\n",
       "        vertical-align: middle;\n",
       "    }\n",
       "\n",
       "    .dataframe tbody tr th {\n",
       "        vertical-align: top;\n",
       "    }\n",
       "\n",
       "    .dataframe thead th {\n",
       "        text-align: right;\n",
       "    }\n",
       "</style>\n",
       "<table border=\"1\" class=\"dataframe\">\n",
       "  <thead>\n",
       "    <tr style=\"text-align: right;\">\n",
       "      <th></th>\n",
       "      <th>feature</th>\n",
       "      <th>VIF</th>\n",
       "    </tr>\n",
       "  </thead>\n",
       "  <tbody>\n",
       "    <tr>\n",
       "      <th>0</th>\n",
       "      <td>Age</td>\n",
       "      <td>1.030038</td>\n",
       "    </tr>\n",
       "    <tr>\n",
       "      <th>1</th>\n",
       "      <td>Annual_Income</td>\n",
       "      <td>1.016180</td>\n",
       "    </tr>\n",
       "    <tr>\n",
       "      <th>2</th>\n",
       "      <td>Monthly_Inhand_Salary</td>\n",
       "      <td>4.749318</td>\n",
       "    </tr>\n",
       "    <tr>\n",
       "      <th>3</th>\n",
       "      <td>Num_Bank_Accounts</td>\n",
       "      <td>1.021308</td>\n",
       "    </tr>\n",
       "    <tr>\n",
       "      <th>4</th>\n",
       "      <td>Num_Credit_Card</td>\n",
       "      <td>1.029837</td>\n",
       "    </tr>\n",
       "    <tr>\n",
       "      <th>5</th>\n",
       "      <td>Interest_Rate</td>\n",
       "      <td>1.023873</td>\n",
       "    </tr>\n",
       "    <tr>\n",
       "      <th>6</th>\n",
       "      <td>Num_of_Loan</td>\n",
       "      <td>1.030466</td>\n",
       "    </tr>\n",
       "    <tr>\n",
       "      <th>7</th>\n",
       "      <td>Delay_from_due_date</td>\n",
       "      <td>4.437336</td>\n",
       "    </tr>\n",
       "    <tr>\n",
       "      <th>8</th>\n",
       "      <td>Num_of_Delayed_Payment</td>\n",
       "      <td>1.018731</td>\n",
       "    </tr>\n",
       "    <tr>\n",
       "      <th>9</th>\n",
       "      <td>Changed_Credit_Limit</td>\n",
       "      <td>4.289836</td>\n",
       "    </tr>\n",
       "    <tr>\n",
       "      <th>10</th>\n",
       "      <td>Num_Credit_Inquiries</td>\n",
       "      <td>1.020461</td>\n",
       "    </tr>\n",
       "    <tr>\n",
       "      <th>11</th>\n",
       "      <td>Outstanding_Debt</td>\n",
       "      <td>4.465104</td>\n",
       "    </tr>\n",
       "    <tr>\n",
       "      <th>12</th>\n",
       "      <td>Credit_Utilization_Ratio</td>\n",
       "      <td>10.665674</td>\n",
       "    </tr>\n",
       "    <tr>\n",
       "      <th>13</th>\n",
       "      <td>Total_EMI_per_month</td>\n",
       "      <td>1.028169</td>\n",
       "    </tr>\n",
       "    <tr>\n",
       "      <th>14</th>\n",
       "      <td>Amount_invested_monthly</td>\n",
       "      <td>1.098987</td>\n",
       "    </tr>\n",
       "    <tr>\n",
       "      <th>15</th>\n",
       "      <td>Monthly_Balance</td>\n",
       "      <td>8.215554</td>\n",
       "    </tr>\n",
       "  </tbody>\n",
       "</table>\n",
       "</div>"
      ],
      "text/plain": [
       "                     feature        VIF\n",
       "0                        Age   1.030038\n",
       "1              Annual_Income   1.016180\n",
       "2      Monthly_Inhand_Salary   4.749318\n",
       "3          Num_Bank_Accounts   1.021308\n",
       "4            Num_Credit_Card   1.029837\n",
       "5              Interest_Rate   1.023873\n",
       "6                Num_of_Loan   1.030466\n",
       "7        Delay_from_due_date   4.437336\n",
       "8     Num_of_Delayed_Payment   1.018731\n",
       "9       Changed_Credit_Limit   4.289836\n",
       "10      Num_Credit_Inquiries   1.020461\n",
       "11          Outstanding_Debt   4.465104\n",
       "12  Credit_Utilization_Ratio  10.665674\n",
       "13       Total_EMI_per_month   1.028169\n",
       "14   Amount_invested_monthly   1.098987\n",
       "15           Monthly_Balance   8.215554"
      ]
     },
     "execution_count": 40,
     "metadata": {},
     "output_type": "execute_result"
    }
   ],
   "source": [
    "vif_df = train_df[numeric_cols]\n",
    "\n",
    "vif_data = pd.DataFrame()\n",
    "vif_data[\"feature\"] = vif_df.columns\n",
    "vif_data[\"VIF\"] = [variance_inflation_factor(vif_df.values ,i) for i in range(len(vif_df.columns))]\n",
    "vif_data.head(17)"
   ]
  },
  {
   "cell_type": "code",
   "execution_count": 41,
   "id": "3b423739",
   "metadata": {
    "execution": {
     "iopub.execute_input": "2022-12-15T11:10:08.782202Z",
     "iopub.status.busy": "2022-12-15T11:10:08.781747Z",
     "iopub.status.idle": "2022-12-15T11:10:10.720557Z",
     "shell.execute_reply": "2022-12-15T11:10:10.719239Z"
    },
    "papermill": {
     "duration": 1.98419,
     "end_time": "2022-12-15T11:10:10.723443",
     "exception": false,
     "start_time": "2022-12-15T11:10:08.739253",
     "status": "completed"
    },
    "tags": []
   },
   "outputs": [
    {
     "data": {
      "text/plain": [
       "<AxesSubplot:>"
      ]
     },
     "execution_count": 41,
     "metadata": {},
     "output_type": "execute_result"
    },
    {
     "data": {
      "image/png": "[encoded data removed]",
      "text/plain": [
       "<Figure size 864x864 with 2 Axes>"
      ]
     },
     "metadata": {
      "needs_background": "light"
     },
     "output_type": "display_data"
    }
   ],
   "source": [
    "plt.figure(figsize= (12,12))\n",
    "sns.heatmap(train_df[numeric_cols].corr(),annot=True)"
   ]
  },
  {
   "cell_type": "code",
   "execution_count": 42,
   "id": "1e898d05",
   "metadata": {
    "execution": {
     "iopub.execute_input": "2022-12-15T11:10:10.778004Z",
     "iopub.status.busy": "2022-12-15T11:10:10.777598Z",
     "iopub.status.idle": "2022-12-15T11:10:10.784833Z",
     "shell.execute_reply": "2022-12-15T11:10:10.783444Z"
    },
    "papermill": {
     "duration": 0.038115,
     "end_time": "2022-12-15T11:10:10.787680",
     "exception": false,
     "start_time": "2022-12-15T11:10:10.749565",
     "status": "completed"
    },
    "tags": []
   },
   "outputs": [],
   "source": [
    "def box_plot(train_df, num_cols):\n",
    "    plt.figure(figsize=(20, 15))\n",
    "    for i in range(len(num_cols)):\n",
    "        if i == 16:\n",
    "            break\n",
    "        else:\n",
    "            plt.subplot(4,4, i+1)\n",
    "            l = num_cols[i]\n",
    "            sns.boxplot(train_df[l], palette=\"flare\")"
   ]
  },
  {
   "cell_type": "code",
   "execution_count": 43,
   "id": "d886fee9",
   "metadata": {
    "execution": {
     "iopub.execute_input": "2022-12-15T11:10:10.843629Z",
     "iopub.status.busy": "2022-12-15T11:10:10.842526Z",
     "iopub.status.idle": "2022-12-15T11:10:12.929834Z",
     "shell.execute_reply": "2022-12-15T11:10:12.928343Z"
    },
    "papermill": {
     "duration": 2.118467,
     "end_time": "2022-12-15T11:10:12.932972",
     "exception": false,
     "start_time": "2022-12-15T11:10:10.814505",
     "status": "completed"
    },
    "tags": []
   },
   "outputs": [
    {
     "name": "stderr",
     "output_type": "stream",
     "text": [
      "/opt/conda/lib/python3.7/site-packages/seaborn/_decorators.py:43: FutureWarning: Pass the following variable as a keyword arg: x. From version 0.12, the only valid positional argument will be `data`, and passing other arguments without an explicit keyword will result in an error or misinterpretation.\n",
      "  FutureWarning\n",
      "/opt/conda/lib/python3.7/site-packages/seaborn/_decorators.py:43: FutureWarning: Pass the following variable as a keyword arg: x. From version 0.12, the only valid positional argument will be `data`, and passing other arguments without an explicit keyword will result in an error or misinterpretation.\n",
      "  FutureWarning\n",
      "/opt/conda/lib/python3.7/site-packages/seaborn/_decorators.py:43: FutureWarning: Pass the following variable as a keyword arg: x. From version 0.12, the only valid positional argument will be `data`, and passing other arguments without an explicit keyword will result in an error or misinterpretation.\n",
      "  FutureWarning\n",
      "/opt/conda/lib/python3.7/site-packages/seaborn/_decorators.py:43: FutureWarning: Pass the following variable as a keyword arg: x. From version 0.12, the only valid positional argument will be `data`, and passing other arguments without an explicit keyword will result in an error or misinterpretation.\n",
      "  FutureWarning\n",
      "/opt/conda/lib/python3.7/site-packages/seaborn/_decorators.py:43: FutureWarning: Pass the following variable as a keyword arg: x. From version 0.12, the only valid positional argument will be `data`, and passing other arguments without an explicit keyword will result in an error or misinterpretation.\n",
      "  FutureWarning\n",
      "/opt/conda/lib/python3.7/site-packages/seaborn/_decorators.py:43: FutureWarning: Pass the following variable as a keyword arg: x. From version 0.12, the only valid positional argument will be `data`, and passing other arguments without an explicit keyword will result in an error or misinterpretation.\n",
      "  FutureWarning\n",
      "/opt/conda/lib/python3.7/site-packages/seaborn/_decorators.py:43: FutureWarning: Pass the following variable as a keyword arg: x. From version 0.12, the only valid positional argument will be `data`, and passing other arguments without an explicit keyword will result in an error or misinterpretation.\n",
      "  FutureWarning\n",
      "/opt/conda/lib/python3.7/site-packages/seaborn/_decorators.py:43: FutureWarning: Pass the following variable as a keyword arg: x. From version 0.12, the only valid positional argument will be `data`, and passing other arguments without an explicit keyword will result in an error or misinterpretation.\n",
      "  FutureWarning\n",
      "/opt/conda/lib/python3.7/site-packages/seaborn/_decorators.py:43: FutureWarning: Pass the following variable as a keyword arg: x. From version 0.12, the only valid positional argument will be `data`, and passing other arguments without an explicit keyword will result in an error or misinterpretation.\n",
      "  FutureWarning\n",
      "/opt/conda/lib/python3.7/site-packages/seaborn/_decorators.py:43: FutureWarning: Pass the following variable as a keyword arg: x. From version 0.12, the only valid positional argument will be `data`, and passing other arguments without an explicit keyword will result in an error or misinterpretation.\n",
      "  FutureWarning\n",
      "/opt/conda/lib/python3.7/site-packages/seaborn/_decorators.py:43: FutureWarning: Pass the following variable as a keyword arg: x. From version 0.12, the only valid positional argument will be `data`, and passing other arguments without an explicit keyword will result in an error or misinterpretation.\n",
      "  FutureWarning\n",
      "/opt/conda/lib/python3.7/site-packages/seaborn/_decorators.py:43: FutureWarning: Pass the following variable as a keyword arg: x. From version 0.12, the only valid positional argument will be `data`, and passing other arguments without an explicit keyword will result in an error or misinterpretation.\n",
      "  FutureWarning\n",
      "/opt/conda/lib/python3.7/site-packages/seaborn/_decorators.py:43: FutureWarning: Pass the following variable as a keyword arg: x. From version 0.12, the only valid positional argument will be `data`, and passing other arguments without an explicit keyword will result in an error or misinterpretation.\n",
      "  FutureWarning\n",
      "/opt/conda/lib/python3.7/site-packages/seaborn/_decorators.py:43: FutureWarning: Pass the following variable as a keyword arg: x. From version 0.12, the only valid positional argument will be `data`, and passing other arguments without an explicit keyword will result in an error or misinterpretation.\n",
      "  FutureWarning\n",
      "/opt/conda/lib/python3.7/site-packages/seaborn/_decorators.py:43: FutureWarning: Pass the following variable as a keyword arg: x. From version 0.12, the only valid positional argument will be `data`, and passing other arguments without an explicit keyword will result in an error or misinterpretation.\n",
      "  FutureWarning\n",
      "/opt/conda/lib/python3.7/site-packages/seaborn/_decorators.py:43: FutureWarning: Pass the following variable as a keyword arg: x. From version 0.12, the only valid positional argument will be `data`, and passing other arguments without an explicit keyword will result in an error or misinterpretation.\n",
      "  FutureWarning\n"
     ]
    },
    {
     "data": {
      "image/png": "[encoded data removed]",
      "text/plain": [
       "<Figure size 1440x1080 with 16 Axes>"
      ]
     },
     "metadata": {
      "needs_background": "light"
     },
     "output_type": "display_data"
    }
   ],
   "source": [
    "box_plot(train_df, numeric_cols)"
   ]
  },
  {
   "cell_type": "code",
   "execution_count": 44,
   "id": "1a398538",
   "metadata": {
    "execution": {
     "iopub.execute_input": "2022-12-15T11:10:12.992145Z",
     "iopub.status.busy": "2022-12-15T11:10:12.991225Z",
     "iopub.status.idle": "2022-12-15T11:10:12.997078Z",
     "shell.execute_reply": "2022-12-15T11:10:12.996108Z"
    },
    "papermill": {
     "duration": 0.038787,
     "end_time": "2022-12-15T11:10:12.999636",
     "exception": false,
     "start_time": "2022-12-15T11:10:12.960849",
     "status": "completed"
    },
    "tags": []
   },
   "outputs": [],
   "source": [
    "def RobustScaling(df_num, cols):\n",
    "    scaler = preprocessing.RobustScaler()\n",
    "    robust_df_temp = scaler.fit_transform(df_num)\n",
    "    robust_df_temp = pd.DataFrame(robust_df_temp, columns =cols)\n",
    "    return robust_df_temp"
   ]
  },
  {
   "cell_type": "code",
   "execution_count": 45,
   "id": "d8aa5aaf",
   "metadata": {
    "execution": {
     "iopub.execute_input": "2022-12-15T11:10:13.058120Z",
     "iopub.status.busy": "2022-12-15T11:10:13.056920Z",
     "iopub.status.idle": "2022-12-15T11:10:13.191479Z",
     "shell.execute_reply": "2022-12-15T11:10:13.190190Z"
    },
    "papermill": {
     "duration": 0.166356,
     "end_time": "2022-12-15T11:10:13.194364",
     "exception": false,
     "start_time": "2022-12-15T11:10:13.028008",
     "status": "completed"
    },
    "tags": []
   },
   "outputs": [],
   "source": [
    "train_df[numeric_cols] = RobustScaling(train_df[numeric_cols], numeric_cols)"
   ]
  },
  {
   "cell_type": "code",
   "execution_count": 46,
   "id": "499e5a55",
   "metadata": {
    "execution": {
     "iopub.execute_input": "2022-12-15T11:10:13.251952Z",
     "iopub.status.busy": "2022-12-15T11:10:13.251190Z",
     "iopub.status.idle": "2022-12-15T11:10:13.332763Z",
     "shell.execute_reply": "2022-12-15T11:10:13.331368Z"
    },
    "papermill": {
     "duration": 0.11365,
     "end_time": "2022-12-15T11:10:13.335512",
     "exception": false,
     "start_time": "2022-12-15T11:10:13.221862",
     "status": "completed"
    },
    "tags": []
   },
   "outputs": [
    {
     "data": {
      "text/html": [
       "<div>\n",
       "<style scoped>\n",
       "    .dataframe tbody tr th:only-of-type {\n",
       "        vertical-align: middle;\n",
       "    }\n",
       "\n",
       "    .dataframe tbody tr th {\n",
       "        vertical-align: top;\n",
       "    }\n",
       "\n",
       "    .dataframe thead th {\n",
       "        text-align: right;\n",
       "    }\n",
       "</style>\n",
       "<table border=\"1\" class=\"dataframe\">\n",
       "  <thead>\n",
       "    <tr style=\"text-align: right;\">\n",
       "      <th></th>\n",
       "      <th>Age</th>\n",
       "      <th>Occupation</th>\n",
       "      <th>Annual_Income</th>\n",
       "      <th>Monthly_Inhand_Salary</th>\n",
       "      <th>Num_Bank_Accounts</th>\n",
       "      <th>Num_Credit_Card</th>\n",
       "      <th>Interest_Rate</th>\n",
       "      <th>Num_of_Loan</th>\n",
       "      <th>Delay_from_due_date</th>\n",
       "      <th>Num_of_Delayed_Payment</th>\n",
       "      <th>...</th>\n",
       "      <th>Num_Credit_Inquiries</th>\n",
       "      <th>Credit_Mix</th>\n",
       "      <th>Outstanding_Debt</th>\n",
       "      <th>Credit_Utilization_Ratio</th>\n",
       "      <th>Payment_of_Min_Amount</th>\n",
       "      <th>Total_EMI_per_month</th>\n",
       "      <th>Amount_invested_monthly</th>\n",
       "      <th>Payment_Behaviour</th>\n",
       "      <th>Monthly_Balance</th>\n",
       "      <th>Credit_Score</th>\n",
       "    </tr>\n",
       "  </thead>\n",
       "  <tbody>\n",
       "    <tr>\n",
       "      <th>0</th>\n",
       "      <td>-0.647059</td>\n",
       "      <td>Scientist</td>\n",
       "      <td>-0.346184</td>\n",
       "      <td>-0.353833</td>\n",
       "      <td>-0.75</td>\n",
       "      <td>-0.333333</td>\n",
       "      <td>-0.833333</td>\n",
       "      <td>0.25</td>\n",
       "      <td>-0.833333</td>\n",
       "      <td>-0.777778</td>\n",
       "      <td>...</td>\n",
       "      <td>-0.333333</td>\n",
       "      <td>Good</td>\n",
       "      <td>-0.258117</td>\n",
       "      <td>-0.648868</td>\n",
       "      <td>No</td>\n",
       "      <td>-0.150195</td>\n",
       "      <td>-0.311222</td>\n",
       "      <td>High_spent_Small_value_payments</td>\n",
       "      <td>-0.122904</td>\n",
       "      <td>Good</td>\n",
       "    </tr>\n",
       "    <tr>\n",
       "      <th>1</th>\n",
       "      <td>-0.647059</td>\n",
       "      <td>Scientist</td>\n",
       "      <td>-0.346184</td>\n",
       "      <td>0.000000</td>\n",
       "      <td>-0.75</td>\n",
       "      <td>-0.333333</td>\n",
       "      <td>-0.833333</td>\n",
       "      <td>0.25</td>\n",
       "      <td>-1.055556</td>\n",
       "      <td>0.000000</td>\n",
       "      <td>...</td>\n",
       "      <td>-0.333333</td>\n",
       "      <td>Good</td>\n",
       "      <td>-0.258117</td>\n",
       "      <td>-0.042096</td>\n",
       "      <td>No</td>\n",
       "      <td>-0.150195</td>\n",
       "      <td>-0.098445</td>\n",
       "      <td>Low_spent_Large_value_payments</td>\n",
       "      <td>-0.264738</td>\n",
       "      <td>Good</td>\n",
       "    </tr>\n",
       "    <tr>\n",
       "      <th>3</th>\n",
       "      <td>-0.647059</td>\n",
       "      <td>Scientist</td>\n",
       "      <td>-0.346184</td>\n",
       "      <td>-0.353833</td>\n",
       "      <td>-0.75</td>\n",
       "      <td>-0.333333</td>\n",
       "      <td>-0.833333</td>\n",
       "      <td>0.25</td>\n",
       "      <td>-0.666667</td>\n",
       "      <td>0.000000</td>\n",
       "      <td>...</td>\n",
       "      <td>-0.333333</td>\n",
       "      <td>Good</td>\n",
       "      <td>-0.258117</td>\n",
       "      <td>-0.888774</td>\n",
       "      <td>No</td>\n",
       "      <td>-0.150195</td>\n",
       "      <td>-0.530350</td>\n",
       "      <td>Low_spent_Small_value_payments</td>\n",
       "      <td>0.024683</td>\n",
       "      <td>Good</td>\n",
       "    </tr>\n",
       "    <tr>\n",
       "      <th>4</th>\n",
       "      <td>-0.647059</td>\n",
       "      <td>Scientist</td>\n",
       "      <td>-0.346184</td>\n",
       "      <td>0.000000</td>\n",
       "      <td>-0.75</td>\n",
       "      <td>-0.333333</td>\n",
       "      <td>-0.833333</td>\n",
       "      <td>0.25</td>\n",
       "      <td>-0.555556</td>\n",
       "      <td>-1.111111</td>\n",
       "      <td>...</td>\n",
       "      <td>-0.333333</td>\n",
       "      <td>Good</td>\n",
       "      <td>-0.258117</td>\n",
       "      <td>-0.596790</td>\n",
       "      <td>No</td>\n",
       "      <td>-0.150195</td>\n",
       "      <td>-0.412287</td>\n",
       "      <td>High_spent_Medium_value_payments</td>\n",
       "      <td>0.019542</td>\n",
       "      <td>Good</td>\n",
       "    </tr>\n",
       "    <tr>\n",
       "      <th>5</th>\n",
       "      <td>-0.647059</td>\n",
       "      <td>Scientist</td>\n",
       "      <td>-0.346184</td>\n",
       "      <td>-0.353833</td>\n",
       "      <td>-0.75</td>\n",
       "      <td>-0.333333</td>\n",
       "      <td>-0.833333</td>\n",
       "      <td>0.25</td>\n",
       "      <td>-0.833333</td>\n",
       "      <td>-0.666667</td>\n",
       "      <td>...</td>\n",
       "      <td>-0.333333</td>\n",
       "      <td>Good</td>\n",
       "      <td>-0.258117</td>\n",
       "      <td>-1.156456</td>\n",
       "      <td>No</td>\n",
       "      <td>-0.150195</td>\n",
       "      <td>0.239076</td>\n",
       "      <td>Low_spent_Medium_value_payments</td>\n",
       "      <td>-0.468666</td>\n",
       "      <td>Good</td>\n",
       "    </tr>\n",
       "    <tr>\n",
       "      <th>...</th>\n",
       "      <td>...</td>\n",
       "      <td>...</td>\n",
       "      <td>...</td>\n",
       "      <td>...</td>\n",
       "      <td>...</td>\n",
       "      <td>...</td>\n",
       "      <td>...</td>\n",
       "      <td>...</td>\n",
       "      <td>...</td>\n",
       "      <td>...</td>\n",
       "      <td>...</td>\n",
       "      <td>...</td>\n",
       "      <td>...</td>\n",
       "      <td>...</td>\n",
       "      <td>...</td>\n",
       "      <td>...</td>\n",
       "      <td>...</td>\n",
       "      <td>...</td>\n",
       "      <td>...</td>\n",
       "      <td>...</td>\n",
       "      <td>...</td>\n",
       "    </tr>\n",
       "    <tr>\n",
       "      <th>99995</th>\n",
       "      <td>NaN</td>\n",
       "      <td>Mechanic</td>\n",
       "      <td>NaN</td>\n",
       "      <td>NaN</td>\n",
       "      <td>NaN</td>\n",
       "      <td>NaN</td>\n",
       "      <td>NaN</td>\n",
       "      <td>NaN</td>\n",
       "      <td>NaN</td>\n",
       "      <td>NaN</td>\n",
       "      <td>...</td>\n",
       "      <td>NaN</td>\n",
       "      <td>Good</td>\n",
       "      <td>NaN</td>\n",
       "      <td>NaN</td>\n",
       "      <td>No</td>\n",
       "      <td>NaN</td>\n",
       "      <td>NaN</td>\n",
       "      <td>High_spent_Large_value_payments</td>\n",
       "      <td>NaN</td>\n",
       "      <td>Poor</td>\n",
       "    </tr>\n",
       "    <tr>\n",
       "      <th>99996</th>\n",
       "      <td>NaN</td>\n",
       "      <td>Mechanic</td>\n",
       "      <td>NaN</td>\n",
       "      <td>NaN</td>\n",
       "      <td>NaN</td>\n",
       "      <td>NaN</td>\n",
       "      <td>NaN</td>\n",
       "      <td>NaN</td>\n",
       "      <td>NaN</td>\n",
       "      <td>NaN</td>\n",
       "      <td>...</td>\n",
       "      <td>NaN</td>\n",
       "      <td>Good</td>\n",
       "      <td>NaN</td>\n",
       "      <td>NaN</td>\n",
       "      <td>No</td>\n",
       "      <td>NaN</td>\n",
       "      <td>NaN</td>\n",
       "      <td>High_spent_Medium_value_payments</td>\n",
       "      <td>NaN</td>\n",
       "      <td>Poor</td>\n",
       "    </tr>\n",
       "    <tr>\n",
       "      <th>99997</th>\n",
       "      <td>NaN</td>\n",
       "      <td>Mechanic</td>\n",
       "      <td>NaN</td>\n",
       "      <td>NaN</td>\n",
       "      <td>NaN</td>\n",
       "      <td>NaN</td>\n",
       "      <td>NaN</td>\n",
       "      <td>NaN</td>\n",
       "      <td>NaN</td>\n",
       "      <td>NaN</td>\n",
       "      <td>...</td>\n",
       "      <td>NaN</td>\n",
       "      <td>Good</td>\n",
       "      <td>NaN</td>\n",
       "      <td>NaN</td>\n",
       "      <td>No</td>\n",
       "      <td>NaN</td>\n",
       "      <td>NaN</td>\n",
       "      <td>High_spent_Large_value_payments</td>\n",
       "      <td>NaN</td>\n",
       "      <td>Poor</td>\n",
       "    </tr>\n",
       "    <tr>\n",
       "      <th>99998</th>\n",
       "      <td>NaN</td>\n",
       "      <td>Mechanic</td>\n",
       "      <td>NaN</td>\n",
       "      <td>NaN</td>\n",
       "      <td>NaN</td>\n",
       "      <td>NaN</td>\n",
       "      <td>NaN</td>\n",
       "      <td>NaN</td>\n",
       "      <td>NaN</td>\n",
       "      <td>NaN</td>\n",
       "      <td>...</td>\n",
       "      <td>NaN</td>\n",
       "      <td>Good</td>\n",
       "      <td>NaN</td>\n",
       "      <td>NaN</td>\n",
       "      <td>No</td>\n",
       "      <td>NaN</td>\n",
       "      <td>NaN</td>\n",
       "      <td>Low_spent_Large_value_payments</td>\n",
       "      <td>NaN</td>\n",
       "      <td>Standard</td>\n",
       "    </tr>\n",
       "    <tr>\n",
       "      <th>99999</th>\n",
       "      <td>NaN</td>\n",
       "      <td>Mechanic</td>\n",
       "      <td>NaN</td>\n",
       "      <td>NaN</td>\n",
       "      <td>NaN</td>\n",
       "      <td>NaN</td>\n",
       "      <td>NaN</td>\n",
       "      <td>NaN</td>\n",
       "      <td>NaN</td>\n",
       "      <td>NaN</td>\n",
       "      <td>...</td>\n",
       "      <td>NaN</td>\n",
       "      <td>Good</td>\n",
       "      <td>NaN</td>\n",
       "      <td>NaN</td>\n",
       "      <td>No</td>\n",
       "      <td>NaN</td>\n",
       "      <td>NaN</td>\n",
       "      <td>Low_spent_Medium_value_payments</td>\n",
       "      <td>NaN</td>\n",
       "      <td>Poor</td>\n",
       "    </tr>\n",
       "  </tbody>\n",
       "</table>\n",
       "<p>97900 rows × 21 columns</p>\n",
       "</div>"
      ],
      "text/plain": [
       "            Age Occupation  Annual_Income  Monthly_Inhand_Salary  \\\n",
       "0     -0.647059  Scientist      -0.346184              -0.353833   \n",
       "1     -0.647059  Scientist      -0.346184               0.000000   \n",
       "3     -0.647059  Scientist      -0.346184              -0.353833   \n",
       "4     -0.647059  Scientist      -0.346184               0.000000   \n",
       "5     -0.647059  Scientist      -0.346184              -0.353833   \n",
       "...         ...        ...            ...                    ...   \n",
       "99995       NaN   Mechanic            NaN                    NaN   \n",
       "99996       NaN   Mechanic            NaN                    NaN   \n",
       "99997       NaN   Mechanic            NaN                    NaN   \n",
       "99998       NaN   Mechanic            NaN                    NaN   \n",
       "99999       NaN   Mechanic            NaN                    NaN   \n",
       "\n",
       "       Num_Bank_Accounts  Num_Credit_Card  Interest_Rate  Num_of_Loan  \\\n",
       "0                  -0.75        -0.333333      -0.833333         0.25   \n",
       "1                  -0.75        -0.333333      -0.833333         0.25   \n",
       "3                  -0.75        -0.333333      -0.833333         0.25   \n",
       "4                  -0.75        -0.333333      -0.833333         0.25   \n",
       "5                  -0.75        -0.333333      -0.833333         0.25   \n",
       "...                  ...              ...            ...          ...   \n",
       "99995                NaN              NaN            NaN          NaN   \n",
       "99996                NaN              NaN            NaN          NaN   \n",
       "99997                NaN              NaN            NaN          NaN   \n",
       "99998                NaN              NaN            NaN          NaN   \n",
       "99999                NaN              NaN            NaN          NaN   \n",
       "\n",
       "       Delay_from_due_date  Num_of_Delayed_Payment  ...  Num_Credit_Inquiries  \\\n",
       "0                -0.833333               -0.777778  ...             -0.333333   \n",
       "1                -1.055556                0.000000  ...             -0.333333   \n",
       "3                -0.666667                0.000000  ...             -0.333333   \n",
       "4                -0.555556               -1.111111  ...             -0.333333   \n",
       "5                -0.833333               -0.666667  ...             -0.333333   \n",
       "...                    ...                     ...  ...                   ...   \n",
       "99995                  NaN                     NaN  ...                   NaN   \n",
       "99996                  NaN                     NaN  ...                   NaN   \n",
       "99997                  NaN                     NaN  ...                   NaN   \n",
       "99998                  NaN                     NaN  ...                   NaN   \n",
       "99999                  NaN                     NaN  ...                   NaN   \n",
       "\n",
       "       Credit_Mix Outstanding_Debt  Credit_Utilization_Ratio  \\\n",
       "0            Good        -0.258117                 -0.648868   \n",
       "1            Good        -0.258117                 -0.042096   \n",
       "3            Good        -0.258117                 -0.888774   \n",
       "4            Good        -0.258117                 -0.596790   \n",
       "5            Good        -0.258117                 -1.156456   \n",
       "...           ...              ...                       ...   \n",
       "99995        Good              NaN                       NaN   \n",
       "99996        Good              NaN                       NaN   \n",
       "99997        Good              NaN                       NaN   \n",
       "99998        Good              NaN                       NaN   \n",
       "99999        Good              NaN                       NaN   \n",
       "\n",
       "       Payment_of_Min_Amount Total_EMI_per_month  Amount_invested_monthly  \\\n",
       "0                         No           -0.150195                -0.311222   \n",
       "1                         No           -0.150195                -0.098445   \n",
       "3                         No           -0.150195                -0.530350   \n",
       "4                         No           -0.150195                -0.412287   \n",
       "5                         No           -0.150195                 0.239076   \n",
       "...                      ...                 ...                      ...   \n",
       "99995                     No                 NaN                      NaN   \n",
       "99996                     No                 NaN                      NaN   \n",
       "99997                     No                 NaN                      NaN   \n",
       "99998                     No                 NaN                      NaN   \n",
       "99999                     No                 NaN                      NaN   \n",
       "\n",
       "                      Payment_Behaviour Monthly_Balance  Credit_Score  \n",
       "0       High_spent_Small_value_payments       -0.122904          Good  \n",
       "1        Low_spent_Large_value_payments       -0.264738          Good  \n",
       "3        Low_spent_Small_value_payments        0.024683          Good  \n",
       "4      High_spent_Medium_value_payments        0.019542          Good  \n",
       "5       Low_spent_Medium_value_payments       -0.468666          Good  \n",
       "...                                 ...             ...           ...  \n",
       "99995   High_spent_Large_value_payments             NaN          Poor  \n",
       "99996  High_spent_Medium_value_payments             NaN          Poor  \n",
       "99997   High_spent_Large_value_payments             NaN          Poor  \n",
       "99998    Low_spent_Large_value_payments             NaN      Standard  \n",
       "99999   Low_spent_Medium_value_payments             NaN          Poor  \n",
       "\n",
       "[97900 rows x 21 columns]"
      ]
     },
     "execution_count": 46,
     "metadata": {},
     "output_type": "execute_result"
    }
   ],
   "source": [
    "train_df"
   ]
  },
  {
   "cell_type": "code",
   "execution_count": 47,
   "id": "4b4209ff",
   "metadata": {
    "execution": {
     "iopub.execute_input": "2022-12-15T11:10:13.396004Z",
     "iopub.status.busy": "2022-12-15T11:10:13.394743Z",
     "iopub.status.idle": "2022-12-15T11:10:13.570992Z",
     "shell.execute_reply": "2022-12-15T11:10:13.569630Z"
    },
    "papermill": {
     "duration": 0.209257,
     "end_time": "2022-12-15T11:10:13.573997",
     "exception": false,
     "start_time": "2022-12-15T11:10:13.364740",
     "status": "completed"
    },
    "tags": []
   },
   "outputs": [],
   "source": [
    "train_df['Credit_Score'].replace({\"Poor\":0, \"Standard\":1, \"Good\":2}, inplace=True)\n",
    "train_df['Credit_Mix'].replace({\"Bad\":0, \"Standard\":1, \"Good\":2}, inplace=True)\n",
    "train_df['Payment_of_Min_Amount'].replace({\"Yes\":1, \"No\":0}, inplace=True)\n",
    "train_df = pd.get_dummies(train_df, columns = ['Occupation', 'Payment_Behaviour'])"
   ]
  },
  {
   "cell_type": "code",
   "execution_count": 48,
   "id": "9cd1d98a",
   "metadata": {
    "execution": {
     "iopub.execute_input": "2022-12-15T11:10:13.632376Z",
     "iopub.status.busy": "2022-12-15T11:10:13.631925Z",
     "iopub.status.idle": "2022-12-15T11:10:13.672070Z",
     "shell.execute_reply": "2022-12-15T11:10:13.671157Z"
    },
    "papermill": {
     "duration": 0.073235,
     "end_time": "2022-12-15T11:10:13.674773",
     "exception": false,
     "start_time": "2022-12-15T11:10:13.601538",
     "status": "completed"
    },
    "tags": []
   },
   "outputs": [
    {
     "data": {
      "text/html": [
       "<div>\n",
       "<style scoped>\n",
       "    .dataframe tbody tr th:only-of-type {\n",
       "        vertical-align: middle;\n",
       "    }\n",
       "\n",
       "    .dataframe tbody tr th {\n",
       "        vertical-align: top;\n",
       "    }\n",
       "\n",
       "    .dataframe thead th {\n",
       "        text-align: right;\n",
       "    }\n",
       "</style>\n",
       "<table border=\"1\" class=\"dataframe\">\n",
       "  <thead>\n",
       "    <tr style=\"text-align: right;\">\n",
       "      <th></th>\n",
       "      <th>Age</th>\n",
       "      <th>Annual_Income</th>\n",
       "      <th>Monthly_Inhand_Salary</th>\n",
       "      <th>Num_Bank_Accounts</th>\n",
       "      <th>Num_Credit_Card</th>\n",
       "      <th>Interest_Rate</th>\n",
       "      <th>Num_of_Loan</th>\n",
       "      <th>Delay_from_due_date</th>\n",
       "      <th>Num_of_Delayed_Payment</th>\n",
       "      <th>Changed_Credit_Limit</th>\n",
       "      <th>...</th>\n",
       "      <th>Occupation_Musician</th>\n",
       "      <th>Occupation_Scientist</th>\n",
       "      <th>Occupation_Teacher</th>\n",
       "      <th>Occupation_Writer</th>\n",
       "      <th>Payment_Behaviour_High_spent_Large_value_payments</th>\n",
       "      <th>Payment_Behaviour_High_spent_Medium_value_payments</th>\n",
       "      <th>Payment_Behaviour_High_spent_Small_value_payments</th>\n",
       "      <th>Payment_Behaviour_Low_spent_Large_value_payments</th>\n",
       "      <th>Payment_Behaviour_Low_spent_Medium_value_payments</th>\n",
       "      <th>Payment_Behaviour_Low_spent_Small_value_payments</th>\n",
       "    </tr>\n",
       "  </thead>\n",
       "  <tbody>\n",
       "    <tr>\n",
       "      <th>0</th>\n",
       "      <td>-0.647059</td>\n",
       "      <td>-0.346184</td>\n",
       "      <td>-0.353833</td>\n",
       "      <td>-0.75</td>\n",
       "      <td>-0.333333</td>\n",
       "      <td>-0.833333</td>\n",
       "      <td>0.25</td>\n",
       "      <td>-0.833333</td>\n",
       "      <td>-0.777778</td>\n",
       "      <td>0.196429</td>\n",
       "      <td>...</td>\n",
       "      <td>0</td>\n",
       "      <td>1</td>\n",
       "      <td>0</td>\n",
       "      <td>0</td>\n",
       "      <td>0</td>\n",
       "      <td>0</td>\n",
       "      <td>1</td>\n",
       "      <td>0</td>\n",
       "      <td>0</td>\n",
       "      <td>0</td>\n",
       "    </tr>\n",
       "    <tr>\n",
       "      <th>1</th>\n",
       "      <td>-0.647059</td>\n",
       "      <td>-0.346184</td>\n",
       "      <td>0.000000</td>\n",
       "      <td>-0.75</td>\n",
       "      <td>-0.333333</td>\n",
       "      <td>-0.833333</td>\n",
       "      <td>0.25</td>\n",
       "      <td>-1.055556</td>\n",
       "      <td>0.000000</td>\n",
       "      <td>0.196429</td>\n",
       "      <td>...</td>\n",
       "      <td>0</td>\n",
       "      <td>1</td>\n",
       "      <td>0</td>\n",
       "      <td>0</td>\n",
       "      <td>0</td>\n",
       "      <td>0</td>\n",
       "      <td>0</td>\n",
       "      <td>1</td>\n",
       "      <td>0</td>\n",
       "      <td>0</td>\n",
       "    </tr>\n",
       "    <tr>\n",
       "      <th>3</th>\n",
       "      <td>-0.647059</td>\n",
       "      <td>-0.346184</td>\n",
       "      <td>-0.353833</td>\n",
       "      <td>-0.75</td>\n",
       "      <td>-0.333333</td>\n",
       "      <td>-0.833333</td>\n",
       "      <td>0.25</td>\n",
       "      <td>-0.666667</td>\n",
       "      <td>0.000000</td>\n",
       "      <td>0.196429</td>\n",
       "      <td>...</td>\n",
       "      <td>0</td>\n",
       "      <td>1</td>\n",
       "      <td>0</td>\n",
       "      <td>0</td>\n",
       "      <td>0</td>\n",
       "      <td>0</td>\n",
       "      <td>0</td>\n",
       "      <td>0</td>\n",
       "      <td>0</td>\n",
       "      <td>1</td>\n",
       "    </tr>\n",
       "    <tr>\n",
       "      <th>4</th>\n",
       "      <td>-0.647059</td>\n",
       "      <td>-0.346184</td>\n",
       "      <td>0.000000</td>\n",
       "      <td>-0.75</td>\n",
       "      <td>-0.333333</td>\n",
       "      <td>-0.833333</td>\n",
       "      <td>0.25</td>\n",
       "      <td>-0.555556</td>\n",
       "      <td>-1.111111</td>\n",
       "      <td>-0.013655</td>\n",
       "      <td>...</td>\n",
       "      <td>0</td>\n",
       "      <td>1</td>\n",
       "      <td>0</td>\n",
       "      <td>0</td>\n",
       "      <td>0</td>\n",
       "      <td>1</td>\n",
       "      <td>0</td>\n",
       "      <td>0</td>\n",
       "      <td>0</td>\n",
       "      <td>0</td>\n",
       "    </tr>\n",
       "    <tr>\n",
       "      <th>5</th>\n",
       "      <td>-0.647059</td>\n",
       "      <td>-0.346184</td>\n",
       "      <td>-0.353833</td>\n",
       "      <td>-0.75</td>\n",
       "      <td>-0.333333</td>\n",
       "      <td>-0.833333</td>\n",
       "      <td>0.25</td>\n",
       "      <td>-0.833333</td>\n",
       "      <td>-0.666667</td>\n",
       "      <td>0.196429</td>\n",
       "      <td>...</td>\n",
       "      <td>0</td>\n",
       "      <td>1</td>\n",
       "      <td>0</td>\n",
       "      <td>0</td>\n",
       "      <td>0</td>\n",
       "      <td>0</td>\n",
       "      <td>0</td>\n",
       "      <td>0</td>\n",
       "      <td>1</td>\n",
       "      <td>0</td>\n",
       "    </tr>\n",
       "    <tr>\n",
       "      <th>...</th>\n",
       "      <td>...</td>\n",
       "      <td>...</td>\n",
       "      <td>...</td>\n",
       "      <td>...</td>\n",
       "      <td>...</td>\n",
       "      <td>...</td>\n",
       "      <td>...</td>\n",
       "      <td>...</td>\n",
       "      <td>...</td>\n",
       "      <td>...</td>\n",
       "      <td>...</td>\n",
       "      <td>...</td>\n",
       "      <td>...</td>\n",
       "      <td>...</td>\n",
       "      <td>...</td>\n",
       "      <td>...</td>\n",
       "      <td>...</td>\n",
       "      <td>...</td>\n",
       "      <td>...</td>\n",
       "      <td>...</td>\n",
       "      <td>...</td>\n",
       "    </tr>\n",
       "    <tr>\n",
       "      <th>99995</th>\n",
       "      <td>NaN</td>\n",
       "      <td>NaN</td>\n",
       "      <td>NaN</td>\n",
       "      <td>NaN</td>\n",
       "      <td>NaN</td>\n",
       "      <td>NaN</td>\n",
       "      <td>NaN</td>\n",
       "      <td>NaN</td>\n",
       "      <td>NaN</td>\n",
       "      <td>NaN</td>\n",
       "      <td>...</td>\n",
       "      <td>0</td>\n",
       "      <td>0</td>\n",
       "      <td>0</td>\n",
       "      <td>0</td>\n",
       "      <td>1</td>\n",
       "      <td>0</td>\n",
       "      <td>0</td>\n",
       "      <td>0</td>\n",
       "      <td>0</td>\n",
       "      <td>0</td>\n",
       "    </tr>\n",
       "    <tr>\n",
       "      <th>99996</th>\n",
       "      <td>NaN</td>\n",
       "      <td>NaN</td>\n",
       "      <td>NaN</td>\n",
       "      <td>NaN</td>\n",
       "      <td>NaN</td>\n",
       "      <td>NaN</td>\n",
       "      <td>NaN</td>\n",
       "      <td>NaN</td>\n",
       "      <td>NaN</td>\n",
       "      <td>NaN</td>\n",
       "      <td>...</td>\n",
       "      <td>0</td>\n",
       "      <td>0</td>\n",
       "      <td>0</td>\n",
       "      <td>0</td>\n",
       "      <td>0</td>\n",
       "      <td>1</td>\n",
       "      <td>0</td>\n",
       "      <td>0</td>\n",
       "      <td>0</td>\n",
       "      <td>0</td>\n",
       "    </tr>\n",
       "    <tr>\n",
       "      <th>99997</th>\n",
       "      <td>NaN</td>\n",
       "      <td>NaN</td>\n",
       "      <td>NaN</td>\n",
       "      <td>NaN</td>\n",
       "      <td>NaN</td>\n",
       "      <td>NaN</td>\n",
       "      <td>NaN</td>\n",
       "      <td>NaN</td>\n",
       "      <td>NaN</td>\n",
       "      <td>NaN</td>\n",
       "      <td>...</td>\n",
       "      <td>0</td>\n",
       "      <td>0</td>\n",
       "      <td>0</td>\n",
       "      <td>0</td>\n",
       "      <td>1</td>\n",
       "      <td>0</td>\n",
       "      <td>0</td>\n",
       "      <td>0</td>\n",
       "      <td>0</td>\n",
       "      <td>0</td>\n",
       "    </tr>\n",
       "    <tr>\n",
       "      <th>99998</th>\n",
       "      <td>NaN</td>\n",
       "      <td>NaN</td>\n",
       "      <td>NaN</td>\n",
       "      <td>NaN</td>\n",
       "      <td>NaN</td>\n",
       "      <td>NaN</td>\n",
       "      <td>NaN</td>\n",
       "      <td>NaN</td>\n",
       "      <td>NaN</td>\n",
       "      <td>NaN</td>\n",
       "      <td>...</td>\n",
       "      <td>0</td>\n",
       "      <td>0</td>\n",
       "      <td>0</td>\n",
       "      <td>0</td>\n",
       "      <td>0</td>\n",
       "      <td>0</td>\n",
       "      <td>0</td>\n",
       "      <td>1</td>\n",
       "      <td>0</td>\n",
       "      <td>0</td>\n",
       "    </tr>\n",
       "    <tr>\n",
       "      <th>99999</th>\n",
       "      <td>NaN</td>\n",
       "      <td>NaN</td>\n",
       "      <td>NaN</td>\n",
       "      <td>NaN</td>\n",
       "      <td>NaN</td>\n",
       "      <td>NaN</td>\n",
       "      <td>NaN</td>\n",
       "      <td>NaN</td>\n",
       "      <td>NaN</td>\n",
       "      <td>NaN</td>\n",
       "      <td>...</td>\n",
       "      <td>0</td>\n",
       "      <td>0</td>\n",
       "      <td>0</td>\n",
       "      <td>0</td>\n",
       "      <td>0</td>\n",
       "      <td>0</td>\n",
       "      <td>0</td>\n",
       "      <td>0</td>\n",
       "      <td>1</td>\n",
       "      <td>0</td>\n",
       "    </tr>\n",
       "  </tbody>\n",
       "</table>\n",
       "<p>97900 rows × 40 columns</p>\n",
       "</div>"
      ],
      "text/plain": [
       "            Age  Annual_Income  Monthly_Inhand_Salary  Num_Bank_Accounts  \\\n",
       "0     -0.647059      -0.346184              -0.353833              -0.75   \n",
       "1     -0.647059      -0.346184               0.000000              -0.75   \n",
       "3     -0.647059      -0.346184              -0.353833              -0.75   \n",
       "4     -0.647059      -0.346184               0.000000              -0.75   \n",
       "5     -0.647059      -0.346184              -0.353833              -0.75   \n",
       "...         ...            ...                    ...                ...   \n",
       "99995       NaN            NaN                    NaN                NaN   \n",
       "99996       NaN            NaN                    NaN                NaN   \n",
       "99997       NaN            NaN                    NaN                NaN   \n",
       "99998       NaN            NaN                    NaN                NaN   \n",
       "99999       NaN            NaN                    NaN                NaN   \n",
       "\n",
       "       Num_Credit_Card  Interest_Rate  Num_of_Loan  Delay_from_due_date  \\\n",
       "0            -0.333333      -0.833333         0.25            -0.833333   \n",
       "1            -0.333333      -0.833333         0.25            -1.055556   \n",
       "3            -0.333333      -0.833333         0.25            -0.666667   \n",
       "4            -0.333333      -0.833333         0.25            -0.555556   \n",
       "5            -0.333333      -0.833333         0.25            -0.833333   \n",
       "...                ...            ...          ...                  ...   \n",
       "99995              NaN            NaN          NaN                  NaN   \n",
       "99996              NaN            NaN          NaN                  NaN   \n",
       "99997              NaN            NaN          NaN                  NaN   \n",
       "99998              NaN            NaN          NaN                  NaN   \n",
       "99999              NaN            NaN          NaN                  NaN   \n",
       "\n",
       "       Num_of_Delayed_Payment  Changed_Credit_Limit  ...  Occupation_Musician  \\\n",
       "0                   -0.777778              0.196429  ...                    0   \n",
       "1                    0.000000              0.196429  ...                    0   \n",
       "3                    0.000000              0.196429  ...                    0   \n",
       "4                   -1.111111             -0.013655  ...                    0   \n",
       "5                   -0.666667              0.196429  ...                    0   \n",
       "...                       ...                   ...  ...                  ...   \n",
       "99995                     NaN                   NaN  ...                    0   \n",
       "99996                     NaN                   NaN  ...                    0   \n",
       "99997                     NaN                   NaN  ...                    0   \n",
       "99998                     NaN                   NaN  ...                    0   \n",
       "99999                     NaN                   NaN  ...                    0   \n",
       "\n",
       "       Occupation_Scientist  Occupation_Teacher  Occupation_Writer  \\\n",
       "0                         1                   0                  0   \n",
       "1                         1                   0                  0   \n",
       "3                         1                   0                  0   \n",
       "4                         1                   0                  0   \n",
       "5                         1                   0                  0   \n",
       "...                     ...                 ...                ...   \n",
       "99995                     0                   0                  0   \n",
       "99996                     0                   0                  0   \n",
       "99997                     0                   0                  0   \n",
       "99998                     0                   0                  0   \n",
       "99999                     0                   0                  0   \n",
       "\n",
       "       Payment_Behaviour_High_spent_Large_value_payments  \\\n",
       "0                                                      0   \n",
       "1                                                      0   \n",
       "3                                                      0   \n",
       "4                                                      0   \n",
       "5                                                      0   \n",
       "...                                                  ...   \n",
       "99995                                                  1   \n",
       "99996                                                  0   \n",
       "99997                                                  1   \n",
       "99998                                                  0   \n",
       "99999                                                  0   \n",
       "\n",
       "       Payment_Behaviour_High_spent_Medium_value_payments  \\\n",
       "0                                                      0    \n",
       "1                                                      0    \n",
       "3                                                      0    \n",
       "4                                                      1    \n",
       "5                                                      0    \n",
       "...                                                  ...    \n",
       "99995                                                  0    \n",
       "99996                                                  1    \n",
       "99997                                                  0    \n",
       "99998                                                  0    \n",
       "99999                                                  0    \n",
       "\n",
       "       Payment_Behaviour_High_spent_Small_value_payments  \\\n",
       "0                                                      1   \n",
       "1                                                      0   \n",
       "3                                                      0   \n",
       "4                                                      0   \n",
       "5                                                      0   \n",
       "...                                                  ...   \n",
       "99995                                                  0   \n",
       "99996                                                  0   \n",
       "99997                                                  0   \n",
       "99998                                                  0   \n",
       "99999                                                  0   \n",
       "\n",
       "       Payment_Behaviour_Low_spent_Large_value_payments  \\\n",
       "0                                                     0   \n",
       "1                                                     1   \n",
       "3                                                     0   \n",
       "4                                                     0   \n",
       "5                                                     0   \n",
       "...                                                 ...   \n",
       "99995                                                 0   \n",
       "99996                                                 0   \n",
       "99997                                                 0   \n",
       "99998                                                 1   \n",
       "99999                                                 0   \n",
       "\n",
       "       Payment_Behaviour_Low_spent_Medium_value_payments  \\\n",
       "0                                                      0   \n",
       "1                                                      0   \n",
       "3                                                      0   \n",
       "4                                                      0   \n",
       "5                                                      1   \n",
       "...                                                  ...   \n",
       "99995                                                  0   \n",
       "99996                                                  0   \n",
       "99997                                                  0   \n",
       "99998                                                  0   \n",
       "99999                                                  1   \n",
       "\n",
       "       Payment_Behaviour_Low_spent_Small_value_payments  \n",
       "0                                                     0  \n",
       "1                                                     0  \n",
       "3                                                     1  \n",
       "4                                                     0  \n",
       "5                                                     0  \n",
       "...                                                 ...  \n",
       "99995                                                 0  \n",
       "99996                                                 0  \n",
       "99997                                                 0  \n",
       "99998                                                 0  \n",
       "99999                                                 0  \n",
       "\n",
       "[97900 rows x 40 columns]"
      ]
     },
     "execution_count": 48,
     "metadata": {},
     "output_type": "execute_result"
    }
   ],
   "source": [
    "train_df"
   ]
  },
  {
   "cell_type": "code",
   "execution_count": 49,
   "id": "caabc131",
   "metadata": {
    "execution": {
     "iopub.execute_input": "2022-12-15T11:10:13.735908Z",
     "iopub.status.busy": "2022-12-15T11:10:13.735453Z",
     "iopub.status.idle": "2022-12-15T11:10:13.753625Z",
     "shell.execute_reply": "2022-12-15T11:10:13.752225Z"
    },
    "papermill": {
     "duration": 0.052695,
     "end_time": "2022-12-15T11:10:13.756511",
     "exception": false,
     "start_time": "2022-12-15T11:10:13.703816",
     "status": "completed"
    },
    "tags": []
   },
   "outputs": [],
   "source": [
    "for i in numeric_cols:\n",
    "    train_df[i].fillna(method='ffill', inplace=True)"
   ]
  },
  {
   "cell_type": "code",
   "execution_count": 50,
   "id": "df2039d2",
   "metadata": {
    "execution": {
     "iopub.execute_input": "2022-12-15T11:10:13.820029Z",
     "iopub.status.busy": "2022-12-15T11:10:13.819189Z",
     "iopub.status.idle": "2022-12-15T11:10:13.841529Z",
     "shell.execute_reply": "2022-12-15T11:10:13.840255Z"
    },
    "papermill": {
     "duration": 0.059235,
     "end_time": "2022-12-15T11:10:13.844340",
     "exception": false,
     "start_time": "2022-12-15T11:10:13.785105",
     "status": "completed"
    },
    "tags": []
   },
   "outputs": [],
   "source": [
    "X = train_df.drop(['Credit_Score'],axis=1)\n",
    "y = train_df['Credit_Score']"
   ]
  },
  {
   "cell_type": "code",
   "execution_count": 51,
   "id": "1bacb0df",
   "metadata": {
    "execution": {
     "iopub.execute_input": "2022-12-15T11:10:13.903950Z",
     "iopub.status.busy": "2022-12-15T11:10:13.903516Z",
     "iopub.status.idle": "2022-12-15T11:10:13.945751Z",
     "shell.execute_reply": "2022-12-15T11:10:13.944435Z"
    },
    "papermill": {
     "duration": 0.075996,
     "end_time": "2022-12-15T11:10:13.948528",
     "exception": false,
     "start_time": "2022-12-15T11:10:13.872532",
     "status": "completed"
    },
    "tags": []
   },
   "outputs": [],
   "source": [
    "X_train, X_test, y_train, y_test = train_test_split(X, y, test_size=0.33, random_state=17)\n"
   ]
  },
  {
   "cell_type": "code",
   "execution_count": 52,
   "id": "79a3ac2b",
   "metadata": {
    "execution": {
     "iopub.execute_input": "2022-12-15T11:10:14.007987Z",
     "iopub.status.busy": "2022-12-15T11:10:14.007531Z",
     "iopub.status.idle": "2022-12-15T11:10:14.012949Z",
     "shell.execute_reply": "2022-12-15T11:10:14.011695Z"
    },
    "papermill": {
     "duration": 0.038279,
     "end_time": "2022-12-15T11:10:14.015800",
     "exception": false,
     "start_time": "2022-12-15T11:10:13.977521",
     "status": "completed"
    },
    "tags": []
   },
   "outputs": [],
   "source": [
    "lr = LogisticRegression(n_jobs=-1,random_state=17,)"
   ]
  },
  {
   "cell_type": "code",
   "execution_count": 53,
   "id": "0af4f9fb",
   "metadata": {
    "execution": {
     "iopub.execute_input": "2022-12-15T11:10:14.075115Z",
     "iopub.status.busy": "2022-12-15T11:10:14.074645Z",
     "iopub.status.idle": "2022-12-15T11:10:14.080183Z",
     "shell.execute_reply": "2022-12-15T11:10:14.078965Z"
    },
    "papermill": {
     "duration": 0.037965,
     "end_time": "2022-12-15T11:10:14.082676",
     "exception": false,
     "start_time": "2022-12-15T11:10:14.044711",
     "status": "completed"
    },
    "tags": []
   },
   "outputs": [],
   "source": [
    "param = {'C': range(0,11)}"
   ]
  },
  {
   "cell_type": "code",
   "execution_count": 54,
   "id": "a8043df5",
   "metadata": {
    "execution": {
     "iopub.execute_input": "2022-12-15T11:10:14.141875Z",
     "iopub.status.busy": "2022-12-15T11:10:14.141440Z",
     "iopub.status.idle": "2022-12-15T11:10:14.146742Z",
     "shell.execute_reply": "2022-12-15T11:10:14.145371Z"
    },
    "papermill": {
     "duration": 0.037787,
     "end_time": "2022-12-15T11:10:14.149419",
     "exception": false,
     "start_time": "2022-12-15T11:10:14.111632",
     "status": "completed"
    },
    "tags": []
   },
   "outputs": [],
   "source": [
    "lr_greed = GridSearchCV(lr,param,cv=5)"
   ]
  },
  {
   "cell_type": "code",
   "execution_count": 55,
   "id": "2d9d2b38",
   "metadata": {
    "execution": {
     "iopub.execute_input": "2022-12-15T11:10:14.207734Z",
     "iopub.status.busy": "2022-12-15T11:10:14.207266Z",
     "iopub.status.idle": "2022-12-15T11:14:06.461896Z",
     "shell.execute_reply": "2022-12-15T11:14:06.460488Z"
    },
    "papermill": {
     "duration": 232.28696,
     "end_time": "2022-12-15T11:14:06.464400",
     "exception": false,
     "start_time": "2022-12-15T11:10:14.177440",
     "status": "completed"
    },
    "tags": []
   },
   "outputs": [
    {
     "name": "stderr",
     "output_type": "stream",
     "text": [
      "/opt/conda/lib/python3.7/site-packages/sklearn/model_selection/_validation.py:372: FitFailedWarning: \n",
      "5 fits failed out of a total of 55.\n",
      "The score on these train-test partitions for these parameters will be set to nan.\n",
      "If these failures are not expected, you can try to debug them by setting error_score='raise'.\n",
      "\n",
      "Below are more details about the failures:\n",
      "--------------------------------------------------------------------------------\n",
      "5 fits failed with the following error:\n",
      "joblib.externals.loky.process_executor._RemoteTraceback: \n",
      "\"\"\"\n",
      "Traceback (most recent call last):\n",
      "  File \"/opt/conda/lib/python3.7/site-packages/joblib/externals/loky/process_executor.py\", line 431, in _process_worker\n",
      "    r = call_item()\n",
      "  File \"/opt/conda/lib/python3.7/site-packages/joblib/externals/loky/process_executor.py\", line 285, in __call__\n",
      "    return self.fn(*self.args, **self.kwargs)\n",
      "  File \"/opt/conda/lib/python3.7/site-packages/joblib/_parallel_backends.py\", line 595, in __call__\n",
      "    return self.func(*args, **kwargs)\n",
      "  File \"/opt/conda/lib/python3.7/site-packages/joblib/parallel.py\", line 263, in __call__\n",
      "    for func, args, kwargs in self.items]\n",
      "  File \"/opt/conda/lib/python3.7/site-packages/joblib/parallel.py\", line 263, in <listcomp>\n",
      "    for func, args, kwargs in self.items]\n",
      "  File \"/opt/conda/lib/python3.7/site-packages/sklearn/utils/fixes.py\", line 216, in __call__\n",
      "    return self.function(*args, **kwargs)\n",
      "  File \"/opt/conda/lib/python3.7/site-packages/sklearn/linear_model/_logistic.py\", line 811, in _logistic_regression_path\n",
      "    args=(X, target, 1.0 / C, sample_weight),\n",
      "ZeroDivisionError: float division by zero\n",
      "\"\"\"\n",
      "\n",
      "The above exception was the direct cause of the following exception:\n",
      "\n",
      "Traceback (most recent call last):\n",
      "  File \"/opt/conda/lib/python3.7/site-packages/sklearn/model_selection/_validation.py\", line 680, in _fit_and_score\n",
      "    estimator.fit(X_train, y_train, **fit_params)\n",
      "  File \"/opt/conda/lib/python3.7/site-packages/sklearn/linear_model/_logistic.py\", line 1614, in fit\n",
      "    for class_, warm_start_coef_ in zip(classes_, warm_start_coef)\n",
      "  File \"/opt/conda/lib/python3.7/site-packages/joblib/parallel.py\", line 1054, in __call__\n",
      "    self.retrieve()\n",
      "  File \"/opt/conda/lib/python3.7/site-packages/joblib/parallel.py\", line 933, in retrieve\n",
      "    self._output.extend(job.get(timeout=self.timeout))\n",
      "  File \"/opt/conda/lib/python3.7/site-packages/joblib/_parallel_backends.py\", line 542, in wrap_future_result\n",
      "    return future.result(timeout=timeout)\n",
      "  File \"/opt/conda/lib/python3.7/concurrent/futures/_base.py\", line 435, in result\n",
      "    return self.__get_result()\n",
      "  File \"/opt/conda/lib/python3.7/concurrent/futures/_base.py\", line 384, in __get_result\n",
      "    raise self._exception\n",
      "ZeroDivisionError: float division by zero\n",
      "\n",
      "  warnings.warn(some_fits_failed_message, FitFailedWarning)\n",
      "/opt/conda/lib/python3.7/site-packages/sklearn/model_selection/_search.py:972: UserWarning: One or more of the test scores are non-finite: [       nan 0.57654013 0.57734817 0.57753105 0.57618952 0.5754578\n",
      " 0.57411612 0.57471068 0.57358261 0.57611332 0.57676886]\n",
      "  category=UserWarning,\n"
     ]
    },
    {
     "data": {
      "text/plain": [
       "GridSearchCV(cv=5, estimator=LogisticRegression(n_jobs=-1, random_state=17),\n",
       "             param_grid={'C': range(0, 11)})"
      ]
     },
     "execution_count": 55,
     "metadata": {},
     "output_type": "execute_result"
    }
   ],
   "source": [
    "lr_greed.fit(X_train,y_train)"
   ]
  },
  {
   "cell_type": "code",
   "execution_count": 56,
   "id": "8d08270b",
   "metadata": {
    "execution": {
     "iopub.execute_input": "2022-12-15T11:14:06.524781Z",
     "iopub.status.busy": "2022-12-15T11:14:06.524024Z",
     "iopub.status.idle": "2022-12-15T11:14:06.529428Z",
     "shell.execute_reply": "2022-12-15T11:14:06.528525Z"
    },
    "papermill": {
     "duration": 0.038584,
     "end_time": "2022-12-15T11:14:06.531808",
     "exception": false,
     "start_time": "2022-12-15T11:14:06.493224",
     "status": "completed"
    },
    "tags": []
   },
   "outputs": [],
   "source": [
    "lr_best = lr_greed.best_estimator_"
   ]
  },
  {
   "cell_type": "code",
   "execution_count": 57,
   "id": "c42c3269",
   "metadata": {
    "execution": {
     "iopub.execute_input": "2022-12-15T11:14:06.592244Z",
     "iopub.status.busy": "2022-12-15T11:14:06.591823Z",
     "iopub.status.idle": "2022-12-15T11:14:06.622031Z",
     "shell.execute_reply": "2022-12-15T11:14:06.620260Z"
    },
    "papermill": {
     "duration": 0.065241,
     "end_time": "2022-12-15T11:14:06.626670",
     "exception": false,
     "start_time": "2022-12-15T11:14:06.561429",
     "status": "completed"
    },
    "tags": []
   },
   "outputs": [
    {
     "data": {
      "text/plain": [
       "0.5810505463212307"
      ]
     },
     "execution_count": 57,
     "metadata": {},
     "output_type": "execute_result"
    }
   ],
   "source": [
    "lr_best.score(X_test,y_test)"
   ]
  },
  {
   "cell_type": "code",
   "execution_count": 58,
   "id": "6436aa3a",
   "metadata": {
    "execution": {
     "iopub.execute_input": "2022-12-15T11:14:06.750502Z",
     "iopub.status.busy": "2022-12-15T11:14:06.749978Z",
     "iopub.status.idle": "2022-12-15T11:14:06.755948Z",
     "shell.execute_reply": "2022-12-15T11:14:06.754685Z"
    },
    "papermill": {
     "duration": 0.056937,
     "end_time": "2022-12-15T11:14:06.758849",
     "exception": false,
     "start_time": "2022-12-15T11:14:06.701912",
     "status": "completed"
    },
    "tags": []
   },
   "outputs": [],
   "source": [
    "clf_rf = RandomForestClassifier(n_jobs=-1,random_state=17)"
   ]
  },
  {
   "cell_type": "code",
   "execution_count": 59,
   "id": "0ef782f8",
   "metadata": {
    "execution": {
     "iopub.execute_input": "2022-12-15T11:14:06.819988Z",
     "iopub.status.busy": "2022-12-15T11:14:06.819583Z",
     "iopub.status.idle": "2022-12-15T11:14:06.825209Z",
     "shell.execute_reply": "2022-12-15T11:14:06.823904Z"
    },
    "papermill": {
     "duration": 0.039312,
     "end_time": "2022-12-15T11:14:06.827763",
     "exception": false,
     "start_time": "2022-12-15T11:14:06.788451",
     "status": "completed"
    },
    "tags": []
   },
   "outputs": [],
   "source": [
    "parametrs = {\"n_estimators\": [5,10,20,30], 'max_depth': range(1, 10)}\n"
   ]
  },
  {
   "cell_type": "code",
   "execution_count": 60,
   "id": "7bcfb599",
   "metadata": {
    "execution": {
     "iopub.execute_input": "2022-12-15T11:14:06.887377Z",
     "iopub.status.busy": "2022-12-15T11:14:06.886961Z",
     "iopub.status.idle": "2022-12-15T11:14:06.892820Z",
     "shell.execute_reply": "2022-12-15T11:14:06.891307Z"
    },
    "papermill": {
     "duration": 0.038858,
     "end_time": "2022-12-15T11:14:06.895428",
     "exception": false,
     "start_time": "2022-12-15T11:14:06.856570",
     "status": "completed"
    },
    "tags": []
   },
   "outputs": [],
   "source": [
    "clf_rf_grid = GridSearchCV(clf_rf, parametrs, cv=5)"
   ]
  },
  {
   "cell_type": "code",
   "execution_count": 61,
   "id": "a5cced18",
   "metadata": {
    "execution": {
     "iopub.execute_input": "2022-12-15T11:14:06.954963Z",
     "iopub.status.busy": "2022-12-15T11:14:06.954555Z",
     "iopub.status.idle": "2022-12-15T11:16:03.085860Z",
     "shell.execute_reply": "2022-12-15T11:16:03.084242Z"
    },
    "papermill": {
     "duration": 116.193529,
     "end_time": "2022-12-15T11:16:03.118023",
     "exception": false,
     "start_time": "2022-12-15T11:14:06.924494",
     "status": "completed"
    },
    "tags": []
   },
   "outputs": [
    {
     "data": {
      "text/plain": [
       "GridSearchCV(cv=5, estimator=RandomForestClassifier(n_jobs=-1, random_state=17),\n",
       "             param_grid={'max_depth': range(1, 10),\n",
       "                         'n_estimators': [5, 10, 20, 30]})"
      ]
     },
     "execution_count": 61,
     "metadata": {},
     "output_type": "execute_result"
    }
   ],
   "source": [
    "clf_rf_grid.fit(X_train,y_train)"
   ]
  },
  {
   "cell_type": "code",
   "execution_count": 62,
   "id": "84a8f2ba",
   "metadata": {
    "execution": {
     "iopub.execute_input": "2022-12-15T11:16:03.184001Z",
     "iopub.status.busy": "2022-12-15T11:16:03.183562Z",
     "iopub.status.idle": "2022-12-15T11:16:03.189824Z",
     "shell.execute_reply": "2022-12-15T11:16:03.188198Z"
    },
    "papermill": {
     "duration": 0.04092,
     "end_time": "2022-12-15T11:16:03.192508",
     "exception": false,
     "start_time": "2022-12-15T11:16:03.151588",
     "status": "completed"
    },
    "tags": []
   },
   "outputs": [],
   "source": [
    "rf_best = clf_rf_grid.best_estimator_"
   ]
  },
  {
   "cell_type": "code",
   "execution_count": 63,
   "id": "a63f1714",
   "metadata": {
    "execution": {
     "iopub.execute_input": "2022-12-15T11:16:03.254941Z",
     "iopub.status.busy": "2022-12-15T11:16:03.254478Z",
     "iopub.status.idle": "2022-12-15T11:16:03.374849Z",
     "shell.execute_reply": "2022-12-15T11:16:03.373488Z"
    },
    "papermill": {
     "duration": 0.155419,
     "end_time": "2022-12-15T11:16:03.377993",
     "exception": false,
     "start_time": "2022-12-15T11:16:03.222574",
     "status": "completed"
    },
    "tags": []
   },
   "outputs": [
    {
     "data": {
      "text/plain": [
       "0.5868387655925961"
      ]
     },
     "execution_count": 63,
     "metadata": {},
     "output_type": "execute_result"
    }
   ],
   "source": [
    "rf_best.score(X_test,y_test)"
   ]
  },
  {
   "cell_type": "code",
   "execution_count": null,
   "id": "b3fae020",
   "metadata": {
    "papermill": {
     "duration": 0.030195,
     "end_time": "2022-12-15T11:16:03.438647",
     "exception": false,
     "start_time": "2022-12-15T11:16:03.408452",
     "status": "completed"
    },
    "tags": []
   },
   "outputs": [],
   "source": []
  }
 ],
 "metadata": {
  "kernelspec": {
   "display_name": "Python 3",
   "language": "python",
   "name": "python3"
  },
  "language_info": {
   "codemirror_mode": {
    "name": "ipython",
    "version": 3
   },
   "file_extension": ".py",
   "mimetype": "text/x-python",
   "name": "python",
   "nbconvert_exporter": "python",
   "pygments_lexer": "ipython3",
   "version": "3.7.12"
  },
  "papermill": {
   "default_parameters": {},
   "duration": 392.091656,
   "end_time": "2022-12-15T11:16:06.094250",
   "environment_variables": {},
   "exception": null,
   "input_path": "__notebook__.ipynb",
   "output_path": "__notebook__.ipynb",
   "parameters": {},
   "start_time": "2022-12-15T11:09:34.002594",
   "version": "2.3.4"
  }
 },
 "nbformat": 4,
 "nbformat_minor": 5
}
